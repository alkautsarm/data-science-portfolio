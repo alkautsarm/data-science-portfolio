{
  "nbformat": 4,
  "nbformat_minor": 0,
  "metadata": {
    "colab": {
      "name": "Sentiment Analysis Model Comparison on IMDB Reviews.ipynb",
      "provenance": [],
      "collapsed_sections": [],
      "toc_visible": true
    },
    "kernelspec": {
      "display_name": "Python 3",
      "name": "python3"
    },
    "language_info": {
      "name": "python"
    },
    "widgets": {
      "application/vnd.jupyter.widget-state+json": {
        "06088a9219954d5e808c490893c94b9e": {
          "model_module": "@jupyter-widgets/controls",
          "model_name": "HBoxModel",
          "state": {
            "_view_name": "HBoxView",
            "_dom_classes": [],
            "_model_name": "HBoxModel",
            "_view_module": "@jupyter-widgets/controls",
            "_model_module_version": "1.5.0",
            "_view_count": null,
            "_view_module_version": "1.5.0",
            "box_style": "",
            "layout": "IPY_MODEL_395e05d929e84775b54d095030e2f4fb",
            "_model_module": "@jupyter-widgets/controls",
            "children": [
              "IPY_MODEL_02d3d7db9f274dc9bf764114bcb75bfc",
              "IPY_MODEL_f86624c4e11647d5846206e7ec42de97"
            ]
          }
        },
        "395e05d929e84775b54d095030e2f4fb": {
          "model_module": "@jupyter-widgets/base",
          "model_name": "LayoutModel",
          "state": {
            "_view_name": "LayoutView",
            "grid_template_rows": null,
            "right": null,
            "justify_content": null,
            "_view_module": "@jupyter-widgets/base",
            "overflow": null,
            "_model_module_version": "1.2.0",
            "_view_count": null,
            "flex_flow": null,
            "width": null,
            "min_width": null,
            "border": null,
            "align_items": null,
            "bottom": null,
            "_model_module": "@jupyter-widgets/base",
            "top": null,
            "grid_column": null,
            "overflow_y": null,
            "overflow_x": null,
            "grid_auto_flow": null,
            "grid_area": null,
            "grid_template_columns": null,
            "flex": null,
            "_model_name": "LayoutModel",
            "justify_items": null,
            "grid_row": null,
            "max_height": null,
            "align_content": null,
            "visibility": null,
            "align_self": null,
            "height": null,
            "min_height": null,
            "padding": null,
            "grid_auto_rows": null,
            "grid_gap": null,
            "max_width": null,
            "order": null,
            "_view_module_version": "1.2.0",
            "grid_template_areas": null,
            "object_position": null,
            "object_fit": null,
            "grid_auto_columns": null,
            "margin": null,
            "display": null,
            "left": null
          }
        },
        "02d3d7db9f274dc9bf764114bcb75bfc": {
          "model_module": "@jupyter-widgets/controls",
          "model_name": "FloatProgressModel",
          "state": {
            "_view_name": "ProgressView",
            "style": "IPY_MODEL_14acf76f9ef84a2b807b1d110e1a9e0a",
            "_dom_classes": [],
            "description": "Dl Completed...: 100%",
            "_model_name": "FloatProgressModel",
            "bar_style": "success",
            "max": 1,
            "_view_module": "@jupyter-widgets/controls",
            "_model_module_version": "1.5.0",
            "value": 1,
            "_view_count": null,
            "_view_module_version": "1.5.0",
            "orientation": "horizontal",
            "min": 0,
            "description_tooltip": null,
            "_model_module": "@jupyter-widgets/controls",
            "layout": "IPY_MODEL_f175f6c8aba543c9859e3e23f54084b4"
          }
        },
        "f86624c4e11647d5846206e7ec42de97": {
          "model_module": "@jupyter-widgets/controls",
          "model_name": "HTMLModel",
          "state": {
            "_view_name": "HTMLView",
            "style": "IPY_MODEL_ed583d4f64cc4d67820c2d4c15ef758c",
            "_dom_classes": [],
            "description": "",
            "_model_name": "HTMLModel",
            "placeholder": "​",
            "_view_module": "@jupyter-widgets/controls",
            "_model_module_version": "1.5.0",
            "value": " 1/1 [00:03&lt;00:00,  3.19s/ url]",
            "_view_count": null,
            "_view_module_version": "1.5.0",
            "description_tooltip": null,
            "_model_module": "@jupyter-widgets/controls",
            "layout": "IPY_MODEL_b51f3b7f228a4144b3d4905a370c4297"
          }
        },
        "14acf76f9ef84a2b807b1d110e1a9e0a": {
          "model_module": "@jupyter-widgets/controls",
          "model_name": "ProgressStyleModel",
          "state": {
            "_view_name": "StyleView",
            "_model_name": "ProgressStyleModel",
            "description_width": "initial",
            "_view_module": "@jupyter-widgets/base",
            "_model_module_version": "1.5.0",
            "_view_count": null,
            "_view_module_version": "1.2.0",
            "bar_color": null,
            "_model_module": "@jupyter-widgets/controls"
          }
        },
        "f175f6c8aba543c9859e3e23f54084b4": {
          "model_module": "@jupyter-widgets/base",
          "model_name": "LayoutModel",
          "state": {
            "_view_name": "LayoutView",
            "grid_template_rows": null,
            "right": null,
            "justify_content": null,
            "_view_module": "@jupyter-widgets/base",
            "overflow": null,
            "_model_module_version": "1.2.0",
            "_view_count": null,
            "flex_flow": null,
            "width": null,
            "min_width": null,
            "border": null,
            "align_items": null,
            "bottom": null,
            "_model_module": "@jupyter-widgets/base",
            "top": null,
            "grid_column": null,
            "overflow_y": null,
            "overflow_x": null,
            "grid_auto_flow": null,
            "grid_area": null,
            "grid_template_columns": null,
            "flex": null,
            "_model_name": "LayoutModel",
            "justify_items": null,
            "grid_row": null,
            "max_height": null,
            "align_content": null,
            "visibility": null,
            "align_self": null,
            "height": null,
            "min_height": null,
            "padding": null,
            "grid_auto_rows": null,
            "grid_gap": null,
            "max_width": null,
            "order": null,
            "_view_module_version": "1.2.0",
            "grid_template_areas": null,
            "object_position": null,
            "object_fit": null,
            "grid_auto_columns": null,
            "margin": null,
            "display": null,
            "left": null
          }
        },
        "ed583d4f64cc4d67820c2d4c15ef758c": {
          "model_module": "@jupyter-widgets/controls",
          "model_name": "DescriptionStyleModel",
          "state": {
            "_view_name": "StyleView",
            "_model_name": "DescriptionStyleModel",
            "description_width": "",
            "_view_module": "@jupyter-widgets/base",
            "_model_module_version": "1.5.0",
            "_view_count": null,
            "_view_module_version": "1.2.0",
            "_model_module": "@jupyter-widgets/controls"
          }
        },
        "b51f3b7f228a4144b3d4905a370c4297": {
          "model_module": "@jupyter-widgets/base",
          "model_name": "LayoutModel",
          "state": {
            "_view_name": "LayoutView",
            "grid_template_rows": null,
            "right": null,
            "justify_content": null,
            "_view_module": "@jupyter-widgets/base",
            "overflow": null,
            "_model_module_version": "1.2.0",
            "_view_count": null,
            "flex_flow": null,
            "width": null,
            "min_width": null,
            "border": null,
            "align_items": null,
            "bottom": null,
            "_model_module": "@jupyter-widgets/base",
            "top": null,
            "grid_column": null,
            "overflow_y": null,
            "overflow_x": null,
            "grid_auto_flow": null,
            "grid_area": null,
            "grid_template_columns": null,
            "flex": null,
            "_model_name": "LayoutModel",
            "justify_items": null,
            "grid_row": null,
            "max_height": null,
            "align_content": null,
            "visibility": null,
            "align_self": null,
            "height": null,
            "min_height": null,
            "padding": null,
            "grid_auto_rows": null,
            "grid_gap": null,
            "max_width": null,
            "order": null,
            "_view_module_version": "1.2.0",
            "grid_template_areas": null,
            "object_position": null,
            "object_fit": null,
            "grid_auto_columns": null,
            "margin": null,
            "display": null,
            "left": null
          }
        },
        "b51f7a6b40dd45c5a275af4e1b50169d": {
          "model_module": "@jupyter-widgets/controls",
          "model_name": "HBoxModel",
          "state": {
            "_view_name": "HBoxView",
            "_dom_classes": [],
            "_model_name": "HBoxModel",
            "_view_module": "@jupyter-widgets/controls",
            "_model_module_version": "1.5.0",
            "_view_count": null,
            "_view_module_version": "1.5.0",
            "box_style": "",
            "layout": "IPY_MODEL_8bb82f5856eb43faa99e88d2abad3556",
            "_model_module": "@jupyter-widgets/controls",
            "children": [
              "IPY_MODEL_5153a5eedca740ee9d1f0e9a081c8aef",
              "IPY_MODEL_71be44373723430589af17c7a448cc8c"
            ]
          }
        },
        "8bb82f5856eb43faa99e88d2abad3556": {
          "model_module": "@jupyter-widgets/base",
          "model_name": "LayoutModel",
          "state": {
            "_view_name": "LayoutView",
            "grid_template_rows": null,
            "right": null,
            "justify_content": null,
            "_view_module": "@jupyter-widgets/base",
            "overflow": null,
            "_model_module_version": "1.2.0",
            "_view_count": null,
            "flex_flow": null,
            "width": null,
            "min_width": null,
            "border": null,
            "align_items": null,
            "bottom": null,
            "_model_module": "@jupyter-widgets/base",
            "top": null,
            "grid_column": null,
            "overflow_y": null,
            "overflow_x": null,
            "grid_auto_flow": null,
            "grid_area": null,
            "grid_template_columns": null,
            "flex": null,
            "_model_name": "LayoutModel",
            "justify_items": null,
            "grid_row": null,
            "max_height": null,
            "align_content": null,
            "visibility": null,
            "align_self": null,
            "height": null,
            "min_height": null,
            "padding": null,
            "grid_auto_rows": null,
            "grid_gap": null,
            "max_width": null,
            "order": null,
            "_view_module_version": "1.2.0",
            "grid_template_areas": null,
            "object_position": null,
            "object_fit": null,
            "grid_auto_columns": null,
            "margin": null,
            "display": null,
            "left": null
          }
        },
        "5153a5eedca740ee9d1f0e9a081c8aef": {
          "model_module": "@jupyter-widgets/controls",
          "model_name": "FloatProgressModel",
          "state": {
            "_view_name": "ProgressView",
            "style": "IPY_MODEL_b9e6262ef07e4cb886e858ba5b5ae1bb",
            "_dom_classes": [],
            "description": "Dl Size...: 100%",
            "_model_name": "FloatProgressModel",
            "bar_style": "success",
            "max": 1,
            "_view_module": "@jupyter-widgets/controls",
            "_model_module_version": "1.5.0",
            "value": 1,
            "_view_count": null,
            "_view_module_version": "1.5.0",
            "orientation": "horizontal",
            "min": 0,
            "description_tooltip": null,
            "_model_module": "@jupyter-widgets/controls",
            "layout": "IPY_MODEL_7540f941441b4cbd80829c7cd8c5a3cd"
          }
        },
        "71be44373723430589af17c7a448cc8c": {
          "model_module": "@jupyter-widgets/controls",
          "model_name": "HTMLModel",
          "state": {
            "_view_name": "HTMLView",
            "style": "IPY_MODEL_000bddfff9884cefa0808c108b11e0d7",
            "_dom_classes": [],
            "description": "",
            "_model_name": "HTMLModel",
            "placeholder": "​",
            "_view_module": "@jupyter-widgets/controls",
            "_model_module_version": "1.5.0",
            "value": " 80/80 [00:03&lt;00:00, 25.41 MiB/s]",
            "_view_count": null,
            "_view_module_version": "1.5.0",
            "description_tooltip": null,
            "_model_module": "@jupyter-widgets/controls",
            "layout": "IPY_MODEL_2d759873b6c041a5b99bee474d48880d"
          }
        },
        "b9e6262ef07e4cb886e858ba5b5ae1bb": {
          "model_module": "@jupyter-widgets/controls",
          "model_name": "ProgressStyleModel",
          "state": {
            "_view_name": "StyleView",
            "_model_name": "ProgressStyleModel",
            "description_width": "initial",
            "_view_module": "@jupyter-widgets/base",
            "_model_module_version": "1.5.0",
            "_view_count": null,
            "_view_module_version": "1.2.0",
            "bar_color": null,
            "_model_module": "@jupyter-widgets/controls"
          }
        },
        "7540f941441b4cbd80829c7cd8c5a3cd": {
          "model_module": "@jupyter-widgets/base",
          "model_name": "LayoutModel",
          "state": {
            "_view_name": "LayoutView",
            "grid_template_rows": null,
            "right": null,
            "justify_content": null,
            "_view_module": "@jupyter-widgets/base",
            "overflow": null,
            "_model_module_version": "1.2.0",
            "_view_count": null,
            "flex_flow": null,
            "width": null,
            "min_width": null,
            "border": null,
            "align_items": null,
            "bottom": null,
            "_model_module": "@jupyter-widgets/base",
            "top": null,
            "grid_column": null,
            "overflow_y": null,
            "overflow_x": null,
            "grid_auto_flow": null,
            "grid_area": null,
            "grid_template_columns": null,
            "flex": null,
            "_model_name": "LayoutModel",
            "justify_items": null,
            "grid_row": null,
            "max_height": null,
            "align_content": null,
            "visibility": null,
            "align_self": null,
            "height": null,
            "min_height": null,
            "padding": null,
            "grid_auto_rows": null,
            "grid_gap": null,
            "max_width": null,
            "order": null,
            "_view_module_version": "1.2.0",
            "grid_template_areas": null,
            "object_position": null,
            "object_fit": null,
            "grid_auto_columns": null,
            "margin": null,
            "display": null,
            "left": null
          }
        },
        "000bddfff9884cefa0808c108b11e0d7": {
          "model_module": "@jupyter-widgets/controls",
          "model_name": "DescriptionStyleModel",
          "state": {
            "_view_name": "StyleView",
            "_model_name": "DescriptionStyleModel",
            "description_width": "",
            "_view_module": "@jupyter-widgets/base",
            "_model_module_version": "1.5.0",
            "_view_count": null,
            "_view_module_version": "1.2.0",
            "_model_module": "@jupyter-widgets/controls"
          }
        },
        "2d759873b6c041a5b99bee474d48880d": {
          "model_module": "@jupyter-widgets/base",
          "model_name": "LayoutModel",
          "state": {
            "_view_name": "LayoutView",
            "grid_template_rows": null,
            "right": null,
            "justify_content": null,
            "_view_module": "@jupyter-widgets/base",
            "overflow": null,
            "_model_module_version": "1.2.0",
            "_view_count": null,
            "flex_flow": null,
            "width": null,
            "min_width": null,
            "border": null,
            "align_items": null,
            "bottom": null,
            "_model_module": "@jupyter-widgets/base",
            "top": null,
            "grid_column": null,
            "overflow_y": null,
            "overflow_x": null,
            "grid_auto_flow": null,
            "grid_area": null,
            "grid_template_columns": null,
            "flex": null,
            "_model_name": "LayoutModel",
            "justify_items": null,
            "grid_row": null,
            "max_height": null,
            "align_content": null,
            "visibility": null,
            "align_self": null,
            "height": null,
            "min_height": null,
            "padding": null,
            "grid_auto_rows": null,
            "grid_gap": null,
            "max_width": null,
            "order": null,
            "_view_module_version": "1.2.0",
            "grid_template_areas": null,
            "object_position": null,
            "object_fit": null,
            "grid_auto_columns": null,
            "margin": null,
            "display": null,
            "left": null
          }
        },
        "6d405aa8c0cb4572b3daace62f46baea": {
          "model_module": "@jupyter-widgets/controls",
          "model_name": "HBoxModel",
          "state": {
            "_view_name": "HBoxView",
            "_dom_classes": [],
            "_model_name": "HBoxModel",
            "_view_module": "@jupyter-widgets/controls",
            "_model_module_version": "1.5.0",
            "_view_count": null,
            "_view_module_version": "1.5.0",
            "box_style": "",
            "layout": "IPY_MODEL_3203d7c42e9c4a4fbeed229626b47da3",
            "_model_module": "@jupyter-widgets/controls",
            "children": [
              "IPY_MODEL_b52d2613fb104302bc6f56f1c4e52d49",
              "IPY_MODEL_44729f5d412b44609176041884df3c08"
            ]
          }
        },
        "3203d7c42e9c4a4fbeed229626b47da3": {
          "model_module": "@jupyter-widgets/base",
          "model_name": "LayoutModel",
          "state": {
            "_view_name": "LayoutView",
            "grid_template_rows": null,
            "right": null,
            "justify_content": null,
            "_view_module": "@jupyter-widgets/base",
            "overflow": null,
            "_model_module_version": "1.2.0",
            "_view_count": null,
            "flex_flow": null,
            "width": null,
            "min_width": null,
            "border": null,
            "align_items": null,
            "bottom": null,
            "_model_module": "@jupyter-widgets/base",
            "top": null,
            "grid_column": null,
            "overflow_y": null,
            "overflow_x": null,
            "grid_auto_flow": null,
            "grid_area": null,
            "grid_template_columns": null,
            "flex": null,
            "_model_name": "LayoutModel",
            "justify_items": null,
            "grid_row": null,
            "max_height": null,
            "align_content": null,
            "visibility": null,
            "align_self": null,
            "height": null,
            "min_height": null,
            "padding": null,
            "grid_auto_rows": null,
            "grid_gap": null,
            "max_width": null,
            "order": null,
            "_view_module_version": "1.2.0",
            "grid_template_areas": null,
            "object_position": null,
            "object_fit": null,
            "grid_auto_columns": null,
            "margin": null,
            "display": null,
            "left": null
          }
        },
        "b52d2613fb104302bc6f56f1c4e52d49": {
          "model_module": "@jupyter-widgets/controls",
          "model_name": "FloatProgressModel",
          "state": {
            "_view_name": "ProgressView",
            "style": "IPY_MODEL_4d7d21b3cce7434a957fcf634705cd56",
            "_dom_classes": [],
            "description": "",
            "_model_name": "FloatProgressModel",
            "bar_style": "info",
            "max": 1,
            "_view_module": "@jupyter-widgets/controls",
            "_model_module_version": "1.5.0",
            "value": 1,
            "_view_count": null,
            "_view_module_version": "1.5.0",
            "orientation": "horizontal",
            "min": 0,
            "description_tooltip": null,
            "_model_module": "@jupyter-widgets/controls",
            "layout": "IPY_MODEL_42a554180d1e499bbc61529f86ac1e6d"
          }
        },
        "44729f5d412b44609176041884df3c08": {
          "model_module": "@jupyter-widgets/controls",
          "model_name": "HTMLModel",
          "state": {
            "_view_name": "HTMLView",
            "style": "IPY_MODEL_fed65eba2700434da8ac80a3ec128d3f",
            "_dom_classes": [],
            "description": "",
            "_model_name": "HTMLModel",
            "placeholder": "​",
            "_view_module": "@jupyter-widgets/controls",
            "_model_module_version": "1.5.0",
            "value": " 25000/0 [00:15&lt;00:00, 2941.59 examples/s]",
            "_view_count": null,
            "_view_module_version": "1.5.0",
            "description_tooltip": null,
            "_model_module": "@jupyter-widgets/controls",
            "layout": "IPY_MODEL_6ef8fa682c4b4d5f823de43e8b31b95b"
          }
        },
        "4d7d21b3cce7434a957fcf634705cd56": {
          "model_module": "@jupyter-widgets/controls",
          "model_name": "ProgressStyleModel",
          "state": {
            "_view_name": "StyleView",
            "_model_name": "ProgressStyleModel",
            "description_width": "initial",
            "_view_module": "@jupyter-widgets/base",
            "_model_module_version": "1.5.0",
            "_view_count": null,
            "_view_module_version": "1.2.0",
            "bar_color": null,
            "_model_module": "@jupyter-widgets/controls"
          }
        },
        "42a554180d1e499bbc61529f86ac1e6d": {
          "model_module": "@jupyter-widgets/base",
          "model_name": "LayoutModel",
          "state": {
            "_view_name": "LayoutView",
            "grid_template_rows": null,
            "right": null,
            "justify_content": null,
            "_view_module": "@jupyter-widgets/base",
            "overflow": null,
            "_model_module_version": "1.2.0",
            "_view_count": null,
            "flex_flow": null,
            "width": null,
            "min_width": null,
            "border": null,
            "align_items": null,
            "bottom": null,
            "_model_module": "@jupyter-widgets/base",
            "top": null,
            "grid_column": null,
            "overflow_y": null,
            "overflow_x": null,
            "grid_auto_flow": null,
            "grid_area": null,
            "grid_template_columns": null,
            "flex": null,
            "_model_name": "LayoutModel",
            "justify_items": null,
            "grid_row": null,
            "max_height": null,
            "align_content": null,
            "visibility": null,
            "align_self": null,
            "height": null,
            "min_height": null,
            "padding": null,
            "grid_auto_rows": null,
            "grid_gap": null,
            "max_width": null,
            "order": null,
            "_view_module_version": "1.2.0",
            "grid_template_areas": null,
            "object_position": null,
            "object_fit": null,
            "grid_auto_columns": null,
            "margin": null,
            "display": null,
            "left": null
          }
        },
        "fed65eba2700434da8ac80a3ec128d3f": {
          "model_module": "@jupyter-widgets/controls",
          "model_name": "DescriptionStyleModel",
          "state": {
            "_view_name": "StyleView",
            "_model_name": "DescriptionStyleModel",
            "description_width": "",
            "_view_module": "@jupyter-widgets/base",
            "_model_module_version": "1.5.0",
            "_view_count": null,
            "_view_module_version": "1.2.0",
            "_model_module": "@jupyter-widgets/controls"
          }
        },
        "6ef8fa682c4b4d5f823de43e8b31b95b": {
          "model_module": "@jupyter-widgets/base",
          "model_name": "LayoutModel",
          "state": {
            "_view_name": "LayoutView",
            "grid_template_rows": null,
            "right": null,
            "justify_content": null,
            "_view_module": "@jupyter-widgets/base",
            "overflow": null,
            "_model_module_version": "1.2.0",
            "_view_count": null,
            "flex_flow": null,
            "width": null,
            "min_width": null,
            "border": null,
            "align_items": null,
            "bottom": null,
            "_model_module": "@jupyter-widgets/base",
            "top": null,
            "grid_column": null,
            "overflow_y": null,
            "overflow_x": null,
            "grid_auto_flow": null,
            "grid_area": null,
            "grid_template_columns": null,
            "flex": null,
            "_model_name": "LayoutModel",
            "justify_items": null,
            "grid_row": null,
            "max_height": null,
            "align_content": null,
            "visibility": null,
            "align_self": null,
            "height": null,
            "min_height": null,
            "padding": null,
            "grid_auto_rows": null,
            "grid_gap": null,
            "max_width": null,
            "order": null,
            "_view_module_version": "1.2.0",
            "grid_template_areas": null,
            "object_position": null,
            "object_fit": null,
            "grid_auto_columns": null,
            "margin": null,
            "display": null,
            "left": null
          }
        },
        "f940678ff2604c999c632825aaaaa159": {
          "model_module": "@jupyter-widgets/controls",
          "model_name": "HBoxModel",
          "state": {
            "_view_name": "HBoxView",
            "_dom_classes": [],
            "_model_name": "HBoxModel",
            "_view_module": "@jupyter-widgets/controls",
            "_model_module_version": "1.5.0",
            "_view_count": null,
            "_view_module_version": "1.5.0",
            "box_style": "",
            "layout": "IPY_MODEL_bca6f06787cd472da77ea8c983a5a643",
            "_model_module": "@jupyter-widgets/controls",
            "children": [
              "IPY_MODEL_f1d52071e2af47f492be4cbcac4e9dc2",
              "IPY_MODEL_a65e2e58f2dc4b899431d7246e86c898"
            ]
          }
        },
        "bca6f06787cd472da77ea8c983a5a643": {
          "model_module": "@jupyter-widgets/base",
          "model_name": "LayoutModel",
          "state": {
            "_view_name": "LayoutView",
            "grid_template_rows": null,
            "right": null,
            "justify_content": null,
            "_view_module": "@jupyter-widgets/base",
            "overflow": null,
            "_model_module_version": "1.2.0",
            "_view_count": null,
            "flex_flow": null,
            "width": null,
            "min_width": null,
            "border": null,
            "align_items": null,
            "bottom": null,
            "_model_module": "@jupyter-widgets/base",
            "top": null,
            "grid_column": null,
            "overflow_y": null,
            "overflow_x": null,
            "grid_auto_flow": null,
            "grid_area": null,
            "grid_template_columns": null,
            "flex": null,
            "_model_name": "LayoutModel",
            "justify_items": null,
            "grid_row": null,
            "max_height": null,
            "align_content": null,
            "visibility": null,
            "align_self": null,
            "height": null,
            "min_height": null,
            "padding": null,
            "grid_auto_rows": null,
            "grid_gap": null,
            "max_width": null,
            "order": null,
            "_view_module_version": "1.2.0",
            "grid_template_areas": null,
            "object_position": null,
            "object_fit": null,
            "grid_auto_columns": null,
            "margin": null,
            "display": null,
            "left": null
          }
        },
        "f1d52071e2af47f492be4cbcac4e9dc2": {
          "model_module": "@jupyter-widgets/controls",
          "model_name": "FloatProgressModel",
          "state": {
            "_view_name": "ProgressView",
            "style": "IPY_MODEL_440483429f2642dba1672fd61849f4cb",
            "_dom_classes": [],
            "description": " 18%",
            "_model_name": "FloatProgressModel",
            "bar_style": "danger",
            "max": 25000,
            "_view_module": "@jupyter-widgets/controls",
            "_model_module_version": "1.5.0",
            "value": 4459,
            "_view_count": null,
            "_view_module_version": "1.5.0",
            "orientation": "horizontal",
            "min": 0,
            "description_tooltip": null,
            "_model_module": "@jupyter-widgets/controls",
            "layout": "IPY_MODEL_0872b913d7f94ddb97757e7e8d566062"
          }
        },
        "a65e2e58f2dc4b899431d7246e86c898": {
          "model_module": "@jupyter-widgets/controls",
          "model_name": "HTMLModel",
          "state": {
            "_view_name": "HTMLView",
            "style": "IPY_MODEL_8dbd079f9ea744ebac66a5397b4f44f9",
            "_dom_classes": [],
            "description": "",
            "_model_name": "HTMLModel",
            "placeholder": "​",
            "_view_module": "@jupyter-widgets/controls",
            "_model_module_version": "1.5.0",
            "value": " 4459/25000 [00:00&lt;00:00, 44589.94 examples/s]",
            "_view_count": null,
            "_view_module_version": "1.5.0",
            "description_tooltip": null,
            "_model_module": "@jupyter-widgets/controls",
            "layout": "IPY_MODEL_db5c4c7b7ee342cfb2bd283b365e2f93"
          }
        },
        "440483429f2642dba1672fd61849f4cb": {
          "model_module": "@jupyter-widgets/controls",
          "model_name": "ProgressStyleModel",
          "state": {
            "_view_name": "StyleView",
            "_model_name": "ProgressStyleModel",
            "description_width": "initial",
            "_view_module": "@jupyter-widgets/base",
            "_model_module_version": "1.5.0",
            "_view_count": null,
            "_view_module_version": "1.2.0",
            "bar_color": null,
            "_model_module": "@jupyter-widgets/controls"
          }
        },
        "0872b913d7f94ddb97757e7e8d566062": {
          "model_module": "@jupyter-widgets/base",
          "model_name": "LayoutModel",
          "state": {
            "_view_name": "LayoutView",
            "grid_template_rows": null,
            "right": null,
            "justify_content": null,
            "_view_module": "@jupyter-widgets/base",
            "overflow": null,
            "_model_module_version": "1.2.0",
            "_view_count": null,
            "flex_flow": null,
            "width": null,
            "min_width": null,
            "border": null,
            "align_items": null,
            "bottom": null,
            "_model_module": "@jupyter-widgets/base",
            "top": null,
            "grid_column": null,
            "overflow_y": null,
            "overflow_x": null,
            "grid_auto_flow": null,
            "grid_area": null,
            "grid_template_columns": null,
            "flex": null,
            "_model_name": "LayoutModel",
            "justify_items": null,
            "grid_row": null,
            "max_height": null,
            "align_content": null,
            "visibility": null,
            "align_self": null,
            "height": null,
            "min_height": null,
            "padding": null,
            "grid_auto_rows": null,
            "grid_gap": null,
            "max_width": null,
            "order": null,
            "_view_module_version": "1.2.0",
            "grid_template_areas": null,
            "object_position": null,
            "object_fit": null,
            "grid_auto_columns": null,
            "margin": null,
            "display": null,
            "left": null
          }
        },
        "8dbd079f9ea744ebac66a5397b4f44f9": {
          "model_module": "@jupyter-widgets/controls",
          "model_name": "DescriptionStyleModel",
          "state": {
            "_view_name": "StyleView",
            "_model_name": "DescriptionStyleModel",
            "description_width": "",
            "_view_module": "@jupyter-widgets/base",
            "_model_module_version": "1.5.0",
            "_view_count": null,
            "_view_module_version": "1.2.0",
            "_model_module": "@jupyter-widgets/controls"
          }
        },
        "db5c4c7b7ee342cfb2bd283b365e2f93": {
          "model_module": "@jupyter-widgets/base",
          "model_name": "LayoutModel",
          "state": {
            "_view_name": "LayoutView",
            "grid_template_rows": null,
            "right": null,
            "justify_content": null,
            "_view_module": "@jupyter-widgets/base",
            "overflow": null,
            "_model_module_version": "1.2.0",
            "_view_count": null,
            "flex_flow": null,
            "width": null,
            "min_width": null,
            "border": null,
            "align_items": null,
            "bottom": null,
            "_model_module": "@jupyter-widgets/base",
            "top": null,
            "grid_column": null,
            "overflow_y": null,
            "overflow_x": null,
            "grid_auto_flow": null,
            "grid_area": null,
            "grid_template_columns": null,
            "flex": null,
            "_model_name": "LayoutModel",
            "justify_items": null,
            "grid_row": null,
            "max_height": null,
            "align_content": null,
            "visibility": null,
            "align_self": null,
            "height": null,
            "min_height": null,
            "padding": null,
            "grid_auto_rows": null,
            "grid_gap": null,
            "max_width": null,
            "order": null,
            "_view_module_version": "1.2.0",
            "grid_template_areas": null,
            "object_position": null,
            "object_fit": null,
            "grid_auto_columns": null,
            "margin": null,
            "display": null,
            "left": null
          }
        },
        "a813625988604fa9bbd3590532eb37a4": {
          "model_module": "@jupyter-widgets/controls",
          "model_name": "HBoxModel",
          "state": {
            "_view_name": "HBoxView",
            "_dom_classes": [],
            "_model_name": "HBoxModel",
            "_view_module": "@jupyter-widgets/controls",
            "_model_module_version": "1.5.0",
            "_view_count": null,
            "_view_module_version": "1.5.0",
            "box_style": "",
            "layout": "IPY_MODEL_f39a23b1805c41fb9515e148aa3a2f94",
            "_model_module": "@jupyter-widgets/controls",
            "children": [
              "IPY_MODEL_365a4c95e58f4c81b7ffd089f6d912c1",
              "IPY_MODEL_bb9d32b3155442c897213bdc61cf682d"
            ]
          }
        },
        "f39a23b1805c41fb9515e148aa3a2f94": {
          "model_module": "@jupyter-widgets/base",
          "model_name": "LayoutModel",
          "state": {
            "_view_name": "LayoutView",
            "grid_template_rows": null,
            "right": null,
            "justify_content": null,
            "_view_module": "@jupyter-widgets/base",
            "overflow": null,
            "_model_module_version": "1.2.0",
            "_view_count": null,
            "flex_flow": null,
            "width": null,
            "min_width": null,
            "border": null,
            "align_items": null,
            "bottom": null,
            "_model_module": "@jupyter-widgets/base",
            "top": null,
            "grid_column": null,
            "overflow_y": null,
            "overflow_x": null,
            "grid_auto_flow": null,
            "grid_area": null,
            "grid_template_columns": null,
            "flex": null,
            "_model_name": "LayoutModel",
            "justify_items": null,
            "grid_row": null,
            "max_height": null,
            "align_content": null,
            "visibility": null,
            "align_self": null,
            "height": null,
            "min_height": null,
            "padding": null,
            "grid_auto_rows": null,
            "grid_gap": null,
            "max_width": null,
            "order": null,
            "_view_module_version": "1.2.0",
            "grid_template_areas": null,
            "object_position": null,
            "object_fit": null,
            "grid_auto_columns": null,
            "margin": null,
            "display": null,
            "left": null
          }
        },
        "365a4c95e58f4c81b7ffd089f6d912c1": {
          "model_module": "@jupyter-widgets/controls",
          "model_name": "FloatProgressModel",
          "state": {
            "_view_name": "ProgressView",
            "style": "IPY_MODEL_63f5ea368c7f43c18c56abf255d8626e",
            "_dom_classes": [],
            "description": "",
            "_model_name": "FloatProgressModel",
            "bar_style": "info",
            "max": 1,
            "_view_module": "@jupyter-widgets/controls",
            "_model_module_version": "1.5.0",
            "value": 1,
            "_view_count": null,
            "_view_module_version": "1.5.0",
            "orientation": "horizontal",
            "min": 0,
            "description_tooltip": null,
            "_model_module": "@jupyter-widgets/controls",
            "layout": "IPY_MODEL_45e086d6e93644e397e3a48334337273"
          }
        },
        "bb9d32b3155442c897213bdc61cf682d": {
          "model_module": "@jupyter-widgets/controls",
          "model_name": "HTMLModel",
          "state": {
            "_view_name": "HTMLView",
            "style": "IPY_MODEL_df5bdc019eb54853b5a39f2bc47f2e9b",
            "_dom_classes": [],
            "description": "",
            "_model_name": "HTMLModel",
            "placeholder": "​",
            "_view_module": "@jupyter-widgets/controls",
            "_model_module_version": "1.5.0",
            "value": " 25000/0 [00:15&lt;00:00, 2989.56 examples/s]",
            "_view_count": null,
            "_view_module_version": "1.5.0",
            "description_tooltip": null,
            "_model_module": "@jupyter-widgets/controls",
            "layout": "IPY_MODEL_0229240015d644228931d1f7c809c4c7"
          }
        },
        "63f5ea368c7f43c18c56abf255d8626e": {
          "model_module": "@jupyter-widgets/controls",
          "model_name": "ProgressStyleModel",
          "state": {
            "_view_name": "StyleView",
            "_model_name": "ProgressStyleModel",
            "description_width": "initial",
            "_view_module": "@jupyter-widgets/base",
            "_model_module_version": "1.5.0",
            "_view_count": null,
            "_view_module_version": "1.2.0",
            "bar_color": null,
            "_model_module": "@jupyter-widgets/controls"
          }
        },
        "45e086d6e93644e397e3a48334337273": {
          "model_module": "@jupyter-widgets/base",
          "model_name": "LayoutModel",
          "state": {
            "_view_name": "LayoutView",
            "grid_template_rows": null,
            "right": null,
            "justify_content": null,
            "_view_module": "@jupyter-widgets/base",
            "overflow": null,
            "_model_module_version": "1.2.0",
            "_view_count": null,
            "flex_flow": null,
            "width": null,
            "min_width": null,
            "border": null,
            "align_items": null,
            "bottom": null,
            "_model_module": "@jupyter-widgets/base",
            "top": null,
            "grid_column": null,
            "overflow_y": null,
            "overflow_x": null,
            "grid_auto_flow": null,
            "grid_area": null,
            "grid_template_columns": null,
            "flex": null,
            "_model_name": "LayoutModel",
            "justify_items": null,
            "grid_row": null,
            "max_height": null,
            "align_content": null,
            "visibility": null,
            "align_self": null,
            "height": null,
            "min_height": null,
            "padding": null,
            "grid_auto_rows": null,
            "grid_gap": null,
            "max_width": null,
            "order": null,
            "_view_module_version": "1.2.0",
            "grid_template_areas": null,
            "object_position": null,
            "object_fit": null,
            "grid_auto_columns": null,
            "margin": null,
            "display": null,
            "left": null
          }
        },
        "df5bdc019eb54853b5a39f2bc47f2e9b": {
          "model_module": "@jupyter-widgets/controls",
          "model_name": "DescriptionStyleModel",
          "state": {
            "_view_name": "StyleView",
            "_model_name": "DescriptionStyleModel",
            "description_width": "",
            "_view_module": "@jupyter-widgets/base",
            "_model_module_version": "1.5.0",
            "_view_count": null,
            "_view_module_version": "1.2.0",
            "_model_module": "@jupyter-widgets/controls"
          }
        },
        "0229240015d644228931d1f7c809c4c7": {
          "model_module": "@jupyter-widgets/base",
          "model_name": "LayoutModel",
          "state": {
            "_view_name": "LayoutView",
            "grid_template_rows": null,
            "right": null,
            "justify_content": null,
            "_view_module": "@jupyter-widgets/base",
            "overflow": null,
            "_model_module_version": "1.2.0",
            "_view_count": null,
            "flex_flow": null,
            "width": null,
            "min_width": null,
            "border": null,
            "align_items": null,
            "bottom": null,
            "_model_module": "@jupyter-widgets/base",
            "top": null,
            "grid_column": null,
            "overflow_y": null,
            "overflow_x": null,
            "grid_auto_flow": null,
            "grid_area": null,
            "grid_template_columns": null,
            "flex": null,
            "_model_name": "LayoutModel",
            "justify_items": null,
            "grid_row": null,
            "max_height": null,
            "align_content": null,
            "visibility": null,
            "align_self": null,
            "height": null,
            "min_height": null,
            "padding": null,
            "grid_auto_rows": null,
            "grid_gap": null,
            "max_width": null,
            "order": null,
            "_view_module_version": "1.2.0",
            "grid_template_areas": null,
            "object_position": null,
            "object_fit": null,
            "grid_auto_columns": null,
            "margin": null,
            "display": null,
            "left": null
          }
        },
        "251c9f6559d14e44b051fbcb349b4481": {
          "model_module": "@jupyter-widgets/controls",
          "model_name": "HBoxModel",
          "state": {
            "_view_name": "HBoxView",
            "_dom_classes": [],
            "_model_name": "HBoxModel",
            "_view_module": "@jupyter-widgets/controls",
            "_model_module_version": "1.5.0",
            "_view_count": null,
            "_view_module_version": "1.5.0",
            "box_style": "",
            "layout": "IPY_MODEL_89e92ce08a29474fa1caa45a7f639cfe",
            "_model_module": "@jupyter-widgets/controls",
            "children": [
              "IPY_MODEL_c1da6d34e0684b53b2425d3b705bff52",
              "IPY_MODEL_e61848d960b248c589f31c21eb78bf93"
            ]
          }
        },
        "89e92ce08a29474fa1caa45a7f639cfe": {
          "model_module": "@jupyter-widgets/base",
          "model_name": "LayoutModel",
          "state": {
            "_view_name": "LayoutView",
            "grid_template_rows": null,
            "right": null,
            "justify_content": null,
            "_view_module": "@jupyter-widgets/base",
            "overflow": null,
            "_model_module_version": "1.2.0",
            "_view_count": null,
            "flex_flow": null,
            "width": null,
            "min_width": null,
            "border": null,
            "align_items": null,
            "bottom": null,
            "_model_module": "@jupyter-widgets/base",
            "top": null,
            "grid_column": null,
            "overflow_y": null,
            "overflow_x": null,
            "grid_auto_flow": null,
            "grid_area": null,
            "grid_template_columns": null,
            "flex": null,
            "_model_name": "LayoutModel",
            "justify_items": null,
            "grid_row": null,
            "max_height": null,
            "align_content": null,
            "visibility": null,
            "align_self": null,
            "height": null,
            "min_height": null,
            "padding": null,
            "grid_auto_rows": null,
            "grid_gap": null,
            "max_width": null,
            "order": null,
            "_view_module_version": "1.2.0",
            "grid_template_areas": null,
            "object_position": null,
            "object_fit": null,
            "grid_auto_columns": null,
            "margin": null,
            "display": null,
            "left": null
          }
        },
        "c1da6d34e0684b53b2425d3b705bff52": {
          "model_module": "@jupyter-widgets/controls",
          "model_name": "FloatProgressModel",
          "state": {
            "_view_name": "ProgressView",
            "style": "IPY_MODEL_f224bb3fe9984698967d66aca4e27f53",
            "_dom_classes": [],
            "description": " 23%",
            "_model_name": "FloatProgressModel",
            "bar_style": "danger",
            "max": 25000,
            "_view_module": "@jupyter-widgets/controls",
            "_model_module_version": "1.5.0",
            "value": 5679,
            "_view_count": null,
            "_view_module_version": "1.5.0",
            "orientation": "horizontal",
            "min": 0,
            "description_tooltip": null,
            "_model_module": "@jupyter-widgets/controls",
            "layout": "IPY_MODEL_e45279c8344340909f8d6ab9864659fb"
          }
        },
        "e61848d960b248c589f31c21eb78bf93": {
          "model_module": "@jupyter-widgets/controls",
          "model_name": "HTMLModel",
          "state": {
            "_view_name": "HTMLView",
            "style": "IPY_MODEL_b4aed0ce9c6f482e846e772166836365",
            "_dom_classes": [],
            "description": "",
            "_model_name": "HTMLModel",
            "placeholder": "​",
            "_view_module": "@jupyter-widgets/controls",
            "_model_module_version": "1.5.0",
            "value": " 5679/25000 [00:00&lt;00:00, 56788.70 examples/s]",
            "_view_count": null,
            "_view_module_version": "1.5.0",
            "description_tooltip": null,
            "_model_module": "@jupyter-widgets/controls",
            "layout": "IPY_MODEL_64af875ce9d644fca6bb9fbba7dcd654"
          }
        },
        "f224bb3fe9984698967d66aca4e27f53": {
          "model_module": "@jupyter-widgets/controls",
          "model_name": "ProgressStyleModel",
          "state": {
            "_view_name": "StyleView",
            "_model_name": "ProgressStyleModel",
            "description_width": "initial",
            "_view_module": "@jupyter-widgets/base",
            "_model_module_version": "1.5.0",
            "_view_count": null,
            "_view_module_version": "1.2.0",
            "bar_color": null,
            "_model_module": "@jupyter-widgets/controls"
          }
        },
        "e45279c8344340909f8d6ab9864659fb": {
          "model_module": "@jupyter-widgets/base",
          "model_name": "LayoutModel",
          "state": {
            "_view_name": "LayoutView",
            "grid_template_rows": null,
            "right": null,
            "justify_content": null,
            "_view_module": "@jupyter-widgets/base",
            "overflow": null,
            "_model_module_version": "1.2.0",
            "_view_count": null,
            "flex_flow": null,
            "width": null,
            "min_width": null,
            "border": null,
            "align_items": null,
            "bottom": null,
            "_model_module": "@jupyter-widgets/base",
            "top": null,
            "grid_column": null,
            "overflow_y": null,
            "overflow_x": null,
            "grid_auto_flow": null,
            "grid_area": null,
            "grid_template_columns": null,
            "flex": null,
            "_model_name": "LayoutModel",
            "justify_items": null,
            "grid_row": null,
            "max_height": null,
            "align_content": null,
            "visibility": null,
            "align_self": null,
            "height": null,
            "min_height": null,
            "padding": null,
            "grid_auto_rows": null,
            "grid_gap": null,
            "max_width": null,
            "order": null,
            "_view_module_version": "1.2.0",
            "grid_template_areas": null,
            "object_position": null,
            "object_fit": null,
            "grid_auto_columns": null,
            "margin": null,
            "display": null,
            "left": null
          }
        },
        "b4aed0ce9c6f482e846e772166836365": {
          "model_module": "@jupyter-widgets/controls",
          "model_name": "DescriptionStyleModel",
          "state": {
            "_view_name": "StyleView",
            "_model_name": "DescriptionStyleModel",
            "description_width": "",
            "_view_module": "@jupyter-widgets/base",
            "_model_module_version": "1.5.0",
            "_view_count": null,
            "_view_module_version": "1.2.0",
            "_model_module": "@jupyter-widgets/controls"
          }
        },
        "64af875ce9d644fca6bb9fbba7dcd654": {
          "model_module": "@jupyter-widgets/base",
          "model_name": "LayoutModel",
          "state": {
            "_view_name": "LayoutView",
            "grid_template_rows": null,
            "right": null,
            "justify_content": null,
            "_view_module": "@jupyter-widgets/base",
            "overflow": null,
            "_model_module_version": "1.2.0",
            "_view_count": null,
            "flex_flow": null,
            "width": null,
            "min_width": null,
            "border": null,
            "align_items": null,
            "bottom": null,
            "_model_module": "@jupyter-widgets/base",
            "top": null,
            "grid_column": null,
            "overflow_y": null,
            "overflow_x": null,
            "grid_auto_flow": null,
            "grid_area": null,
            "grid_template_columns": null,
            "flex": null,
            "_model_name": "LayoutModel",
            "justify_items": null,
            "grid_row": null,
            "max_height": null,
            "align_content": null,
            "visibility": null,
            "align_self": null,
            "height": null,
            "min_height": null,
            "padding": null,
            "grid_auto_rows": null,
            "grid_gap": null,
            "max_width": null,
            "order": null,
            "_view_module_version": "1.2.0",
            "grid_template_areas": null,
            "object_position": null,
            "object_fit": null,
            "grid_auto_columns": null,
            "margin": null,
            "display": null,
            "left": null
          }
        },
        "fc034ac558eb45ffb684bbbe4d5911b4": {
          "model_module": "@jupyter-widgets/controls",
          "model_name": "HBoxModel",
          "state": {
            "_view_name": "HBoxView",
            "_dom_classes": [],
            "_model_name": "HBoxModel",
            "_view_module": "@jupyter-widgets/controls",
            "_model_module_version": "1.5.0",
            "_view_count": null,
            "_view_module_version": "1.5.0",
            "box_style": "",
            "layout": "IPY_MODEL_de66afba328c47c0808320a8b26ec8cb",
            "_model_module": "@jupyter-widgets/controls",
            "children": [
              "IPY_MODEL_f24533977aad4e92979af860e5894908",
              "IPY_MODEL_72d0baab94bc4923bc2b4963710208a9"
            ]
          }
        },
        "de66afba328c47c0808320a8b26ec8cb": {
          "model_module": "@jupyter-widgets/base",
          "model_name": "LayoutModel",
          "state": {
            "_view_name": "LayoutView",
            "grid_template_rows": null,
            "right": null,
            "justify_content": null,
            "_view_module": "@jupyter-widgets/base",
            "overflow": null,
            "_model_module_version": "1.2.0",
            "_view_count": null,
            "flex_flow": null,
            "width": null,
            "min_width": null,
            "border": null,
            "align_items": null,
            "bottom": null,
            "_model_module": "@jupyter-widgets/base",
            "top": null,
            "grid_column": null,
            "overflow_y": null,
            "overflow_x": null,
            "grid_auto_flow": null,
            "grid_area": null,
            "grid_template_columns": null,
            "flex": null,
            "_model_name": "LayoutModel",
            "justify_items": null,
            "grid_row": null,
            "max_height": null,
            "align_content": null,
            "visibility": null,
            "align_self": null,
            "height": null,
            "min_height": null,
            "padding": null,
            "grid_auto_rows": null,
            "grid_gap": null,
            "max_width": null,
            "order": null,
            "_view_module_version": "1.2.0",
            "grid_template_areas": null,
            "object_position": null,
            "object_fit": null,
            "grid_auto_columns": null,
            "margin": null,
            "display": null,
            "left": null
          }
        },
        "f24533977aad4e92979af860e5894908": {
          "model_module": "@jupyter-widgets/controls",
          "model_name": "FloatProgressModel",
          "state": {
            "_view_name": "ProgressView",
            "style": "IPY_MODEL_58cd868c57714262b3abe7783ff7d2f3",
            "_dom_classes": [],
            "description": "",
            "_model_name": "FloatProgressModel",
            "bar_style": "info",
            "max": 1,
            "_view_module": "@jupyter-widgets/controls",
            "_model_module_version": "1.5.0",
            "value": 1,
            "_view_count": null,
            "_view_module_version": "1.5.0",
            "orientation": "horizontal",
            "min": 0,
            "description_tooltip": null,
            "_model_module": "@jupyter-widgets/controls",
            "layout": "IPY_MODEL_cea52efcc4e9412db7a469354caf75b6"
          }
        },
        "72d0baab94bc4923bc2b4963710208a9": {
          "model_module": "@jupyter-widgets/controls",
          "model_name": "HTMLModel",
          "state": {
            "_view_name": "HTMLView",
            "style": "IPY_MODEL_c5c0b92cb70e4d8ea5c3cd97f08cdac1",
            "_dom_classes": [],
            "description": "",
            "_model_name": "HTMLModel",
            "placeholder": "​",
            "_view_module": "@jupyter-widgets/controls",
            "_model_module_version": "1.5.0",
            "value": " 50000/0 [00:21&lt;00:00, 3069.23 examples/s]",
            "_view_count": null,
            "_view_module_version": "1.5.0",
            "description_tooltip": null,
            "_model_module": "@jupyter-widgets/controls",
            "layout": "IPY_MODEL_67cd428a8ee940b2a883493ac1af1a03"
          }
        },
        "58cd868c57714262b3abe7783ff7d2f3": {
          "model_module": "@jupyter-widgets/controls",
          "model_name": "ProgressStyleModel",
          "state": {
            "_view_name": "StyleView",
            "_model_name": "ProgressStyleModel",
            "description_width": "initial",
            "_view_module": "@jupyter-widgets/base",
            "_model_module_version": "1.5.0",
            "_view_count": null,
            "_view_module_version": "1.2.0",
            "bar_color": null,
            "_model_module": "@jupyter-widgets/controls"
          }
        },
        "cea52efcc4e9412db7a469354caf75b6": {
          "model_module": "@jupyter-widgets/base",
          "model_name": "LayoutModel",
          "state": {
            "_view_name": "LayoutView",
            "grid_template_rows": null,
            "right": null,
            "justify_content": null,
            "_view_module": "@jupyter-widgets/base",
            "overflow": null,
            "_model_module_version": "1.2.0",
            "_view_count": null,
            "flex_flow": null,
            "width": null,
            "min_width": null,
            "border": null,
            "align_items": null,
            "bottom": null,
            "_model_module": "@jupyter-widgets/base",
            "top": null,
            "grid_column": null,
            "overflow_y": null,
            "overflow_x": null,
            "grid_auto_flow": null,
            "grid_area": null,
            "grid_template_columns": null,
            "flex": null,
            "_model_name": "LayoutModel",
            "justify_items": null,
            "grid_row": null,
            "max_height": null,
            "align_content": null,
            "visibility": null,
            "align_self": null,
            "height": null,
            "min_height": null,
            "padding": null,
            "grid_auto_rows": null,
            "grid_gap": null,
            "max_width": null,
            "order": null,
            "_view_module_version": "1.2.0",
            "grid_template_areas": null,
            "object_position": null,
            "object_fit": null,
            "grid_auto_columns": null,
            "margin": null,
            "display": null,
            "left": null
          }
        },
        "c5c0b92cb70e4d8ea5c3cd97f08cdac1": {
          "model_module": "@jupyter-widgets/controls",
          "model_name": "DescriptionStyleModel",
          "state": {
            "_view_name": "StyleView",
            "_model_name": "DescriptionStyleModel",
            "description_width": "",
            "_view_module": "@jupyter-widgets/base",
            "_model_module_version": "1.5.0",
            "_view_count": null,
            "_view_module_version": "1.2.0",
            "_model_module": "@jupyter-widgets/controls"
          }
        },
        "67cd428a8ee940b2a883493ac1af1a03": {
          "model_module": "@jupyter-widgets/base",
          "model_name": "LayoutModel",
          "state": {
            "_view_name": "LayoutView",
            "grid_template_rows": null,
            "right": null,
            "justify_content": null,
            "_view_module": "@jupyter-widgets/base",
            "overflow": null,
            "_model_module_version": "1.2.0",
            "_view_count": null,
            "flex_flow": null,
            "width": null,
            "min_width": null,
            "border": null,
            "align_items": null,
            "bottom": null,
            "_model_module": "@jupyter-widgets/base",
            "top": null,
            "grid_column": null,
            "overflow_y": null,
            "overflow_x": null,
            "grid_auto_flow": null,
            "grid_area": null,
            "grid_template_columns": null,
            "flex": null,
            "_model_name": "LayoutModel",
            "justify_items": null,
            "grid_row": null,
            "max_height": null,
            "align_content": null,
            "visibility": null,
            "align_self": null,
            "height": null,
            "min_height": null,
            "padding": null,
            "grid_auto_rows": null,
            "grid_gap": null,
            "max_width": null,
            "order": null,
            "_view_module_version": "1.2.0",
            "grid_template_areas": null,
            "object_position": null,
            "object_fit": null,
            "grid_auto_columns": null,
            "margin": null,
            "display": null,
            "left": null
          }
        },
        "48cf8e45d5d346258680c71316dd57ac": {
          "model_module": "@jupyter-widgets/controls",
          "model_name": "HBoxModel",
          "state": {
            "_view_name": "HBoxView",
            "_dom_classes": [],
            "_model_name": "HBoxModel",
            "_view_module": "@jupyter-widgets/controls",
            "_model_module_version": "1.5.0",
            "_view_count": null,
            "_view_module_version": "1.5.0",
            "box_style": "",
            "layout": "IPY_MODEL_636ddc26a90c46ff8dcc380600d6ca51",
            "_model_module": "@jupyter-widgets/controls",
            "children": [
              "IPY_MODEL_1775b60d414049678fc446b3d26dbeda",
              "IPY_MODEL_75c45d754e2b436b89b597dc36f0ef62"
            ]
          }
        },
        "636ddc26a90c46ff8dcc380600d6ca51": {
          "model_module": "@jupyter-widgets/base",
          "model_name": "LayoutModel",
          "state": {
            "_view_name": "LayoutView",
            "grid_template_rows": null,
            "right": null,
            "justify_content": null,
            "_view_module": "@jupyter-widgets/base",
            "overflow": null,
            "_model_module_version": "1.2.0",
            "_view_count": null,
            "flex_flow": null,
            "width": null,
            "min_width": null,
            "border": null,
            "align_items": null,
            "bottom": null,
            "_model_module": "@jupyter-widgets/base",
            "top": null,
            "grid_column": null,
            "overflow_y": null,
            "overflow_x": null,
            "grid_auto_flow": null,
            "grid_area": null,
            "grid_template_columns": null,
            "flex": null,
            "_model_name": "LayoutModel",
            "justify_items": null,
            "grid_row": null,
            "max_height": null,
            "align_content": null,
            "visibility": null,
            "align_self": null,
            "height": null,
            "min_height": null,
            "padding": null,
            "grid_auto_rows": null,
            "grid_gap": null,
            "max_width": null,
            "order": null,
            "_view_module_version": "1.2.0",
            "grid_template_areas": null,
            "object_position": null,
            "object_fit": null,
            "grid_auto_columns": null,
            "margin": null,
            "display": null,
            "left": null
          }
        },
        "1775b60d414049678fc446b3d26dbeda": {
          "model_module": "@jupyter-widgets/controls",
          "model_name": "FloatProgressModel",
          "state": {
            "_view_name": "ProgressView",
            "style": "IPY_MODEL_81e33e7ec5ad44e9b99ca64f7c7ccfef",
            "_dom_classes": [],
            "description": " 82%",
            "_model_name": "FloatProgressModel",
            "bar_style": "danger",
            "max": 50000,
            "_view_module": "@jupyter-widgets/controls",
            "_model_module_version": "1.5.0",
            "value": 41077,
            "_view_count": null,
            "_view_module_version": "1.5.0",
            "orientation": "horizontal",
            "min": 0,
            "description_tooltip": null,
            "_model_module": "@jupyter-widgets/controls",
            "layout": "IPY_MODEL_21bf44c969cf4f0c8e6dc78904272cca"
          }
        },
        "75c45d754e2b436b89b597dc36f0ef62": {
          "model_module": "@jupyter-widgets/controls",
          "model_name": "HTMLModel",
          "state": {
            "_view_name": "HTMLView",
            "style": "IPY_MODEL_5d8e05fbc46b40fc99fd9308ca533a0f",
            "_dom_classes": [],
            "description": "",
            "_model_name": "HTMLModel",
            "placeholder": "​",
            "_view_module": "@jupyter-widgets/controls",
            "_model_module_version": "1.5.0",
            "value": " 41077/50000 [00:00&lt;09:10, 16.21 examples/s]",
            "_view_count": null,
            "_view_module_version": "1.5.0",
            "description_tooltip": null,
            "_model_module": "@jupyter-widgets/controls",
            "layout": "IPY_MODEL_2906faedd50d40ba875949971506cce5"
          }
        },
        "81e33e7ec5ad44e9b99ca64f7c7ccfef": {
          "model_module": "@jupyter-widgets/controls",
          "model_name": "ProgressStyleModel",
          "state": {
            "_view_name": "StyleView",
            "_model_name": "ProgressStyleModel",
            "description_width": "initial",
            "_view_module": "@jupyter-widgets/base",
            "_model_module_version": "1.5.0",
            "_view_count": null,
            "_view_module_version": "1.2.0",
            "bar_color": null,
            "_model_module": "@jupyter-widgets/controls"
          }
        },
        "21bf44c969cf4f0c8e6dc78904272cca": {
          "model_module": "@jupyter-widgets/base",
          "model_name": "LayoutModel",
          "state": {
            "_view_name": "LayoutView",
            "grid_template_rows": null,
            "right": null,
            "justify_content": null,
            "_view_module": "@jupyter-widgets/base",
            "overflow": null,
            "_model_module_version": "1.2.0",
            "_view_count": null,
            "flex_flow": null,
            "width": null,
            "min_width": null,
            "border": null,
            "align_items": null,
            "bottom": null,
            "_model_module": "@jupyter-widgets/base",
            "top": null,
            "grid_column": null,
            "overflow_y": null,
            "overflow_x": null,
            "grid_auto_flow": null,
            "grid_area": null,
            "grid_template_columns": null,
            "flex": null,
            "_model_name": "LayoutModel",
            "justify_items": null,
            "grid_row": null,
            "max_height": null,
            "align_content": null,
            "visibility": null,
            "align_self": null,
            "height": null,
            "min_height": null,
            "padding": null,
            "grid_auto_rows": null,
            "grid_gap": null,
            "max_width": null,
            "order": null,
            "_view_module_version": "1.2.0",
            "grid_template_areas": null,
            "object_position": null,
            "object_fit": null,
            "grid_auto_columns": null,
            "margin": null,
            "display": null,
            "left": null
          }
        },
        "5d8e05fbc46b40fc99fd9308ca533a0f": {
          "model_module": "@jupyter-widgets/controls",
          "model_name": "DescriptionStyleModel",
          "state": {
            "_view_name": "StyleView",
            "_model_name": "DescriptionStyleModel",
            "description_width": "",
            "_view_module": "@jupyter-widgets/base",
            "_model_module_version": "1.5.0",
            "_view_count": null,
            "_view_module_version": "1.2.0",
            "_model_module": "@jupyter-widgets/controls"
          }
        },
        "2906faedd50d40ba875949971506cce5": {
          "model_module": "@jupyter-widgets/base",
          "model_name": "LayoutModel",
          "state": {
            "_view_name": "LayoutView",
            "grid_template_rows": null,
            "right": null,
            "justify_content": null,
            "_view_module": "@jupyter-widgets/base",
            "overflow": null,
            "_model_module_version": "1.2.0",
            "_view_count": null,
            "flex_flow": null,
            "width": null,
            "min_width": null,
            "border": null,
            "align_items": null,
            "bottom": null,
            "_model_module": "@jupyter-widgets/base",
            "top": null,
            "grid_column": null,
            "overflow_y": null,
            "overflow_x": null,
            "grid_auto_flow": null,
            "grid_area": null,
            "grid_template_columns": null,
            "flex": null,
            "_model_name": "LayoutModel",
            "justify_items": null,
            "grid_row": null,
            "max_height": null,
            "align_content": null,
            "visibility": null,
            "align_self": null,
            "height": null,
            "min_height": null,
            "padding": null,
            "grid_auto_rows": null,
            "grid_gap": null,
            "max_width": null,
            "order": null,
            "_view_module_version": "1.2.0",
            "grid_template_areas": null,
            "object_position": null,
            "object_fit": null,
            "grid_auto_columns": null,
            "margin": null,
            "display": null,
            "left": null
          }
        }
      }
    }
  },
  "cells": [
    {
      "cell_type": "markdown",
      "metadata": {
        "id": "ilg1P1stVzi6"
      },
      "source": [
        "# **Simple Sentiment Analysis on IMDB Reviews**"
      ]
    },
    {
      "cell_type": "markdown",
      "metadata": {
        "id": "K9yMfqzyV4rE"
      },
      "source": [
        "## **Import Library**"
      ]
    },
    {
      "cell_type": "code",
      "metadata": {
        "colab": {
          "base_uri": "https://localhost:8080/"
        },
        "id": "68Bd2zKmIq8L",
        "outputId": "dbc89a0d-6a61-4fb9-9da0-2e5f10dfe4b2"
      },
      "source": [
        "import tensorflow as tf\n",
        "import tensorflow_datasets as tfds\n",
        "import numpy as np\n",
        "import matplotlib.pyplot as plt\n",
        "%matplotlib inline\n",
        "\n",
        "print('TensorFlow version: ', tf.__version__)\n",
        "print('TensorFlow Datasets version: ', tfds.__version__)\n",
        "print('NumPy version: ', np.__version__)\n",
        "\n",
        "from tensorflow.keras.preprocessing.text import Tokenizer\n",
        "from tensorflow.keras.preprocessing.sequence import pad_sequences"
      ],
      "execution_count": 1,
      "outputs": [
        {
          "output_type": "stream",
          "text": [
            "TensorFlow version:  2.5.0\n",
            "TensorFlow Datasets version:  4.0.1\n",
            "NumPy version:  1.19.5\n"
          ],
          "name": "stdout"
        }
      ]
    },
    {
      "cell_type": "markdown",
      "metadata": {
        "id": "uMYBokLJgr-K"
      },
      "source": [
        "## **General Function**"
      ]
    },
    {
      "cell_type": "markdown",
      "metadata": {
        "id": "EzEwpNPYHzml"
      },
      "source": [
        "### **Model Compiling and Fitting**"
      ]
    },
    {
      "cell_type": "code",
      "metadata": {
        "id": "fMSbfN1GH3S1"
      },
      "source": [
        "def model_compile_and_fit(model, training_data, training_labels, testing_data, testing_labels, number_of_epochs=50, ):\n",
        "  model.compile(loss='binary_crossentropy', optimizer='adam', metrics=['accuracy'])\n",
        "\n",
        "  model_history = model.fit(training_data, \n",
        "                  training_labels, \n",
        "                  epochs=number_of_epochs,\n",
        "                  validation_data=(testing_data, testing_labels),\n",
        "                  verbose=2)\n",
        "  return model_history"
      ],
      "execution_count": 2,
      "outputs": []
    },
    {
      "cell_type": "markdown",
      "metadata": {
        "id": "9XYQCdZGHv_g"
      },
      "source": [
        "### **Model History Plotting**"
      ]
    },
    {
      "cell_type": "code",
      "metadata": {
        "id": "JZUoyWthgvsn"
      },
      "source": [
        "def plot_model_graph(history_model, list_data, list_labels, title):\n",
        "  plt.figure(figsize=(8,4))\n",
        "  \n",
        "  for x in range(len(list_data)):\n",
        "    plt.plot(history_model.history[list_data[x]], label=list_labels[x])\n",
        "    \n",
        "  plt.xlabel('Epochs')\n",
        "  plt.ylabel('Value')\n",
        "  plt.legend(list_labels, loc='upper left')\n",
        "  plt.title(title)\n",
        "  plt.show()"
      ],
      "execution_count": 3,
      "outputs": []
    },
    {
      "cell_type": "markdown",
      "metadata": {
        "id": "1lI1w2XyWDPZ"
      },
      "source": [
        "## **Import Dataset**"
      ]
    },
    {
      "cell_type": "code",
      "metadata": {
        "id": "Onex-PajI-K5",
        "colab": {
          "base_uri": "https://localhost:8080/",
          "height": 358,
          "referenced_widgets": [
            "06088a9219954d5e808c490893c94b9e",
            "395e05d929e84775b54d095030e2f4fb",
            "02d3d7db9f274dc9bf764114bcb75bfc",
            "f86624c4e11647d5846206e7ec42de97",
            "14acf76f9ef84a2b807b1d110e1a9e0a",
            "f175f6c8aba543c9859e3e23f54084b4",
            "ed583d4f64cc4d67820c2d4c15ef758c",
            "b51f3b7f228a4144b3d4905a370c4297",
            "b51f7a6b40dd45c5a275af4e1b50169d",
            "8bb82f5856eb43faa99e88d2abad3556",
            "5153a5eedca740ee9d1f0e9a081c8aef",
            "71be44373723430589af17c7a448cc8c",
            "b9e6262ef07e4cb886e858ba5b5ae1bb",
            "7540f941441b4cbd80829c7cd8c5a3cd",
            "000bddfff9884cefa0808c108b11e0d7",
            "2d759873b6c041a5b99bee474d48880d",
            "6d405aa8c0cb4572b3daace62f46baea",
            "3203d7c42e9c4a4fbeed229626b47da3",
            "b52d2613fb104302bc6f56f1c4e52d49",
            "44729f5d412b44609176041884df3c08",
            "4d7d21b3cce7434a957fcf634705cd56",
            "42a554180d1e499bbc61529f86ac1e6d",
            "fed65eba2700434da8ac80a3ec128d3f",
            "6ef8fa682c4b4d5f823de43e8b31b95b",
            "f940678ff2604c999c632825aaaaa159",
            "bca6f06787cd472da77ea8c983a5a643",
            "f1d52071e2af47f492be4cbcac4e9dc2",
            "a65e2e58f2dc4b899431d7246e86c898",
            "440483429f2642dba1672fd61849f4cb",
            "0872b913d7f94ddb97757e7e8d566062",
            "8dbd079f9ea744ebac66a5397b4f44f9",
            "db5c4c7b7ee342cfb2bd283b365e2f93",
            "a813625988604fa9bbd3590532eb37a4",
            "f39a23b1805c41fb9515e148aa3a2f94",
            "365a4c95e58f4c81b7ffd089f6d912c1",
            "bb9d32b3155442c897213bdc61cf682d",
            "63f5ea368c7f43c18c56abf255d8626e",
            "45e086d6e93644e397e3a48334337273",
            "df5bdc019eb54853b5a39f2bc47f2e9b",
            "0229240015d644228931d1f7c809c4c7",
            "251c9f6559d14e44b051fbcb349b4481",
            "89e92ce08a29474fa1caa45a7f639cfe",
            "c1da6d34e0684b53b2425d3b705bff52",
            "e61848d960b248c589f31c21eb78bf93",
            "f224bb3fe9984698967d66aca4e27f53",
            "e45279c8344340909f8d6ab9864659fb",
            "b4aed0ce9c6f482e846e772166836365",
            "64af875ce9d644fca6bb9fbba7dcd654",
            "fc034ac558eb45ffb684bbbe4d5911b4",
            "de66afba328c47c0808320a8b26ec8cb",
            "f24533977aad4e92979af860e5894908",
            "72d0baab94bc4923bc2b4963710208a9",
            "58cd868c57714262b3abe7783ff7d2f3",
            "cea52efcc4e9412db7a469354caf75b6",
            "c5c0b92cb70e4d8ea5c3cd97f08cdac1",
            "67cd428a8ee940b2a883493ac1af1a03",
            "48cf8e45d5d346258680c71316dd57ac",
            "636ddc26a90c46ff8dcc380600d6ca51",
            "1775b60d414049678fc446b3d26dbeda",
            "75c45d754e2b436b89b597dc36f0ef62",
            "81e33e7ec5ad44e9b99ca64f7c7ccfef",
            "21bf44c969cf4f0c8e6dc78904272cca",
            "5d8e05fbc46b40fc99fd9308ca533a0f",
            "2906faedd50d40ba875949971506cce5"
          ]
        },
        "outputId": "784685fa-65b0-43c4-ffea-174b23fa0422"
      },
      "source": [
        "imdb_data, imdb_info = tfds.load('imdb_reviews', as_supervised=True, with_info=True)"
      ],
      "execution_count": 4,
      "outputs": [
        {
          "output_type": "stream",
          "text": [
            "\u001b[1mDownloading and preparing dataset imdb_reviews/plain_text/1.0.0 (download: 80.23 MiB, generated: Unknown size, total: 80.23 MiB) to /root/tensorflow_datasets/imdb_reviews/plain_text/1.0.0...\u001b[0m\n"
          ],
          "name": "stdout"
        },
        {
          "output_type": "display_data",
          "data": {
            "application/vnd.jupyter.widget-view+json": {
              "model_id": "06088a9219954d5e808c490893c94b9e",
              "version_minor": 0,
              "version_major": 2
            },
            "text/plain": [
              "HBox(children=(FloatProgress(value=1.0, bar_style='info', description='Dl Completed...', max=1.0, style=Progre…"
            ]
          },
          "metadata": {
            "tags": []
          }
        },
        {
          "output_type": "display_data",
          "data": {
            "application/vnd.jupyter.widget-view+json": {
              "model_id": "b51f7a6b40dd45c5a275af4e1b50169d",
              "version_minor": 0,
              "version_major": 2
            },
            "text/plain": [
              "HBox(children=(FloatProgress(value=1.0, bar_style='info', description='Dl Size...', max=1.0, style=ProgressSty…"
            ]
          },
          "metadata": {
            "tags": []
          }
        },
        {
          "output_type": "stream",
          "text": [
            "\n",
            "\n",
            "\n",
            "\n"
          ],
          "name": "stdout"
        },
        {
          "output_type": "display_data",
          "data": {
            "application/vnd.jupyter.widget-view+json": {
              "model_id": "6d405aa8c0cb4572b3daace62f46baea",
              "version_minor": 0,
              "version_major": 2
            },
            "text/plain": [
              "HBox(children=(FloatProgress(value=1.0, bar_style='info', max=1.0), HTML(value='')))"
            ]
          },
          "metadata": {
            "tags": []
          }
        },
        {
          "output_type": "stream",
          "text": [
            "\rShuffling and writing examples to /root/tensorflow_datasets/imdb_reviews/plain_text/1.0.0.incompleteS0VQBI/imdb_reviews-train.tfrecord\n"
          ],
          "name": "stdout"
        },
        {
          "output_type": "display_data",
          "data": {
            "application/vnd.jupyter.widget-view+json": {
              "model_id": "f940678ff2604c999c632825aaaaa159",
              "version_minor": 0,
              "version_major": 2
            },
            "text/plain": [
              "HBox(children=(FloatProgress(value=0.0, max=25000.0), HTML(value='')))"
            ]
          },
          "metadata": {
            "tags": []
          }
        },
        {
          "output_type": "stream",
          "text": [
            "\r"
          ],
          "name": "stdout"
        },
        {
          "output_type": "display_data",
          "data": {
            "application/vnd.jupyter.widget-view+json": {
              "model_id": "a813625988604fa9bbd3590532eb37a4",
              "version_minor": 0,
              "version_major": 2
            },
            "text/plain": [
              "HBox(children=(FloatProgress(value=1.0, bar_style='info', max=1.0), HTML(value='')))"
            ]
          },
          "metadata": {
            "tags": []
          }
        },
        {
          "output_type": "stream",
          "text": [
            "\rShuffling and writing examples to /root/tensorflow_datasets/imdb_reviews/plain_text/1.0.0.incompleteS0VQBI/imdb_reviews-test.tfrecord\n"
          ],
          "name": "stdout"
        },
        {
          "output_type": "display_data",
          "data": {
            "application/vnd.jupyter.widget-view+json": {
              "model_id": "251c9f6559d14e44b051fbcb349b4481",
              "version_minor": 0,
              "version_major": 2
            },
            "text/plain": [
              "HBox(children=(FloatProgress(value=0.0, max=25000.0), HTML(value='')))"
            ]
          },
          "metadata": {
            "tags": []
          }
        },
        {
          "output_type": "stream",
          "text": [
            "\r"
          ],
          "name": "stdout"
        },
        {
          "output_type": "display_data",
          "data": {
            "application/vnd.jupyter.widget-view+json": {
              "model_id": "fc034ac558eb45ffb684bbbe4d5911b4",
              "version_minor": 0,
              "version_major": 2
            },
            "text/plain": [
              "HBox(children=(FloatProgress(value=1.0, bar_style='info', max=1.0), HTML(value='')))"
            ]
          },
          "metadata": {
            "tags": []
          }
        },
        {
          "output_type": "stream",
          "text": [
            "\rShuffling and writing examples to /root/tensorflow_datasets/imdb_reviews/plain_text/1.0.0.incompleteS0VQBI/imdb_reviews-unsupervised.tfrecord\n"
          ],
          "name": "stdout"
        },
        {
          "output_type": "display_data",
          "data": {
            "application/vnd.jupyter.widget-view+json": {
              "model_id": "48cf8e45d5d346258680c71316dd57ac",
              "version_minor": 0,
              "version_major": 2
            },
            "text/plain": [
              "HBox(children=(FloatProgress(value=0.0, max=50000.0), HTML(value='')))"
            ]
          },
          "metadata": {
            "tags": []
          }
        },
        {
          "output_type": "stream",
          "text": [
            "WARNING:absl:Dataset is using deprecated text encoder API which will be removed soon. Please use the plain_text version of the dataset and migrate to `tensorflow_text`.\n"
          ],
          "name": "stderr"
        },
        {
          "output_type": "stream",
          "text": [
            "\u001b[1mDataset imdb_reviews downloaded and prepared to /root/tensorflow_datasets/imdb_reviews/plain_text/1.0.0. Subsequent calls will reuse this data.\u001b[0m\n",
            "\r"
          ],
          "name": "stdout"
        }
      ]
    },
    {
      "cell_type": "markdown",
      "metadata": {
        "id": "O_MGdEhnWG0p"
      },
      "source": [
        "## **A Glimpse of the Dataset**"
      ]
    },
    {
      "cell_type": "code",
      "metadata": {
        "colab": {
          "base_uri": "https://localhost:8080/"
        },
        "id": "R7Hxh6yeJ_Fg",
        "outputId": "bb571756-2d4e-4b1d-fcd9-98047bad66fc"
      },
      "source": [
        "imdb_data"
      ],
      "execution_count": 5,
      "outputs": [
        {
          "output_type": "execute_result",
          "data": {
            "text/plain": [
              "{'test': <PrefetchDataset shapes: ((), ()), types: (tf.string, tf.int64)>,\n",
              " 'train': <PrefetchDataset shapes: ((), ()), types: (tf.string, tf.int64)>,\n",
              " 'unsupervised': <PrefetchDataset shapes: ((), ()), types: (tf.string, tf.int64)>}"
            ]
          },
          "metadata": {
            "tags": []
          },
          "execution_count": 5
        }
      ]
    },
    {
      "cell_type": "code",
      "metadata": {
        "colab": {
          "base_uri": "https://localhost:8080/"
        },
        "id": "b4lT7tSkNshQ",
        "outputId": "48610237-9618-43a1-f3b3-3b0a84504299"
      },
      "source": [
        "imdb_info"
      ],
      "execution_count": 6,
      "outputs": [
        {
          "output_type": "execute_result",
          "data": {
            "text/plain": [
              "tfds.core.DatasetInfo(\n",
              "    name='imdb_reviews',\n",
              "    version=1.0.0,\n",
              "    description='Large Movie Review Dataset.\n",
              "This is a dataset for binary sentiment classification containing substantially more data than previous benchmark datasets. We provide a set of 25,000 highly polar movie reviews for training, and 25,000 for testing. There is additional unlabeled data for use as well.',\n",
              "    homepage='http://ai.stanford.edu/~amaas/data/sentiment/',\n",
              "    features=FeaturesDict({\n",
              "        'label': ClassLabel(shape=(), dtype=tf.int64, num_classes=2),\n",
              "        'text': Text(shape=(), dtype=tf.string),\n",
              "    }),\n",
              "    total_num_examples=100000,\n",
              "    splits={\n",
              "        'test': 25000,\n",
              "        'train': 25000,\n",
              "        'unsupervised': 50000,\n",
              "    },\n",
              "    supervised_keys=('text', 'label'),\n",
              "    citation=\"\"\"@InProceedings{maas-EtAl:2011:ACL-HLT2011,\n",
              "      author    = {Maas, Andrew L.  and  Daly, Raymond E.  and  Pham, Peter T.  and  Huang, Dan  and  Ng, Andrew Y.  and  Potts, Christopher},\n",
              "      title     = {Learning Word Vectors for Sentiment Analysis},\n",
              "      booktitle = {Proceedings of the 49th Annual Meeting of the Association for Computational Linguistics: Human Language Technologies},\n",
              "      month     = {June},\n",
              "      year      = {2011},\n",
              "      address   = {Portland, Oregon, USA},\n",
              "      publisher = {Association for Computational Linguistics},\n",
              "      pages     = {142--150},\n",
              "      url       = {http://www.aclweb.org/anthology/P11-1015}\n",
              "    }\"\"\",\n",
              "    redistribution_info=,\n",
              ")"
            ]
          },
          "metadata": {
            "tags": []
          },
          "execution_count": 6
        }
      ]
    },
    {
      "cell_type": "markdown",
      "metadata": {
        "id": "NXsR6ERhWTvJ"
      },
      "source": [
        "## **Preparing Training and Testing Data**"
      ]
    },
    {
      "cell_type": "code",
      "metadata": {
        "id": "34sh-iTZN4Fv"
      },
      "source": [
        "training_data, testing_data = imdb_data['train'], imdb_data['test']"
      ],
      "execution_count": 7,
      "outputs": []
    },
    {
      "cell_type": "code",
      "metadata": {
        "id": "x5CWeF7aOEHH"
      },
      "source": [
        "training_sentences = []\n",
        "training_labels = []\n",
        "\n",
        "testing_sentences = []\n",
        "testing_labels = []\n",
        "\n",
        "for sentence, label in training_data:\n",
        "  training_sentences.append(str(sentence.numpy()))\n",
        "  training_labels.append(label.numpy())\n",
        "\n",
        "for sentence, label in testing_data:\n",
        "  testing_sentences.append(str(sentence.numpy()))\n",
        "  testing_labels.append(label.numpy())"
      ],
      "execution_count": 8,
      "outputs": []
    },
    {
      "cell_type": "code",
      "metadata": {
        "id": "0Z2kAx0OUjkQ"
      },
      "source": [
        "training_labels_final = np.array(training_labels)\n",
        "testing_labels_final = np.array(testing_labels)"
      ],
      "execution_count": 9,
      "outputs": []
    },
    {
      "cell_type": "markdown",
      "metadata": {
        "id": "sgigX0_OWZCA"
      },
      "source": [
        "## **Tokenization**"
      ]
    },
    {
      "cell_type": "code",
      "metadata": {
        "id": "R2BORG8vVOJX"
      },
      "source": [
        "'''\n",
        "Tokenizer specification\n",
        "'''\n",
        "\n",
        "vocabulary_size = 10000\n",
        "oov_string = '<OOV>'\n",
        "embedding_dimension = 16\n",
        "max_length = 140\n",
        "trunc_type = 'post'"
      ],
      "execution_count": 10,
      "outputs": []
    },
    {
      "cell_type": "code",
      "metadata": {
        "id": "MqoeMkKAVHJg"
      },
      "source": [
        "tokenizer = Tokenizer(num_words=vocabulary_size, oov_token=oov_string)\n",
        "tokenizer.fit_on_texts(training_sentences)"
      ],
      "execution_count": 11,
      "outputs": []
    },
    {
      "cell_type": "code",
      "metadata": {
        "id": "N9Z-5YbqWzJf"
      },
      "source": [
        "word_index = tokenizer.word_index"
      ],
      "execution_count": 12,
      "outputs": []
    },
    {
      "cell_type": "code",
      "metadata": {
        "id": "xkG6lWj0X8Dg"
      },
      "source": [
        "training_sequences = tokenizer.texts_to_sequences(training_sentences)"
      ],
      "execution_count": 13,
      "outputs": []
    },
    {
      "cell_type": "code",
      "metadata": {
        "id": "UXpUjdfNX9Y_"
      },
      "source": [
        "training_padded = pad_sequences(training_sequences, maxlen=max_length, truncating=trunc_type)"
      ],
      "execution_count": 14,
      "outputs": []
    },
    {
      "cell_type": "code",
      "metadata": {
        "id": "gJWPB2kvW3BY"
      },
      "source": [
        "testing_sequences = tokenizer.texts_to_sequences(testing_sentences)"
      ],
      "execution_count": 15,
      "outputs": []
    },
    {
      "cell_type": "code",
      "metadata": {
        "id": "Ngj2Fg0gXgrX"
      },
      "source": [
        "testing_padded = pad_sequences(testing_sequences, maxlen=max_length)"
      ],
      "execution_count": 16,
      "outputs": []
    },
    {
      "cell_type": "markdown",
      "metadata": {
        "id": "eEDld2QPYgMH"
      },
      "source": [
        "## **Building & Training Model**"
      ]
    },
    {
      "cell_type": "markdown",
      "metadata": {
        "id": "2-eu89CPI4Pj"
      },
      "source": [
        "### **Using Only Embedding**"
      ]
    },
    {
      "cell_type": "code",
      "metadata": {
        "colab": {
          "base_uri": "https://localhost:8080/"
        },
        "id": "_-OPNUS_Wr_I",
        "outputId": "4d384d0a-6afa-4b88-bab0-0bd485448aeb"
      },
      "source": [
        "model_embedding_only = tf.keras.Sequential([\n",
        "  tf.keras.layers.Embedding(vocabulary_size, embedding_dimension, input_length=max_length),\n",
        "  tf.keras.layers.Flatten(),\n",
        "  tf.keras.layers.Dense(32, activation='relu'),\n",
        "  tf.keras.layers.Dense(1, activation='sigmoid')\n",
        "])\n",
        "model_embedding_only.summary()"
      ],
      "execution_count": 17,
      "outputs": [
        {
          "output_type": "stream",
          "text": [
            "Model: \"sequential\"\n",
            "_________________________________________________________________\n",
            "Layer (type)                 Output Shape              Param #   \n",
            "=================================================================\n",
            "embedding (Embedding)        (None, 140, 16)           160000    \n",
            "_________________________________________________________________\n",
            "flatten (Flatten)            (None, 2240)              0         \n",
            "_________________________________________________________________\n",
            "dense (Dense)                (None, 32)                71712     \n",
            "_________________________________________________________________\n",
            "dense_1 (Dense)              (None, 1)                 33        \n",
            "=================================================================\n",
            "Total params: 231,745\n",
            "Trainable params: 231,745\n",
            "Non-trainable params: 0\n",
            "_________________________________________________________________\n"
          ],
          "name": "stdout"
        }
      ]
    },
    {
      "cell_type": "code",
      "metadata": {
        "colab": {
          "base_uri": "https://localhost:8080/"
        },
        "id": "LEuOIklxM3in",
        "outputId": "857ab088-bc91-48e5-8750-0e3e53ccc27c"
      },
      "source": [
        "model_embedding_only_history = model_compile_and_fit(model_embedding_only, training_padded, \n",
        "                                                     training_labels_final, testing_padded, testing_labels_final)"
      ],
      "execution_count": 18,
      "outputs": [
        {
          "output_type": "stream",
          "text": [
            "Epoch 1/50\n",
            "782/782 - 6s - loss: 0.4514 - accuracy: 0.7738 - val_loss: 0.3360 - val_accuracy: 0.8524\n",
            "Epoch 2/50\n",
            "782/782 - 4s - loss: 0.1944 - accuracy: 0.9275 - val_loss: 0.4129 - val_accuracy: 0.8290\n",
            "Epoch 3/50\n",
            "782/782 - 4s - loss: 0.0487 - accuracy: 0.9878 - val_loss: 0.5295 - val_accuracy: 0.8240\n",
            "Epoch 4/50\n",
            "782/782 - 4s - loss: 0.0072 - accuracy: 0.9994 - val_loss: 0.6298 - val_accuracy: 0.8284\n",
            "Epoch 5/50\n",
            "782/782 - 4s - loss: 0.0013 - accuracy: 1.0000 - val_loss: 0.6774 - val_accuracy: 0.8320\n",
            "Epoch 6/50\n",
            "782/782 - 4s - loss: 5.0269e-04 - accuracy: 1.0000 - val_loss: 0.7214 - val_accuracy: 0.8327\n",
            "Epoch 7/50\n",
            "782/782 - 4s - loss: 2.6873e-04 - accuracy: 1.0000 - val_loss: 0.7590 - val_accuracy: 0.8337\n",
            "Epoch 8/50\n",
            "782/782 - 4s - loss: 1.5652e-04 - accuracy: 1.0000 - val_loss: 0.7940 - val_accuracy: 0.8348\n",
            "Epoch 9/50\n",
            "782/782 - 4s - loss: 9.3049e-05 - accuracy: 1.0000 - val_loss: 0.8293 - val_accuracy: 0.8345\n",
            "Epoch 10/50\n",
            "782/782 - 4s - loss: 5.8744e-05 - accuracy: 1.0000 - val_loss: 0.8632 - val_accuracy: 0.8346\n",
            "Epoch 11/50\n",
            "782/782 - 4s - loss: 3.5891e-05 - accuracy: 1.0000 - val_loss: 0.8956 - val_accuracy: 0.8350\n",
            "Epoch 12/50\n",
            "782/782 - 4s - loss: 2.2572e-05 - accuracy: 1.0000 - val_loss: 0.9273 - val_accuracy: 0.8352\n",
            "Epoch 13/50\n",
            "782/782 - 4s - loss: 1.4265e-05 - accuracy: 1.0000 - val_loss: 0.9601 - val_accuracy: 0.8356\n",
            "Epoch 14/50\n",
            "782/782 - 4s - loss: 9.0773e-06 - accuracy: 1.0000 - val_loss: 0.9929 - val_accuracy: 0.8355\n",
            "Epoch 15/50\n",
            "782/782 - 4s - loss: 5.7993e-06 - accuracy: 1.0000 - val_loss: 1.0232 - val_accuracy: 0.8358\n",
            "Epoch 16/50\n",
            "782/782 - 4s - loss: 3.7394e-06 - accuracy: 1.0000 - val_loss: 1.0553 - val_accuracy: 0.8358\n",
            "Epoch 17/50\n",
            "782/782 - 4s - loss: 2.3952e-06 - accuracy: 1.0000 - val_loss: 1.0880 - val_accuracy: 0.8356\n",
            "Epoch 18/50\n",
            "782/782 - 4s - loss: 1.5626e-06 - accuracy: 1.0000 - val_loss: 1.1184 - val_accuracy: 0.8355\n",
            "Epoch 19/50\n",
            "782/782 - 4s - loss: 1.0069e-06 - accuracy: 1.0000 - val_loss: 1.1492 - val_accuracy: 0.8357\n",
            "Epoch 20/50\n",
            "782/782 - 4s - loss: 6.5698e-07 - accuracy: 1.0000 - val_loss: 1.1814 - val_accuracy: 0.8357\n",
            "Epoch 21/50\n",
            "782/782 - 4s - loss: 4.3541e-07 - accuracy: 1.0000 - val_loss: 1.2114 - val_accuracy: 0.8354\n",
            "Epoch 22/50\n",
            "782/782 - 4s - loss: 2.8421e-07 - accuracy: 1.0000 - val_loss: 1.2422 - val_accuracy: 0.8353\n",
            "Epoch 23/50\n",
            "782/782 - 4s - loss: 1.8963e-07 - accuracy: 1.0000 - val_loss: 1.2718 - val_accuracy: 0.8358\n",
            "Epoch 24/50\n",
            "782/782 - 4s - loss: 1.2764e-07 - accuracy: 1.0000 - val_loss: 1.2994 - val_accuracy: 0.8357\n",
            "Epoch 25/50\n",
            "782/782 - 4s - loss: 8.7307e-08 - accuracy: 1.0000 - val_loss: 1.3280 - val_accuracy: 0.8354\n",
            "Epoch 26/50\n",
            "782/782 - 4s - loss: 5.9673e-08 - accuracy: 1.0000 - val_loss: 1.3543 - val_accuracy: 0.8358\n",
            "Epoch 27/50\n",
            "782/782 - 4s - loss: 4.1629e-08 - accuracy: 1.0000 - val_loss: 1.3820 - val_accuracy: 0.8356\n",
            "Epoch 28/50\n",
            "782/782 - 4s - loss: 2.9490e-08 - accuracy: 1.0000 - val_loss: 1.4053 - val_accuracy: 0.8358\n",
            "Epoch 29/50\n",
            "782/782 - 4s - loss: 2.1257e-08 - accuracy: 1.0000 - val_loss: 1.4309 - val_accuracy: 0.8354\n",
            "Epoch 30/50\n",
            "782/782 - 4s - loss: 1.5608e-08 - accuracy: 1.0000 - val_loss: 1.4541 - val_accuracy: 0.8349\n",
            "Epoch 31/50\n",
            "782/782 - 4s - loss: 1.1687e-08 - accuracy: 1.0000 - val_loss: 1.4767 - val_accuracy: 0.8353\n",
            "Epoch 32/50\n",
            "782/782 - 4s - loss: 9.1066e-09 - accuracy: 1.0000 - val_loss: 1.4981 - val_accuracy: 0.8350\n",
            "Epoch 33/50\n",
            "782/782 - 4s - loss: 7.2303e-09 - accuracy: 1.0000 - val_loss: 1.5168 - val_accuracy: 0.8348\n",
            "Epoch 34/50\n",
            "782/782 - 4s - loss: 6.0647e-09 - accuracy: 1.0000 - val_loss: 1.5324 - val_accuracy: 0.8347\n",
            "Epoch 35/50\n",
            "782/782 - 4s - loss: 5.2641e-09 - accuracy: 1.0000 - val_loss: 1.5524 - val_accuracy: 0.8349\n",
            "Epoch 36/50\n",
            "782/782 - 4s - loss: 4.7654e-09 - accuracy: 1.0000 - val_loss: 1.5600 - val_accuracy: 0.8349\n",
            "Epoch 37/50\n",
            "782/782 - 4s - loss: 4.3368e-09 - accuracy: 1.0000 - val_loss: 1.5752 - val_accuracy: 0.8350\n",
            "Epoch 38/50\n",
            "782/782 - 4s - loss: 6.4413e-04 - accuracy: 0.9997 - val_loss: 2.2224 - val_accuracy: 0.7921\n",
            "Epoch 39/50\n",
            "782/782 - 4s - loss: 0.0646 - accuracy: 0.9844 - val_loss: 1.7761 - val_accuracy: 0.8134\n",
            "Epoch 40/50\n",
            "782/782 - 4s - loss: 0.0047 - accuracy: 0.9983 - val_loss: 1.7827 - val_accuracy: 0.8112\n",
            "Epoch 41/50\n",
            "782/782 - 4s - loss: 8.1237e-05 - accuracy: 1.0000 - val_loss: 1.8087 - val_accuracy: 0.8110\n",
            "Epoch 42/50\n",
            "782/782 - 4s - loss: 1.1169e-05 - accuracy: 1.0000 - val_loss: 1.7874 - val_accuracy: 0.8119\n",
            "Epoch 43/50\n",
            "782/782 - 4s - loss: 5.7587e-06 - accuracy: 1.0000 - val_loss: 1.7878 - val_accuracy: 0.8120\n",
            "Epoch 44/50\n",
            "782/782 - 4s - loss: 4.3956e-06 - accuracy: 1.0000 - val_loss: 1.7889 - val_accuracy: 0.8121\n",
            "Epoch 45/50\n",
            "782/782 - 4s - loss: 3.4426e-06 - accuracy: 1.0000 - val_loss: 1.7904 - val_accuracy: 0.8122\n",
            "Epoch 46/50\n",
            "782/782 - 4s - loss: 2.6614e-06 - accuracy: 1.0000 - val_loss: 1.7930 - val_accuracy: 0.8126\n",
            "Epoch 47/50\n",
            "782/782 - 4s - loss: 2.0614e-06 - accuracy: 1.0000 - val_loss: 1.7947 - val_accuracy: 0.8131\n",
            "Epoch 48/50\n",
            "782/782 - 4s - loss: 1.6151e-06 - accuracy: 1.0000 - val_loss: 1.7996 - val_accuracy: 0.8133\n",
            "Epoch 49/50\n",
            "782/782 - 4s - loss: 1.2471e-06 - accuracy: 1.0000 - val_loss: 1.8030 - val_accuracy: 0.8134\n",
            "Epoch 50/50\n",
            "782/782 - 4s - loss: 9.4915e-07 - accuracy: 1.0000 - val_loss: 1.8084 - val_accuracy: 0.8136\n"
          ],
          "name": "stdout"
        }
      ]
    },
    {
      "cell_type": "markdown",
      "metadata": {
        "id": "MGfU50s_Jw2P"
      },
      "source": [
        "### **Using LSTM**"
      ]
    },
    {
      "cell_type": "code",
      "metadata": {
        "colab": {
          "base_uri": "https://localhost:8080/"
        },
        "id": "w7-2RjMVIQHK",
        "outputId": "305e4632-acb4-42cd-87a7-3f2459291a74"
      },
      "source": [
        "model_lstm = tf.keras.Sequential([\n",
        "  tf.keras.layers.Embedding(vocabulary_size, embedding_dimension, input_length=max_length),\n",
        "  tf.keras.layers.Bidirectional(tf.keras.layers.LSTM(64, return_sequences=True)),\n",
        "  tf.keras.layers.Bidirectional(tf.keras.layers.LSTM(32)),\n",
        "  tf.keras.layers.Dense(32, activation='relu'),\n",
        "  tf.keras.layers.Dense(1, activation='sigmoid')\n",
        "])\n",
        "model_lstm.summary()"
      ],
      "execution_count": 19,
      "outputs": [
        {
          "output_type": "stream",
          "text": [
            "Model: \"sequential_1\"\n",
            "_________________________________________________________________\n",
            "Layer (type)                 Output Shape              Param #   \n",
            "=================================================================\n",
            "embedding_1 (Embedding)      (None, 140, 16)           160000    \n",
            "_________________________________________________________________\n",
            "bidirectional (Bidirectional (None, 140, 128)          41472     \n",
            "_________________________________________________________________\n",
            "bidirectional_1 (Bidirection (None, 64)                41216     \n",
            "_________________________________________________________________\n",
            "dense_2 (Dense)              (None, 32)                2080      \n",
            "_________________________________________________________________\n",
            "dense_3 (Dense)              (None, 1)                 33        \n",
            "=================================================================\n",
            "Total params: 244,801\n",
            "Trainable params: 244,801\n",
            "Non-trainable params: 0\n",
            "_________________________________________________________________\n"
          ],
          "name": "stdout"
        }
      ]
    },
    {
      "cell_type": "code",
      "metadata": {
        "colab": {
          "base_uri": "https://localhost:8080/"
        },
        "id": "uInposupNPbI",
        "outputId": "e469aac9-2b57-4e7b-a088-d7498f8d97ad"
      },
      "source": [
        "model_lstm_history = model_compile_and_fit(model_lstm, training_padded, \n",
        "                                           training_labels_final, testing_padded, testing_labels_final)"
      ],
      "execution_count": 20,
      "outputs": [
        {
          "output_type": "stream",
          "text": [
            "Epoch 1/50\n",
            "782/782 - 197s - loss: 0.4668 - accuracy: 0.7684 - val_loss: 0.3427 - val_accuracy: 0.8534\n",
            "Epoch 2/50\n",
            "782/782 - 191s - loss: 0.2854 - accuracy: 0.8864 - val_loss: 0.3425 - val_accuracy: 0.8506\n",
            "Epoch 3/50\n",
            "782/782 - 191s - loss: 0.2299 - accuracy: 0.9123 - val_loss: 0.3601 - val_accuracy: 0.8449\n",
            "Epoch 4/50\n",
            "782/782 - 191s - loss: 0.1708 - accuracy: 0.9392 - val_loss: 0.4136 - val_accuracy: 0.8368\n",
            "Epoch 5/50\n",
            "782/782 - 191s - loss: 0.1327 - accuracy: 0.9542 - val_loss: 0.5263 - val_accuracy: 0.8296\n",
            "Epoch 6/50\n",
            "782/782 - 191s - loss: 0.0969 - accuracy: 0.9682 - val_loss: 0.5269 - val_accuracy: 0.8306\n",
            "Epoch 7/50\n",
            "782/782 - 190s - loss: 0.0667 - accuracy: 0.9778 - val_loss: 0.5729 - val_accuracy: 0.8195\n",
            "Epoch 8/50\n",
            "782/782 - 191s - loss: 0.0557 - accuracy: 0.9811 - val_loss: 0.7144 - val_accuracy: 0.8277\n",
            "Epoch 9/50\n",
            "782/782 - 190s - loss: 0.0458 - accuracy: 0.9849 - val_loss: 0.7255 - val_accuracy: 0.8238\n",
            "Epoch 10/50\n",
            "782/782 - 190s - loss: 0.0292 - accuracy: 0.9905 - val_loss: 0.8441 - val_accuracy: 0.8244\n",
            "Epoch 11/50\n",
            "782/782 - 191s - loss: 0.0269 - accuracy: 0.9912 - val_loss: 0.9444 - val_accuracy: 0.8266\n",
            "Epoch 12/50\n",
            "782/782 - 191s - loss: 0.0183 - accuracy: 0.9947 - val_loss: 0.9501 - val_accuracy: 0.8262\n",
            "Epoch 13/50\n",
            "782/782 - 193s - loss: 0.0279 - accuracy: 0.9907 - val_loss: 0.9362 - val_accuracy: 0.8237\n",
            "Epoch 14/50\n",
            "782/782 - 193s - loss: 0.0183 - accuracy: 0.9941 - val_loss: 1.0261 - val_accuracy: 0.8120\n",
            "Epoch 15/50\n",
            "782/782 - 192s - loss: 0.0215 - accuracy: 0.9924 - val_loss: 0.8960 - val_accuracy: 0.8250\n",
            "Epoch 16/50\n",
            "782/782 - 192s - loss: 0.0136 - accuracy: 0.9958 - val_loss: 1.0010 - val_accuracy: 0.8215\n",
            "Epoch 17/50\n",
            "782/782 - 192s - loss: 0.0083 - accuracy: 0.9974 - val_loss: 1.1382 - val_accuracy: 0.8188\n",
            "Epoch 18/50\n",
            "782/782 - 192s - loss: 0.0165 - accuracy: 0.9945 - val_loss: 1.0957 - val_accuracy: 0.8240\n",
            "Epoch 19/50\n",
            "782/782 - 192s - loss: 0.0126 - accuracy: 0.9960 - val_loss: 1.0425 - val_accuracy: 0.8242\n",
            "Epoch 20/50\n",
            "782/782 - 192s - loss: 0.0123 - accuracy: 0.9958 - val_loss: 1.0207 - val_accuracy: 0.8195\n",
            "Epoch 21/50\n",
            "782/782 - 192s - loss: 0.0078 - accuracy: 0.9977 - val_loss: 1.1930 - val_accuracy: 0.8220\n",
            "Epoch 22/50\n",
            "782/782 - 192s - loss: 0.0122 - accuracy: 0.9962 - val_loss: 1.1137 - val_accuracy: 0.8208\n",
            "Epoch 23/50\n",
            "782/782 - 192s - loss: 0.0066 - accuracy: 0.9979 - val_loss: 1.2827 - val_accuracy: 0.8238\n",
            "Epoch 24/50\n",
            "782/782 - 191s - loss: 0.0071 - accuracy: 0.9976 - val_loss: 1.2974 - val_accuracy: 0.8264\n",
            "Epoch 25/50\n",
            "782/782 - 191s - loss: 0.0122 - accuracy: 0.9962 - val_loss: 1.2536 - val_accuracy: 0.8240\n",
            "Epoch 26/50\n",
            "782/782 - 191s - loss: 0.0036 - accuracy: 0.9989 - val_loss: 1.3501 - val_accuracy: 0.8040\n",
            "Epoch 27/50\n",
            "782/782 - 191s - loss: 0.0075 - accuracy: 0.9972 - val_loss: 1.3689 - val_accuracy: 0.8204\n",
            "Epoch 28/50\n",
            "782/782 - 192s - loss: 0.0056 - accuracy: 0.9980 - val_loss: 1.4159 - val_accuracy: 0.8200\n",
            "Epoch 29/50\n",
            "782/782 - 192s - loss: 0.0093 - accuracy: 0.9966 - val_loss: 1.2392 - val_accuracy: 0.8250\n",
            "Epoch 30/50\n",
            "782/782 - 192s - loss: 0.0027 - accuracy: 0.9993 - val_loss: 1.3783 - val_accuracy: 0.8154\n",
            "Epoch 31/50\n",
            "782/782 - 192s - loss: 6.7954e-04 - accuracy: 0.9998 - val_loss: 1.5533 - val_accuracy: 0.8231\n",
            "Epoch 32/50\n",
            "782/782 - 193s - loss: 3.6619e-05 - accuracy: 1.0000 - val_loss: 1.6476 - val_accuracy: 0.8218\n",
            "Epoch 33/50\n",
            "782/782 - 192s - loss: 1.5849e-05 - accuracy: 1.0000 - val_loss: 1.7639 - val_accuracy: 0.8227\n",
            "Epoch 34/50\n",
            "782/782 - 192s - loss: 7.1662e-06 - accuracy: 1.0000 - val_loss: 1.9009 - val_accuracy: 0.8222\n",
            "Epoch 35/50\n",
            "782/782 - 194s - loss: 3.6664e-06 - accuracy: 1.0000 - val_loss: 1.9938 - val_accuracy: 0.8218\n",
            "Epoch 36/50\n",
            "782/782 - 193s - loss: 2.2368e-06 - accuracy: 1.0000 - val_loss: 2.0815 - val_accuracy: 0.8215\n",
            "Epoch 37/50\n",
            "782/782 - 193s - loss: 1.4112e-06 - accuracy: 1.0000 - val_loss: 2.1661 - val_accuracy: 0.8216\n",
            "Epoch 38/50\n",
            "782/782 - 192s - loss: 9.1474e-07 - accuracy: 1.0000 - val_loss: 2.2451 - val_accuracy: 0.8217\n",
            "Epoch 39/50\n",
            "782/782 - 192s - loss: 5.9300e-07 - accuracy: 1.0000 - val_loss: 2.3235 - val_accuracy: 0.8216\n",
            "Epoch 40/50\n",
            "782/782 - 192s - loss: 3.8603e-07 - accuracy: 1.0000 - val_loss: 2.4035 - val_accuracy: 0.8217\n",
            "Epoch 41/50\n",
            "782/782 - 192s - loss: 2.5632e-07 - accuracy: 1.0000 - val_loss: 2.4805 - val_accuracy: 0.8216\n",
            "Epoch 42/50\n",
            "782/782 - 192s - loss: 1.6708e-07 - accuracy: 1.0000 - val_loss: 2.5565 - val_accuracy: 0.8212\n",
            "Epoch 43/50\n",
            "782/782 - 192s - loss: 1.1177e-07 - accuracy: 1.0000 - val_loss: 2.6308 - val_accuracy: 0.8212\n",
            "Epoch 44/50\n",
            "782/782 - 192s - loss: 7.3330e-08 - accuracy: 1.0000 - val_loss: 2.7054 - val_accuracy: 0.8208\n",
            "Epoch 45/50\n",
            "782/782 - 192s - loss: 4.9207e-08 - accuracy: 1.0000 - val_loss: 2.7777 - val_accuracy: 0.8208\n",
            "Epoch 46/50\n",
            "782/782 - 192s - loss: 3.3197e-08 - accuracy: 1.0000 - val_loss: 2.8480 - val_accuracy: 0.8204\n",
            "Epoch 47/50\n",
            "782/782 - 192s - loss: 2.2541e-08 - accuracy: 1.0000 - val_loss: 2.9139 - val_accuracy: 0.8201\n",
            "Epoch 48/50\n",
            "782/782 - 193s - loss: 1.5550e-08 - accuracy: 1.0000 - val_loss: 2.9780 - val_accuracy: 0.8200\n",
            "Epoch 49/50\n",
            "782/782 - 194s - loss: 1.0816e-08 - accuracy: 1.0000 - val_loss: 3.0394 - val_accuracy: 0.8197\n",
            "Epoch 50/50\n",
            "782/782 - 193s - loss: 7.6163e-09 - accuracy: 1.0000 - val_loss: 3.0981 - val_accuracy: 0.8197\n"
          ],
          "name": "stdout"
        }
      ]
    },
    {
      "cell_type": "markdown",
      "metadata": {
        "id": "IiZmYdAWJ7ey"
      },
      "source": [
        "### **Using Convolutional**"
      ]
    },
    {
      "cell_type": "code",
      "metadata": {
        "colab": {
          "base_uri": "https://localhost:8080/"
        },
        "id": "TWdCkE7fKCEx",
        "outputId": "b70e0587-85bf-44bb-a831-1e38e41423d3"
      },
      "source": [
        "model_conv = tf.keras.Sequential([\n",
        "  tf.keras.layers.Embedding(vocabulary_size, embedding_dimension, input_length=max_length),\n",
        "  tf.keras.layers.Conv1D(128, 8, activation='relu'),\n",
        "  tf.keras.layers.Flatten(),\n",
        "  tf.keras.layers.Dense(32, activation='relu'),\n",
        "  tf.keras.layers.Dense(1, activation='sigmoid')\n",
        "])\n",
        "model_conv.summary()"
      ],
      "execution_count": 21,
      "outputs": [
        {
          "output_type": "stream",
          "text": [
            "Model: \"sequential_2\"\n",
            "_________________________________________________________________\n",
            "Layer (type)                 Output Shape              Param #   \n",
            "=================================================================\n",
            "embedding_2 (Embedding)      (None, 140, 16)           160000    \n",
            "_________________________________________________________________\n",
            "conv1d (Conv1D)              (None, 133, 128)          16512     \n",
            "_________________________________________________________________\n",
            "flatten_1 (Flatten)          (None, 17024)             0         \n",
            "_________________________________________________________________\n",
            "dense_4 (Dense)              (None, 32)                544800    \n",
            "_________________________________________________________________\n",
            "dense_5 (Dense)              (None, 1)                 33        \n",
            "=================================================================\n",
            "Total params: 721,345\n",
            "Trainable params: 721,345\n",
            "Non-trainable params: 0\n",
            "_________________________________________________________________\n"
          ],
          "name": "stdout"
        }
      ]
    },
    {
      "cell_type": "code",
      "metadata": {
        "colab": {
          "base_uri": "https://localhost:8080/"
        },
        "id": "vy6OiiT0d8yE",
        "outputId": "0ed4a2c7-0f44-4290-d839-64cb625c54b7"
      },
      "source": [
        "model_conv_history = model_compile_and_fit(model_conv, training_padded, \n",
        "                                           training_labels_final, testing_padded, testing_labels_final)"
      ],
      "execution_count": 22,
      "outputs": [
        {
          "output_type": "stream",
          "text": [
            "Epoch 1/50\n",
            "782/782 - 19s - loss: 0.4618 - accuracy: 0.7509 - val_loss: 0.3187 - val_accuracy: 0.8618\n",
            "Epoch 2/50\n",
            "782/782 - 18s - loss: 0.2414 - accuracy: 0.9036 - val_loss: 0.3357 - val_accuracy: 0.8576\n",
            "Epoch 3/50\n",
            "782/782 - 18s - loss: 0.1568 - accuracy: 0.9410 - val_loss: 0.3985 - val_accuracy: 0.8500\n",
            "Epoch 4/50\n",
            "782/782 - 18s - loss: 0.0881 - accuracy: 0.9694 - val_loss: 0.5090 - val_accuracy: 0.8414\n",
            "Epoch 5/50\n",
            "782/782 - 18s - loss: 0.0373 - accuracy: 0.9878 - val_loss: 0.7011 - val_accuracy: 0.8369\n",
            "Epoch 6/50\n",
            "782/782 - 18s - loss: 0.0194 - accuracy: 0.9943 - val_loss: 0.8766 - val_accuracy: 0.8322\n",
            "Epoch 7/50\n",
            "782/782 - 18s - loss: 0.0127 - accuracy: 0.9960 - val_loss: 1.0630 - val_accuracy: 0.8337\n",
            "Epoch 8/50\n",
            "782/782 - 18s - loss: 0.0121 - accuracy: 0.9959 - val_loss: 1.1617 - val_accuracy: 0.8270\n",
            "Epoch 9/50\n",
            "782/782 - 18s - loss: 0.0121 - accuracy: 0.9958 - val_loss: 1.1244 - val_accuracy: 0.8357\n",
            "Epoch 10/50\n",
            "782/782 - 18s - loss: 0.0166 - accuracy: 0.9938 - val_loss: 1.1893 - val_accuracy: 0.8342\n",
            "Epoch 11/50\n",
            "782/782 - 18s - loss: 0.0061 - accuracy: 0.9979 - val_loss: 1.2989 - val_accuracy: 0.8335\n",
            "Epoch 12/50\n",
            "782/782 - 18s - loss: 0.0016 - accuracy: 0.9996 - val_loss: 1.3804 - val_accuracy: 0.8349\n",
            "Epoch 13/50\n",
            "782/782 - 18s - loss: 2.3054e-04 - accuracy: 0.9999 - val_loss: 1.4775 - val_accuracy: 0.8364\n",
            "Epoch 14/50\n",
            "782/782 - 18s - loss: 9.8335e-05 - accuracy: 0.9999 - val_loss: 1.5019 - val_accuracy: 0.8361\n",
            "Epoch 15/50\n",
            "782/782 - 18s - loss: 5.3570e-05 - accuracy: 1.0000 - val_loss: 1.5582 - val_accuracy: 0.8364\n",
            "Epoch 16/50\n",
            "782/782 - 18s - loss: 4.2557e-05 - accuracy: 1.0000 - val_loss: 1.6051 - val_accuracy: 0.8366\n",
            "Epoch 17/50\n",
            "782/782 - 18s - loss: 3.7565e-05 - accuracy: 1.0000 - val_loss: 1.6505 - val_accuracy: 0.8370\n",
            "Epoch 18/50\n",
            "782/782 - 18s - loss: 5.3201e-05 - accuracy: 1.0000 - val_loss: 1.6529 - val_accuracy: 0.8362\n",
            "Epoch 19/50\n",
            "782/782 - 18s - loss: 9.4127e-06 - accuracy: 1.0000 - val_loss: 1.7585 - val_accuracy: 0.8371\n",
            "Epoch 20/50\n",
            "782/782 - 18s - loss: 2.6058e-06 - accuracy: 1.0000 - val_loss: 1.8130 - val_accuracy: 0.8374\n",
            "Epoch 21/50\n",
            "782/782 - 18s - loss: 1.6242e-06 - accuracy: 1.0000 - val_loss: 1.8621 - val_accuracy: 0.8377\n",
            "Epoch 22/50\n",
            "782/782 - 18s - loss: 1.0631e-06 - accuracy: 1.0000 - val_loss: 1.9080 - val_accuracy: 0.8379\n",
            "Epoch 23/50\n",
            "782/782 - 18s - loss: 7.0885e-07 - accuracy: 1.0000 - val_loss: 1.9540 - val_accuracy: 0.8385\n",
            "Epoch 24/50\n",
            "782/782 - 18s - loss: 4.7365e-07 - accuracy: 1.0000 - val_loss: 2.0012 - val_accuracy: 0.8386\n",
            "Epoch 25/50\n",
            "782/782 - 18s - loss: 3.1721e-07 - accuracy: 1.0000 - val_loss: 2.0492 - val_accuracy: 0.8387\n",
            "Epoch 26/50\n",
            "782/782 - 18s - loss: 2.1301e-07 - accuracy: 1.0000 - val_loss: 2.0952 - val_accuracy: 0.8389\n",
            "Epoch 27/50\n",
            "782/782 - 18s - loss: 1.4305e-07 - accuracy: 1.0000 - val_loss: 2.1415 - val_accuracy: 0.8389\n",
            "Epoch 28/50\n",
            "782/782 - 18s - loss: 9.5891e-08 - accuracy: 1.0000 - val_loss: 2.1880 - val_accuracy: 0.8388\n",
            "Epoch 29/50\n",
            "782/782 - 18s - loss: 6.4813e-08 - accuracy: 1.0000 - val_loss: 2.2358 - val_accuracy: 0.8390\n",
            "Epoch 30/50\n",
            "782/782 - 18s - loss: 4.3773e-08 - accuracy: 1.0000 - val_loss: 2.2805 - val_accuracy: 0.8391\n",
            "Epoch 31/50\n",
            "782/782 - 18s - loss: 2.9770e-08 - accuracy: 1.0000 - val_loss: 2.3271 - val_accuracy: 0.8390\n",
            "Epoch 32/50\n",
            "782/782 - 18s - loss: 2.0433e-08 - accuracy: 1.0000 - val_loss: 2.3735 - val_accuracy: 0.8390\n",
            "Epoch 33/50\n",
            "782/782 - 18s - loss: 1.4140e-08 - accuracy: 1.0000 - val_loss: 2.4159 - val_accuracy: 0.8392\n",
            "Epoch 34/50\n",
            "782/782 - 18s - loss: 9.8761e-09 - accuracy: 1.0000 - val_loss: 2.4605 - val_accuracy: 0.8394\n",
            "Epoch 35/50\n",
            "782/782 - 18s - loss: 6.9206e-09 - accuracy: 1.0000 - val_loss: 2.5043 - val_accuracy: 0.8390\n",
            "Epoch 36/50\n",
            "782/782 - 18s - loss: 4.9499e-09 - accuracy: 1.0000 - val_loss: 2.5450 - val_accuracy: 0.8392\n",
            "Epoch 37/50\n",
            "782/782 - 19s - loss: 3.5853e-09 - accuracy: 1.0000 - val_loss: 2.5861 - val_accuracy: 0.8392\n",
            "Epoch 38/50\n",
            "782/782 - 18s - loss: 2.6611e-09 - accuracy: 1.0000 - val_loss: 2.6261 - val_accuracy: 0.8391\n",
            "Epoch 39/50\n",
            "782/782 - 19s - loss: 2.0352e-09 - accuracy: 1.0000 - val_loss: 2.6626 - val_accuracy: 0.8388\n",
            "Epoch 40/50\n",
            "782/782 - 19s - loss: 1.6226e-09 - accuracy: 1.0000 - val_loss: 2.6974 - val_accuracy: 0.8388\n",
            "Epoch 41/50\n",
            "782/782 - 18s - loss: 1.3430e-09 - accuracy: 1.0000 - val_loss: 2.7308 - val_accuracy: 0.8388\n",
            "Epoch 42/50\n",
            "782/782 - 18s - loss: 1.1573e-09 - accuracy: 1.0000 - val_loss: 2.7586 - val_accuracy: 0.8389\n",
            "Epoch 43/50\n",
            "782/782 - 18s - loss: 1.0343e-09 - accuracy: 1.0000 - val_loss: 2.7949 - val_accuracy: 0.8380\n",
            "Epoch 44/50\n",
            "782/782 - 19s - loss: 9.4331e-10 - accuracy: 1.0000 - val_loss: 2.8194 - val_accuracy: 0.8379\n",
            "Epoch 45/50\n",
            "782/782 - 18s - loss: 8.8144e-10 - accuracy: 1.0000 - val_loss: 2.8414 - val_accuracy: 0.8381\n",
            "Epoch 46/50\n",
            "782/782 - 18s - loss: 8.2010e-10 - accuracy: 1.0000 - val_loss: 2.8648 - val_accuracy: 0.8378\n",
            "Epoch 47/50\n",
            "782/782 - 19s - loss: 7.7717e-10 - accuracy: 1.0000 - val_loss: 2.8835 - val_accuracy: 0.8376\n",
            "Epoch 48/50\n",
            "782/782 - 18s - loss: 7.5791e-10 - accuracy: 1.0000 - val_loss: 2.8995 - val_accuracy: 0.8377\n",
            "Epoch 49/50\n",
            "782/782 - 18s - loss: 7.2812e-10 - accuracy: 1.0000 - val_loss: 2.9104 - val_accuracy: 0.8381\n",
            "Epoch 50/50\n",
            "782/782 - 18s - loss: 6.7411e-10 - accuracy: 1.0000 - val_loss: 2.9299 - val_accuracy: 0.8376\n"
          ],
          "name": "stdout"
        }
      ]
    },
    {
      "cell_type": "markdown",
      "metadata": {
        "id": "OTFR2m4AJ-xP"
      },
      "source": [
        "### **Using GRU**"
      ]
    },
    {
      "cell_type": "code",
      "metadata": {
        "colab": {
          "base_uri": "https://localhost:8080/"
        },
        "id": "7jVzC_4GKCb4",
        "outputId": "c3773aff-98f4-4bb2-df5c-41714883f6a7"
      },
      "source": [
        "model_gru = tf.keras.Sequential([\n",
        "  tf.keras.layers.Embedding(vocabulary_size, embedding_dimension, input_length=max_length),\n",
        "  tf.keras.layers.Bidirectional(tf.keras.layers.GRU(64, return_sequences=True)),\n",
        "  tf.keras.layers.Bidirectional(tf.keras.layers.GRU(32)),\n",
        "  tf.keras.layers.Dense(32, activation='relu'),\n",
        "  tf.keras.layers.Dense(1, activation='sigmoid')\n",
        "])\n",
        "model_gru.summary()"
      ],
      "execution_count": 23,
      "outputs": [
        {
          "output_type": "stream",
          "text": [
            "Model: \"sequential_3\"\n",
            "_________________________________________________________________\n",
            "Layer (type)                 Output Shape              Param #   \n",
            "=================================================================\n",
            "embedding_3 (Embedding)      (None, 140, 16)           160000    \n",
            "_________________________________________________________________\n",
            "bidirectional_2 (Bidirection (None, 140, 128)          31488     \n",
            "_________________________________________________________________\n",
            "bidirectional_3 (Bidirection (None, 64)                31104     \n",
            "_________________________________________________________________\n",
            "dense_6 (Dense)              (None, 32)                2080      \n",
            "_________________________________________________________________\n",
            "dense_7 (Dense)              (None, 1)                 33        \n",
            "=================================================================\n",
            "Total params: 224,705\n",
            "Trainable params: 224,705\n",
            "Non-trainable params: 0\n",
            "_________________________________________________________________\n"
          ],
          "name": "stdout"
        }
      ]
    },
    {
      "cell_type": "code",
      "metadata": {
        "colab": {
          "base_uri": "https://localhost:8080/"
        },
        "id": "Z7waIFgdhhGs",
        "outputId": "515e3bf8-495b-418f-8ed8-003799dc89dd"
      },
      "source": [
        "model_gru_history = model_compile_and_fit(model_gru, training_padded, \n",
        "                                           training_labels_final, testing_padded, testing_labels_final)"
      ],
      "execution_count": 24,
      "outputs": [
        {
          "output_type": "stream",
          "text": [
            "Epoch 1/50\n",
            "782/782 - 190s - loss: 0.4902 - accuracy: 0.7367 - val_loss: 0.3760 - val_accuracy: 0.8321\n",
            "Epoch 2/50\n",
            "782/782 - 183s - loss: 0.2864 - accuracy: 0.8830 - val_loss: 0.3365 - val_accuracy: 0.8554\n",
            "Epoch 3/50\n",
            "782/782 - 182s - loss: 0.2187 - accuracy: 0.9144 - val_loss: 0.3598 - val_accuracy: 0.8432\n",
            "Epoch 4/50\n",
            "782/782 - 183s - loss: 0.1633 - accuracy: 0.9414 - val_loss: 0.4090 - val_accuracy: 0.8417\n",
            "Epoch 5/50\n",
            "782/782 - 183s - loss: 0.1130 - accuracy: 0.9614 - val_loss: 0.4790 - val_accuracy: 0.8366\n",
            "Epoch 6/50\n",
            "782/782 - 183s - loss: 0.0763 - accuracy: 0.9746 - val_loss: 0.5742 - val_accuracy: 0.8233\n",
            "Epoch 7/50\n",
            "782/782 - 183s - loss: 0.0488 - accuracy: 0.9842 - val_loss: 0.6473 - val_accuracy: 0.8213\n",
            "Epoch 8/50\n",
            "782/782 - 183s - loss: 0.0380 - accuracy: 0.9874 - val_loss: 0.7839 - val_accuracy: 0.8246\n",
            "Epoch 9/50\n",
            "782/782 - 183s - loss: 0.0201 - accuracy: 0.9937 - val_loss: 0.8574 - val_accuracy: 0.8204\n",
            "Epoch 10/50\n",
            "782/782 - 183s - loss: 0.0204 - accuracy: 0.9928 - val_loss: 0.9887 - val_accuracy: 0.8224\n",
            "Epoch 11/50\n",
            "782/782 - 182s - loss: 0.0166 - accuracy: 0.9945 - val_loss: 0.9680 - val_accuracy: 0.8222\n",
            "Epoch 12/50\n",
            "782/782 - 183s - loss: 0.0130 - accuracy: 0.9958 - val_loss: 1.1379 - val_accuracy: 0.8179\n",
            "Epoch 13/50\n",
            "782/782 - 183s - loss: 0.0100 - accuracy: 0.9967 - val_loss: 1.1837 - val_accuracy: 0.8252\n",
            "Epoch 14/50\n",
            "782/782 - 183s - loss: 0.0111 - accuracy: 0.9963 - val_loss: 1.0860 - val_accuracy: 0.8190\n",
            "Epoch 15/50\n",
            "782/782 - 183s - loss: 0.0083 - accuracy: 0.9972 - val_loss: 1.1665 - val_accuracy: 0.8235\n",
            "Epoch 16/50\n",
            "782/782 - 182s - loss: 0.0090 - accuracy: 0.9971 - val_loss: 1.1064 - val_accuracy: 0.8257\n",
            "Epoch 17/50\n",
            "782/782 - 183s - loss: 0.0066 - accuracy: 0.9978 - val_loss: 1.2179 - val_accuracy: 0.8301\n",
            "Epoch 18/50\n",
            "782/782 - 183s - loss: 0.0050 - accuracy: 0.9982 - val_loss: 1.3281 - val_accuracy: 0.8150\n",
            "Epoch 19/50\n",
            "782/782 - 183s - loss: 0.0080 - accuracy: 0.9973 - val_loss: 1.4056 - val_accuracy: 0.8294\n",
            "Epoch 20/50\n",
            "782/782 - 183s - loss: 0.0061 - accuracy: 0.9974 - val_loss: 1.3126 - val_accuracy: 0.8227\n",
            "Epoch 21/50\n",
            "782/782 - 184s - loss: 0.0049 - accuracy: 0.9984 - val_loss: 1.2968 - val_accuracy: 0.8253\n",
            "Epoch 22/50\n",
            "782/782 - 184s - loss: 0.0042 - accuracy: 0.9988 - val_loss: 1.5631 - val_accuracy: 0.8138\n",
            "Epoch 23/50\n",
            "782/782 - 184s - loss: 0.0048 - accuracy: 0.9984 - val_loss: 1.5020 - val_accuracy: 0.8228\n",
            "Epoch 24/50\n",
            "782/782 - 183s - loss: 0.0045 - accuracy: 0.9986 - val_loss: 1.4811 - val_accuracy: 0.8238\n",
            "Epoch 25/50\n",
            "782/782 - 184s - loss: 0.0042 - accuracy: 0.9983 - val_loss: 1.6001 - val_accuracy: 0.8213\n",
            "Epoch 26/50\n",
            "782/782 - 183s - loss: 0.0033 - accuracy: 0.9988 - val_loss: 1.5698 - val_accuracy: 0.8130\n",
            "Epoch 27/50\n",
            "782/782 - 183s - loss: 0.0063 - accuracy: 0.9982 - val_loss: 1.3376 - val_accuracy: 0.8207\n",
            "Epoch 28/50\n",
            "782/782 - 184s - loss: 0.0016 - accuracy: 0.9994 - val_loss: 1.7291 - val_accuracy: 0.8165\n",
            "Epoch 29/50\n",
            "782/782 - 184s - loss: 4.9188e-04 - accuracy: 0.9998 - val_loss: 1.7944 - val_accuracy: 0.8232\n",
            "Epoch 30/50\n",
            "782/782 - 183s - loss: 5.8790e-05 - accuracy: 1.0000 - val_loss: 1.8331 - val_accuracy: 0.8220\n",
            "Epoch 31/50\n",
            "782/782 - 183s - loss: 8.3462e-06 - accuracy: 1.0000 - val_loss: 1.8914 - val_accuracy: 0.8225\n",
            "Epoch 32/50\n",
            "782/782 - 183s - loss: 4.5103e-06 - accuracy: 1.0000 - val_loss: 1.9421 - val_accuracy: 0.8229\n",
            "Epoch 33/50\n",
            "782/782 - 184s - loss: 3.0220e-06 - accuracy: 1.0000 - val_loss: 1.9920 - val_accuracy: 0.8232\n",
            "Epoch 34/50\n",
            "782/782 - 184s - loss: 2.0538e-06 - accuracy: 1.0000 - val_loss: 2.0439 - val_accuracy: 0.8230\n",
            "Epoch 35/50\n",
            "782/782 - 184s - loss: 1.3969e-06 - accuracy: 1.0000 - val_loss: 2.0969 - val_accuracy: 0.8236\n",
            "Epoch 36/50\n",
            "782/782 - 184s - loss: 9.4363e-07 - accuracy: 1.0000 - val_loss: 2.1518 - val_accuracy: 0.8240\n",
            "Epoch 37/50\n",
            "782/782 - 183s - loss: 6.3101e-07 - accuracy: 1.0000 - val_loss: 2.2095 - val_accuracy: 0.8243\n",
            "Epoch 38/50\n",
            "782/782 - 183s - loss: 4.2245e-07 - accuracy: 1.0000 - val_loss: 2.2650 - val_accuracy: 0.8246\n",
            "Epoch 39/50\n",
            "782/782 - 183s - loss: 2.8078e-07 - accuracy: 1.0000 - val_loss: 2.3240 - val_accuracy: 0.8248\n",
            "Epoch 40/50\n",
            "782/782 - 184s - loss: 1.8650e-07 - accuracy: 1.0000 - val_loss: 2.3843 - val_accuracy: 0.8246\n",
            "Epoch 41/50\n",
            "782/782 - 183s - loss: 1.2303e-07 - accuracy: 1.0000 - val_loss: 2.4433 - val_accuracy: 0.8250\n",
            "Epoch 42/50\n",
            "782/782 - 182s - loss: 8.1439e-08 - accuracy: 1.0000 - val_loss: 2.5048 - val_accuracy: 0.8252\n",
            "Epoch 43/50\n",
            "782/782 - 183s - loss: 5.3933e-08 - accuracy: 1.0000 - val_loss: 2.5658 - val_accuracy: 0.8252\n",
            "Epoch 44/50\n",
            "782/782 - 184s - loss: 3.5857e-08 - accuracy: 1.0000 - val_loss: 2.6251 - val_accuracy: 0.8252\n",
            "Epoch 45/50\n",
            "782/782 - 184s - loss: 2.3997e-08 - accuracy: 1.0000 - val_loss: 2.6852 - val_accuracy: 0.8256\n",
            "Epoch 46/50\n",
            "782/782 - 183s - loss: 1.6234e-08 - accuracy: 1.0000 - val_loss: 2.7427 - val_accuracy: 0.8258\n",
            "Epoch 47/50\n",
            "782/782 - 183s - loss: 1.1075e-08 - accuracy: 1.0000 - val_loss: 2.7981 - val_accuracy: 0.8258\n",
            "Epoch 48/50\n",
            "782/782 - 182s - loss: 7.6432e-09 - accuracy: 1.0000 - val_loss: 2.8543 - val_accuracy: 0.8260\n",
            "Epoch 49/50\n",
            "782/782 - 182s - loss: 5.3622e-09 - accuracy: 1.0000 - val_loss: 2.9051 - val_accuracy: 0.8259\n",
            "Epoch 50/50\n",
            "782/782 - 182s - loss: 3.8365e-09 - accuracy: 1.0000 - val_loss: 2.9563 - val_accuracy: 0.8258\n"
          ],
          "name": "stdout"
        }
      ]
    },
    {
      "cell_type": "code",
      "metadata": {
        "id": "bsxhoNsELmaD"
      },
      "source": [
        "model_dict = {\n",
        "    'simple': {\n",
        "        'model': model_embedding_only_history,\n",
        "        'title': 'Embedding Only'\n",
        "    },\n",
        "    'lstm': {\n",
        "        'model': model_lstm_history,\n",
        "        'title': 'LSTM Model'\n",
        "    },\n",
        "    'conv': {\n",
        "        'model': model_conv_history,\n",
        "        'title': 'Convolutional Model'\n",
        "    },\n",
        "    'gru': {\n",
        "        'model': model_gru_history,\n",
        "        'title': 'GRU Model'\n",
        "    },\n",
        "}"
      ],
      "execution_count": 25,
      "outputs": []
    },
    {
      "cell_type": "markdown",
      "metadata": {
        "id": "OLGHGzdZg2rC"
      },
      "source": [
        "## **Model History Visualization**"
      ]
    },
    {
      "cell_type": "code",
      "metadata": {
        "id": "2jyr5y7pmkiz",
        "colab": {
          "base_uri": "https://localhost:8080/",
          "height": 1000
        },
        "outputId": "e95823e8-1d5b-438e-af5c-73afebe937eb"
      },
      "source": [
        "list_accuracy = ['accuracy', 'val_accuracy']\n",
        "list_labels_accuracy = ['Training Accuracy', 'Validation Accuracy']\n",
        "\n",
        "list_loss = ['loss', 'val_loss']\n",
        "list_labels_loss = ['Training Loss', 'Validation Loss']\n",
        "\n",
        "for key, value in model_dict.items():\n",
        "  plot_model_graph(model_dict[key]['model'], \n",
        "                   list_accuracy, \n",
        "                   list_labels_accuracy, \n",
        "                   'Model Accuracy History - %s' %model_dict[key]['title'])\n",
        "\n",
        "for key, value in model_dict.items():\n",
        "  plot_model_graph(model_dict[key]['model'], \n",
        "                   list_loss, \n",
        "                   list_labels_loss, \n",
        "                   'Model Loss History - %s' %model_dict[key]['title'])"
      ],
      "execution_count": 26,
      "outputs": [
        {
          "output_type": "display_data",
          "data": {
            "image/png": "[encoded data removed]",
            "text/plain": [
              "<Figure size 576x288 with 1 Axes>"
            ]
          },
          "metadata": {
            "tags": [],
            "needs_background": "light"
          }
        },
        {
          "output_type": "display_data",
          "data": {
            "image/png": "[encoded data removed]",
            "text/plain": [
              "<Figure size 576x288 with 1 Axes>"
            ]
          },
          "metadata": {
            "tags": [],
            "needs_background": "light"
          }
        },
        {
          "output_type": "display_data",
          "data": {
            "image/png": "[encoded data removed]",
            "text/plain": [
              "<Figure size 576x288 with 1 Axes>"
            ]
          },
          "metadata": {
            "tags": [],
            "needs_background": "light"
          }
        },
        {
          "output_type": "display_data",
          "data": {
            "image/png": "[encoded data removed]",
            "text/plain": [
              "<Figure size 576x288 with 1 Axes>"
            ]
          },
          "metadata": {
            "tags": [],
            "needs_background": "light"
          }
        },
        {
          "output_type": "display_data",
          "data": {
            "image/png": "[encoded data removed]",
            "text/plain": [
              "<Figure size 576x288 with 1 Axes>"
            ]
          },
          "metadata": {
            "tags": [],
            "needs_background": "light"
          }
        },
        {
          "output_type": "display_data",
          "data": {
            "image/png": "[encoded data removed]",
            "text/plain": [
              "<Figure size 576x288 with 1 Axes>"
            ]
          },
          "metadata": {
            "tags": [],
            "needs_background": "light"
          }
        },
        {
          "output_type": "display_data",
          "data": {
            "image/png": "[encoded data removed]",
            "text/plain": [
              "<Figure size 576x288 with 1 Axes>"
            ]
          },
          "metadata": {
            "tags": [],
            "needs_background": "light"
          }
        },
        {
          "output_type": "display_data",
          "data": {
            "image/png": "[encoded data removed]",
            "text/plain": [
              "<Figure size 576x288 with 1 Axes>"
            ]
          },
          "metadata": {
            "tags": [],
            "needs_background": "light"
          }
        }
      ]
    }
  ]
}