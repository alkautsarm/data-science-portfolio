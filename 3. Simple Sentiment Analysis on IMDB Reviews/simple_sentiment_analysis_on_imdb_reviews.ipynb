{
  "nbformat": 4,
  "nbformat_minor": 0,
  "metadata": {
    "colab": {
      "name": "Simple Sentiment Analysis on IMDB Reviews.ipynb",
      "provenance": [],
      "toc_visible": true
    },
    "kernelspec": {
      "name": "python3",
      "display_name": "Python 3"
    },
    "language_info": {
      "name": "python"
    },
    "accelerator": "GPU"
  },
  "cells": [
    {
      "cell_type": "markdown",
      "metadata": {
        "id": "ilg1P1stVzi6"
      },
      "source": [
        "# **Simple Sentiment Analysis on IMDB Reviews**"
      ]
    },
    {
      "cell_type": "markdown",
      "metadata": {
        "id": "K9yMfqzyV4rE"
      },
      "source": [
        "## **Import Library**"
      ]
    },
    {
      "cell_type": "code",
      "metadata": {
        "colab": {
          "base_uri": "https://localhost:8080/"
        },
        "id": "68Bd2zKmIq8L",
        "outputId": "f0365092-c1e6-4c02-fe08-33490bd92803"
      },
      "source": [
        "import tensorflow as tf\n",
        "import tensorflow_datasets as tfds\n",
        "import numpy as np\n",
        "import matplotlib.pyplot as plt\n",
        "%matplotlib inline\n",
        "\n",
        "print('TensorFlow version: ', tf.__version__)\n",
        "print('TensorFlow Datasets version: ', tfds.__version__)\n",
        "print('NumPy version: ', np.__version__)\n",
        "\n",
        "from tensorflow.keras.preprocessing.text import Tokenizer\n",
        "from tensorflow.keras.preprocessing.sequence import pad_sequences"
      ],
      "execution_count": 55,
      "outputs": [
        {
          "output_type": "stream",
          "text": [
            "TensorFlow version:  2.5.0\n",
            "TensorFlow Datasets version:  4.0.1\n",
            "NumPy version:  1.19.5\n"
          ],
          "name": "stdout"
        }
      ]
    },
    {
      "cell_type": "markdown",
      "metadata": {
        "id": "1lI1w2XyWDPZ"
      },
      "source": [
        "## **Import IMDB Reviews Dataset**"
      ]
    },
    {
      "cell_type": "code",
      "metadata": {
        "id": "Onex-PajI-K5"
      },
      "source": [
        "imdb_data, imdb_info = tfds.load('imdb_reviews', as_supervised=True, with_info=True)"
      ],
      "execution_count": 56,
      "outputs": []
    },
    {
      "cell_type": "markdown",
      "metadata": {
        "id": "O_MGdEhnWG0p"
      },
      "source": [
        "## **A Glimpse IMDB Reviews Dataset**"
      ]
    },
    {
      "cell_type": "code",
      "metadata": {
        "colab": {
          "base_uri": "https://localhost:8080/"
        },
        "id": "R7Hxh6yeJ_Fg",
        "outputId": "207003c1-5c5b-4ade-c7eb-9065e682939b"
      },
      "source": [
        "imdb_data"
      ],
      "execution_count": 57,
      "outputs": [
        {
          "output_type": "execute_result",
          "data": {
            "text/plain": [
              "{'test': <PrefetchDataset shapes: ((), ()), types: (tf.string, tf.int64)>,\n",
              " 'train': <PrefetchDataset shapes: ((), ()), types: (tf.string, tf.int64)>,\n",
              " 'unsupervised': <PrefetchDataset shapes: ((), ()), types: (tf.string, tf.int64)>}"
            ]
          },
          "metadata": {
            "tags": []
          },
          "execution_count": 57
        }
      ]
    },
    {
      "cell_type": "code",
      "metadata": {
        "colab": {
          "base_uri": "https://localhost:8080/"
        },
        "id": "b4lT7tSkNshQ",
        "outputId": "194d5907-bc10-44e8-b794-dbc1783df146"
      },
      "source": [
        "imdb_info"
      ],
      "execution_count": 58,
      "outputs": [
        {
          "output_type": "execute_result",
          "data": {
            "text/plain": [
              "tfds.core.DatasetInfo(\n",
              "    name='imdb_reviews',\n",
              "    version=1.0.0,\n",
              "    description='Large Movie Review Dataset.\n",
              "This is a dataset for binary sentiment classification containing substantially more data than previous benchmark datasets. We provide a set of 25,000 highly polar movie reviews for training, and 25,000 for testing. There is additional unlabeled data for use as well.',\n",
              "    homepage='http://ai.stanford.edu/~amaas/data/sentiment/',\n",
              "    features=FeaturesDict({\n",
              "        'label': ClassLabel(shape=(), dtype=tf.int64, num_classes=2),\n",
              "        'text': Text(shape=(), dtype=tf.string),\n",
              "    }),\n",
              "    total_num_examples=100000,\n",
              "    splits={\n",
              "        'test': 25000,\n",
              "        'train': 25000,\n",
              "        'unsupervised': 50000,\n",
              "    },\n",
              "    supervised_keys=('text', 'label'),\n",
              "    citation=\"\"\"@InProceedings{maas-EtAl:2011:ACL-HLT2011,\n",
              "      author    = {Maas, Andrew L.  and  Daly, Raymond E.  and  Pham, Peter T.  and  Huang, Dan  and  Ng, Andrew Y.  and  Potts, Christopher},\n",
              "      title     = {Learning Word Vectors for Sentiment Analysis},\n",
              "      booktitle = {Proceedings of the 49th Annual Meeting of the Association for Computational Linguistics: Human Language Technologies},\n",
              "      month     = {June},\n",
              "      year      = {2011},\n",
              "      address   = {Portland, Oregon, USA},\n",
              "      publisher = {Association for Computational Linguistics},\n",
              "      pages     = {142--150},\n",
              "      url       = {http://www.aclweb.org/anthology/P11-1015}\n",
              "    }\"\"\",\n",
              "    redistribution_info=,\n",
              ")"
            ]
          },
          "metadata": {
            "tags": []
          },
          "execution_count": 58
        }
      ]
    },
    {
      "cell_type": "markdown",
      "metadata": {
        "id": "NXsR6ERhWTvJ"
      },
      "source": [
        "## **Preparing Training and Testing Data**"
      ]
    },
    {
      "cell_type": "code",
      "metadata": {
        "id": "34sh-iTZN4Fv"
      },
      "source": [
        "training_data, testing_data = imdb_data['train'], imdb_data['test']"
      ],
      "execution_count": 59,
      "outputs": []
    },
    {
      "cell_type": "code",
      "metadata": {
        "id": "x5CWeF7aOEHH"
      },
      "source": [
        "training_sentences = []\n",
        "training_labels = []\n",
        "\n",
        "testing_sentences = []\n",
        "testing_labels = []\n",
        "\n",
        "for sentence, label in training_data:\n",
        "  training_sentences.append(str(sentence.numpy()))\n",
        "  training_labels.append(label.numpy())\n",
        "\n",
        "for sentence, label in testing_data:\n",
        "  testing_sentences.append(str(sentence.numpy()))\n",
        "  testing_labels.append(label.numpy())"
      ],
      "execution_count": 60,
      "outputs": []
    },
    {
      "cell_type": "code",
      "metadata": {
        "id": "0Z2kAx0OUjkQ"
      },
      "source": [
        "training_labels_final = np.array(training_labels)\n",
        "testing_labels_final = np.array(testing_labels)"
      ],
      "execution_count": 61,
      "outputs": []
    },
    {
      "cell_type": "markdown",
      "metadata": {
        "id": "sgigX0_OWZCA"
      },
      "source": [
        "## **Tokenization**"
      ]
    },
    {
      "cell_type": "code",
      "metadata": {
        "id": "R2BORG8vVOJX"
      },
      "source": [
        "'''\n",
        "Tokenizer specification\n",
        "'''\n",
        "\n",
        "vocabulary_size = 10000\n",
        "oov_string = '<OOV>'\n",
        "embedding_dimension = 16\n",
        "max_length = 120\n",
        "trunc_type = 'post'"
      ],
      "execution_count": 62,
      "outputs": []
    },
    {
      "cell_type": "code",
      "metadata": {
        "id": "MqoeMkKAVHJg"
      },
      "source": [
        "tokenizer = Tokenizer(num_words=vocabulary_size, oov_token=oov_string)\n",
        "tokenizer.fit_on_texts(training_sentences)"
      ],
      "execution_count": 63,
      "outputs": []
    },
    {
      "cell_type": "code",
      "metadata": {
        "id": "N9Z-5YbqWzJf"
      },
      "source": [
        "word_index = tokenizer.word_index"
      ],
      "execution_count": 64,
      "outputs": []
    },
    {
      "cell_type": "code",
      "metadata": {
        "id": "xkG6lWj0X8Dg"
      },
      "source": [
        "training_sequences = tokenizer.texts_to_sequences(training_sentences)"
      ],
      "execution_count": 65,
      "outputs": []
    },
    {
      "cell_type": "code",
      "metadata": {
        "id": "UXpUjdfNX9Y_"
      },
      "source": [
        "training_padded = pad_sequences(training_sequences, maxlen=max_length, truncating=trunc_type)"
      ],
      "execution_count": 66,
      "outputs": []
    },
    {
      "cell_type": "code",
      "metadata": {
        "id": "gJWPB2kvW3BY"
      },
      "source": [
        "testing_sequences = tokenizer.texts_to_sequences(testing_sentences)"
      ],
      "execution_count": 67,
      "outputs": []
    },
    {
      "cell_type": "code",
      "metadata": {
        "id": "Ngj2Fg0gXgrX"
      },
      "source": [
        "testing_padded = pad_sequences(testing_sequences, maxlen=max_length)"
      ],
      "execution_count": 68,
      "outputs": []
    },
    {
      "cell_type": "markdown",
      "metadata": {
        "id": "eEDld2QPYgMH"
      },
      "source": [
        "## **Building Model**"
      ]
    },
    {
      "cell_type": "code",
      "metadata": {
        "colab": {
          "base_uri": "https://localhost:8080/"
        },
        "id": "_-OPNUS_Wr_I",
        "outputId": "991ab831-9ea0-497e-a96a-b295899c84ea"
      },
      "source": [
        "model = tf.keras.Sequential([\n",
        "  tf.keras.layers.Embedding(vocabulary_size, embedding_dimension, input_length=max_length),\n",
        "  tf.keras.layers.Flatten(),\n",
        "  tf.keras.layers.Dense(16, activation='relu'),\n",
        "  tf.keras.layers.Dense(1, activation='sigmoid')\n",
        "])\n",
        "model.summary()"
      ],
      "execution_count": 69,
      "outputs": [
        {
          "output_type": "stream",
          "text": [
            "Model: \"sequential_1\"\n",
            "_________________________________________________________________\n",
            "Layer (type)                 Output Shape              Param #   \n",
            "=================================================================\n",
            "embedding_1 (Embedding)      (None, 120, 16)           160000    \n",
            "_________________________________________________________________\n",
            "flatten_1 (Flatten)          (None, 1920)              0         \n",
            "_________________________________________________________________\n",
            "dense_2 (Dense)              (None, 16)                30736     \n",
            "_________________________________________________________________\n",
            "dense_3 (Dense)              (None, 1)                 17        \n",
            "=================================================================\n",
            "Total params: 190,753\n",
            "Trainable params: 190,753\n",
            "Non-trainable params: 0\n",
            "_________________________________________________________________\n"
          ],
          "name": "stdout"
        }
      ]
    },
    {
      "cell_type": "code",
      "metadata": {
        "id": "S9gB5xYl1VjP"
      },
      "source": [
        "model.compile(loss='binary_crossentropy', optimizer='adam', metrics=['accuracy'])"
      ],
      "execution_count": 70,
      "outputs": []
    },
    {
      "cell_type": "code",
      "metadata": {
        "colab": {
          "base_uri": "https://localhost:8080/"
        },
        "id": "HjpQcN0T1kZE",
        "outputId": "3786d905-3665-44ca-d2e4-cc4bf9db6cb6"
      },
      "source": [
        "number_of_epochs = 10\n",
        "\n",
        "model_history = model.fit(training_padded, \n",
        "                training_labels_final, \n",
        "                epochs=number_of_epochs,\n",
        "                validation_data=(testing_padded, testing_labels_final))\n",
        "model_history"
      ],
      "execution_count": 71,
      "outputs": [
        {
          "output_type": "stream",
          "text": [
            "Epoch 1/10\n",
            "782/782 [==============================] - 5s 6ms/step - loss: 0.4750 - accuracy: 0.7587 - val_loss: 0.3537 - val_accuracy: 0.8435\n",
            "Epoch 2/10\n",
            "782/782 [==============================] - 4s 6ms/step - loss: 0.2219 - accuracy: 0.9165 - val_loss: 0.3899 - val_accuracy: 0.8311\n",
            "Epoch 3/10\n",
            "782/782 [==============================] - 4s 5ms/step - loss: 0.0644 - accuracy: 0.9846 - val_loss: 0.5135 - val_accuracy: 0.8153\n",
            "Epoch 4/10\n",
            "782/782 [==============================] - 4s 5ms/step - loss: 0.0114 - accuracy: 0.9989 - val_loss: 0.5960 - val_accuracy: 0.8231\n",
            "Epoch 5/10\n",
            "782/782 [==============================] - 5s 6ms/step - loss: 0.0022 - accuracy: 0.9999 - val_loss: 0.6567 - val_accuracy: 0.8247\n",
            "Epoch 6/10\n",
            "782/782 [==============================] - 5s 6ms/step - loss: 8.3252e-04 - accuracy: 1.0000 - val_loss: 0.7036 - val_accuracy: 0.8257\n",
            "Epoch 7/10\n",
            "782/782 [==============================] - 5s 6ms/step - loss: 5.5621e-04 - accuracy: 1.0000 - val_loss: 0.7494 - val_accuracy: 0.8271\n",
            "Epoch 8/10\n",
            "782/782 [==============================] - 5s 6ms/step - loss: 2.4650e-04 - accuracy: 1.0000 - val_loss: 0.7871 - val_accuracy: 0.8270\n",
            "Epoch 9/10\n",
            "782/782 [==============================] - 5s 6ms/step - loss: 1.4211e-04 - accuracy: 1.0000 - val_loss: 0.8221 - val_accuracy: 0.8272\n",
            "Epoch 10/10\n",
            "782/782 [==============================] - 5s 6ms/step - loss: 8.6076e-05 - accuracy: 1.0000 - val_loss: 0.8570 - val_accuracy: 0.8273\n"
          ],
          "name": "stdout"
        },
        {
          "output_type": "execute_result",
          "data": {
            "text/plain": [
              "<tensorflow.python.keras.callbacks.History at 0x7f447d8be810>"
            ]
          },
          "metadata": {
            "tags": []
          },
          "execution_count": 71
        }
      ]
    },
    {
      "cell_type": "code",
      "metadata": {
        "id": "oMRwpLE1Y0n8"
      },
      "source": [
        "def plot_model_graph(list_data, list_labels, title):\n",
        "  plt.figure(figsize=(8,4))\n",
        "  for x in range(len(list_data)):\n",
        "    plt.plot(model_history.history[list_data[x]], label=list_labels[x])\n",
        "  plt.xlabel('Epochs')\n",
        "  plt.ylabel('Value')\n",
        "  plt.legend(list_labels, loc='upper left')\n",
        "  plt.title(title)\n",
        "  plt.show()"
      ],
      "execution_count": 72,
      "outputs": []
    },
    {
      "cell_type": "code",
      "metadata": {
        "colab": {
          "base_uri": "https://localhost:8080/",
          "height": 572
        },
        "id": "2jyr5y7pmkiz",
        "outputId": "14857093-7788-44e0-c528-75b229539f2f"
      },
      "source": [
        "list_data_train = ['accuracy', 'loss']\n",
        "list_labels_train = ['Training Accuracy', 'Training Loss']\n",
        "\n",
        "list_data_val = ['val_accuracy', 'val_loss']\n",
        "list_labels_val = ['Validation Accuracy', 'Validation Loss']\n",
        "\n",
        "plot_model_graph(list_data_train, list_labels_train, 'Model History (Training)')\n",
        "plot_model_graph(list_data_val, list_labels_val, 'Model History (Validation)')"
      ],
      "execution_count": 73,
      "outputs": [
        {
          "output_type": "display_data",
          "data": {
            "image/png": "[encoded data removed]",
            "text/plain": [
              "<Figure size 576x288 with 1 Axes>"
            ]
          },
          "metadata": {
            "tags": [],
            "needs_background": "light"
          }
        },
        {
          "output_type": "display_data",
          "data": {
            "image/png": "[encoded data removed]",
            "text/plain": [
              "<Figure size 576x288 with 1 Axes>"
            ]
          },
          "metadata": {
            "tags": [],
            "needs_background": "light"
          }
        }
      ]
    }
  ]
}