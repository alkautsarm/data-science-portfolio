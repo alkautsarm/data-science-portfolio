{
 "cells": [
  {
   "cell_type": "markdown",
   "id": "79dbcf74",
   "metadata": {
    "papermill": {
     "duration": 0.022545,
     "end_time": "2021-07-22T13:35:18.638590",
     "exception": false,
     "start_time": "2021-07-22T13:35:18.616045",
     "status": "completed"
    },
    "tags": []
   },
   "source": [
    "# Simple House Prices Prediction (Linear Regression)"
   ]
  },
  {
   "cell_type": "markdown",
   "id": "6823694a",
   "metadata": {
    "papermill": {
     "duration": 0.022188,
     "end_time": "2021-07-22T13:35:18.684921",
     "exception": false,
     "start_time": "2021-07-22T13:35:18.662733",
     "status": "completed"
    },
    "tags": []
   },
   "source": [
    "## Background\n",
    "\n",
    "House prices is very important aspect to many stakeholders, namely developers, investors, homeowners, and many more (Limsombunchai et al., 2004). Predicting a house prices could improve the efficiency of the real estate market (Limsombunchai et al., 2004). Also, house prices prediction could fill up an important information gap by considering multiple variables that could predict house prices (Limsombunchai et al., 2004)."
   ]
  },
  {
   "cell_type": "markdown",
   "id": "cf1933cc",
   "metadata": {
    "papermill": {
     "duration": 0.021477,
     "end_time": "2021-07-22T13:35:18.728295",
     "exception": false,
     "start_time": "2021-07-22T13:35:18.706818",
     "status": "completed"
    },
    "tags": []
   },
   "source": [
    "## Scope\n",
    "\n",
    "This notebook restricted to:\n",
    "1. Boston House Prices Dataset (source: https://www.kaggle.com/vikrishnan/boston-house-prices)\n",
    "2. Using Linear Regression Model"
   ]
  },
  {
   "cell_type": "markdown",
   "id": "f407dfd2",
   "metadata": {
    "papermill": {
     "duration": 0.027114,
     "end_time": "2021-07-22T13:35:18.781624",
     "exception": false,
     "start_time": "2021-07-22T13:35:18.754510",
     "status": "completed"
    },
    "tags": []
   },
   "source": [
    "## Purpose\n",
    "\n",
    "This notebook purpose is creating model by using simple linear regression."
   ]
  },
  {
   "cell_type": "markdown",
   "id": "ab732a76",
   "metadata": {
    "papermill": {
     "duration": 0.022051,
     "end_time": "2021-07-22T13:35:18.826575",
     "exception": false,
     "start_time": "2021-07-22T13:35:18.804524",
     "status": "completed"
    },
    "tags": []
   },
   "source": [
    "## Data Analysis"
   ]
  },
  {
   "cell_type": "code",
   "execution_count": 1,
   "id": "d6dcafd5",
   "metadata": {
    "_cell_guid": "b1076dfc-b9ad-4769-8c92-a6c4dae69d19",
    "_uuid": "8f2839f25d086af736a60e9eeb907d3b93b6e0e5",
    "execution": {
     "iopub.execute_input": "2021-07-22T13:35:18.881271Z",
     "iopub.status.busy": "2021-07-22T13:35:18.880273Z",
     "iopub.status.idle": "2021-07-22T13:35:19.945808Z",
     "shell.execute_reply": "2021-07-22T13:35:19.946333Z",
     "shell.execute_reply.started": "2021-07-22T12:20:15.186129Z"
    },
    "papermill": {
     "duration": 1.096735,
     "end_time": "2021-07-22T13:35:19.946600",
     "exception": false,
     "start_time": "2021-07-22T13:35:18.849865",
     "status": "completed"
    },
    "tags": []
   },
   "outputs": [
    {
     "name": "stdout",
     "output_type": "stream",
     "text": [
      "/kaggle/input/boston-house-prices/housing.csv\n"
     ]
    }
   ],
   "source": [
    "# This Python 3 environment comes with many helpful analytics libraries installed\n",
    "# It is defined by the kaggle/python Docker image: https://github.com/kaggle/docker-python\n",
    "# For example, here's several helpful packages to load\n",
    "\n",
    "import numpy as np # linear algebra\n",
    "import pandas as pd # data processing, CSV file I/O (e.g. pd.read_csv)\n",
    "import matplotlib.pyplot as plt\n",
    "import seaborn as sns\n",
    "import scipy\n",
    "\n",
    "# Input data files are available in the read-only \"../input/\" directory\n",
    "# For example, running this (by clicking run or pressing Shift+Enter) will list all files under the input directory\n",
    "\n",
    "import os\n",
    "for dirname, _, filenames in os.walk('/kaggle/input'):\n",
    "    for filename in filenames:\n",
    "        print(os.path.join(dirname, filename))\n",
    "\n",
    "# You can write up to 20GB to the current directory (/kaggle/working/) that gets preserved as output when you create a version using \"Save & Run All\" \n",
    "# You can also write temporary files to /kaggle/temp/, but they won't be saved outside of the current session"
   ]
  },
  {
   "cell_type": "markdown",
   "id": "7e47a26b",
   "metadata": {
    "papermill": {
     "duration": 0.022859,
     "end_time": "2021-07-22T13:35:19.992198",
     "exception": false,
     "start_time": "2021-07-22T13:35:19.969339",
     "status": "completed"
    },
    "tags": []
   },
   "source": [
    "### Read Data"
   ]
  },
  {
   "cell_type": "code",
   "execution_count": 2,
   "id": "97722f26",
   "metadata": {
    "execution": {
     "iopub.execute_input": "2021-07-22T13:35:20.042722Z",
     "iopub.status.busy": "2021-07-22T13:35:20.042047Z",
     "iopub.status.idle": "2021-07-22T13:35:20.095946Z",
     "shell.execute_reply": "2021-07-22T13:35:20.095367Z",
     "shell.execute_reply.started": "2021-07-22T12:20:16.132510Z"
    },
    "papermill": {
     "duration": 0.08163,
     "end_time": "2021-07-22T13:35:20.096087",
     "exception": false,
     "start_time": "2021-07-22T13:35:20.014457",
     "status": "completed"
    },
    "tags": []
   },
   "outputs": [
    {
     "data": {
      "text/html": [
       "<div>\n",
       "<style scoped>\n",
       "    .dataframe tbody tr th:only-of-type {\n",
       "        vertical-align: middle;\n",
       "    }\n",
       "\n",
       "    .dataframe tbody tr th {\n",
       "        vertical-align: top;\n",
       "    }\n",
       "\n",
       "    .dataframe thead th {\n",
       "        text-align: right;\n",
       "    }\n",
       "</style>\n",
       "<table border=\"1\" class=\"dataframe\">\n",
       "  <thead>\n",
       "    <tr style=\"text-align: right;\">\n",
       "      <th></th>\n",
       "      <th>CRIM</th>\n",
       "      <th>ZN</th>\n",
       "      <th>INDUS</th>\n",
       "      <th>CHAS</th>\n",
       "      <th>NOX</th>\n",
       "      <th>RM</th>\n",
       "      <th>AGE</th>\n",
       "      <th>DIS</th>\n",
       "      <th>RAD</th>\n",
       "      <th>TAX</th>\n",
       "      <th>PTRATION</th>\n",
       "      <th>B</th>\n",
       "      <th>LSTAT</th>\n",
       "      <th>PRICE</th>\n",
       "    </tr>\n",
       "  </thead>\n",
       "  <tbody>\n",
       "    <tr>\n",
       "      <th>0</th>\n",
       "      <td>0.00632</td>\n",
       "      <td>18.0</td>\n",
       "      <td>2.31</td>\n",
       "      <td>0</td>\n",
       "      <td>0.538</td>\n",
       "      <td>6.575</td>\n",
       "      <td>65.2</td>\n",
       "      <td>4.0900</td>\n",
       "      <td>1</td>\n",
       "      <td>296.0</td>\n",
       "      <td>15.3</td>\n",
       "      <td>396.90</td>\n",
       "      <td>4.98</td>\n",
       "      <td>24.0</td>\n",
       "    </tr>\n",
       "    <tr>\n",
       "      <th>1</th>\n",
       "      <td>0.02731</td>\n",
       "      <td>0.0</td>\n",
       "      <td>7.07</td>\n",
       "      <td>0</td>\n",
       "      <td>0.469</td>\n",
       "      <td>6.421</td>\n",
       "      <td>78.9</td>\n",
       "      <td>4.9671</td>\n",
       "      <td>2</td>\n",
       "      <td>242.0</td>\n",
       "      <td>17.8</td>\n",
       "      <td>396.90</td>\n",
       "      <td>9.14</td>\n",
       "      <td>21.6</td>\n",
       "    </tr>\n",
       "    <tr>\n",
       "      <th>2</th>\n",
       "      <td>0.02729</td>\n",
       "      <td>0.0</td>\n",
       "      <td>7.07</td>\n",
       "      <td>0</td>\n",
       "      <td>0.469</td>\n",
       "      <td>7.185</td>\n",
       "      <td>61.1</td>\n",
       "      <td>4.9671</td>\n",
       "      <td>2</td>\n",
       "      <td>242.0</td>\n",
       "      <td>17.8</td>\n",
       "      <td>392.83</td>\n",
       "      <td>4.03</td>\n",
       "      <td>34.7</td>\n",
       "    </tr>\n",
       "    <tr>\n",
       "      <th>3</th>\n",
       "      <td>0.03237</td>\n",
       "      <td>0.0</td>\n",
       "      <td>2.18</td>\n",
       "      <td>0</td>\n",
       "      <td>0.458</td>\n",
       "      <td>6.998</td>\n",
       "      <td>45.8</td>\n",
       "      <td>6.0622</td>\n",
       "      <td>3</td>\n",
       "      <td>222.0</td>\n",
       "      <td>18.7</td>\n",
       "      <td>394.63</td>\n",
       "      <td>2.94</td>\n",
       "      <td>33.4</td>\n",
       "    </tr>\n",
       "    <tr>\n",
       "      <th>4</th>\n",
       "      <td>0.06905</td>\n",
       "      <td>0.0</td>\n",
       "      <td>2.18</td>\n",
       "      <td>0</td>\n",
       "      <td>0.458</td>\n",
       "      <td>7.147</td>\n",
       "      <td>54.2</td>\n",
       "      <td>6.0622</td>\n",
       "      <td>3</td>\n",
       "      <td>222.0</td>\n",
       "      <td>18.7</td>\n",
       "      <td>396.90</td>\n",
       "      <td>5.33</td>\n",
       "      <td>36.2</td>\n",
       "    </tr>\n",
       "  </tbody>\n",
       "</table>\n",
       "</div>"
      ],
      "text/plain": [
       "      CRIM    ZN  INDUS  CHAS    NOX     RM   AGE     DIS  RAD    TAX  \\\n",
       "0  0.00632  18.0   2.31     0  0.538  6.575  65.2  4.0900    1  296.0   \n",
       "1  0.02731   0.0   7.07     0  0.469  6.421  78.9  4.9671    2  242.0   \n",
       "2  0.02729   0.0   7.07     0  0.469  7.185  61.1  4.9671    2  242.0   \n",
       "3  0.03237   0.0   2.18     0  0.458  6.998  45.8  6.0622    3  222.0   \n",
       "4  0.06905   0.0   2.18     0  0.458  7.147  54.2  6.0622    3  222.0   \n",
       "\n",
       "   PTRATION       B  LSTAT  PRICE  \n",
       "0      15.3  396.90   4.98   24.0  \n",
       "1      17.8  396.90   9.14   21.6  \n",
       "2      17.8  392.83   4.03   34.7  \n",
       "3      18.7  394.63   2.94   33.4  \n",
       "4      18.7  396.90   5.33   36.2  "
      ]
     },
     "execution_count": 2,
     "metadata": {},
     "output_type": "execute_result"
    }
   ],
   "source": [
    "header_names=['CRIM', 'ZN', 'INDUS', 'CHAS', 'NOX', 'RM', 'AGE', \n",
    "              'DIS', 'RAD', 'TAX', 'PTRATION', 'B', 'LSTAT', 'PRICE']\n",
    "df = pd.read_csv('../input/boston-house-prices/housing.csv', names=header_names, delim_whitespace=True)\n",
    "df.head()"
   ]
  },
  {
   "cell_type": "markdown",
   "id": "ef0f3da6",
   "metadata": {
    "papermill": {
     "duration": 0.023248,
     "end_time": "2021-07-22T13:35:20.142474",
     "exception": false,
     "start_time": "2021-07-22T13:35:20.119226",
     "status": "completed"
    },
    "tags": []
   },
   "source": [
    "### Exploratory Data Analysis"
   ]
  },
  {
   "cell_type": "code",
   "execution_count": 3,
   "id": "957e3686",
   "metadata": {
    "execution": {
     "iopub.execute_input": "2021-07-22T13:35:20.200343Z",
     "iopub.status.busy": "2021-07-22T13:35:20.199614Z",
     "iopub.status.idle": "2021-07-22T13:35:20.251883Z",
     "shell.execute_reply": "2021-07-22T13:35:20.251246Z",
     "shell.execute_reply.started": "2021-07-22T12:20:16.184689Z"
    },
    "papermill": {
     "duration": 0.08661,
     "end_time": "2021-07-22T13:35:20.252023",
     "exception": false,
     "start_time": "2021-07-22T13:35:20.165413",
     "status": "completed"
    },
    "tags": []
   },
   "outputs": [
    {
     "data": {
      "text/html": [
       "<div>\n",
       "<style scoped>\n",
       "    .dataframe tbody tr th:only-of-type {\n",
       "        vertical-align: middle;\n",
       "    }\n",
       "\n",
       "    .dataframe tbody tr th {\n",
       "        vertical-align: top;\n",
       "    }\n",
       "\n",
       "    .dataframe thead th {\n",
       "        text-align: right;\n",
       "    }\n",
       "</style>\n",
       "<table border=\"1\" class=\"dataframe\">\n",
       "  <thead>\n",
       "    <tr style=\"text-align: right;\">\n",
       "      <th></th>\n",
       "      <th>CRIM</th>\n",
       "      <th>ZN</th>\n",
       "      <th>INDUS</th>\n",
       "      <th>CHAS</th>\n",
       "      <th>NOX</th>\n",
       "      <th>RM</th>\n",
       "      <th>AGE</th>\n",
       "      <th>DIS</th>\n",
       "      <th>RAD</th>\n",
       "      <th>TAX</th>\n",
       "      <th>PTRATION</th>\n",
       "      <th>B</th>\n",
       "      <th>LSTAT</th>\n",
       "      <th>PRICE</th>\n",
       "    </tr>\n",
       "  </thead>\n",
       "  <tbody>\n",
       "    <tr>\n",
       "      <th>count</th>\n",
       "      <td>506.000000</td>\n",
       "      <td>506.000000</td>\n",
       "      <td>506.000000</td>\n",
       "      <td>506.000000</td>\n",
       "      <td>506.000000</td>\n",
       "      <td>506.000000</td>\n",
       "      <td>506.000000</td>\n",
       "      <td>506.000000</td>\n",
       "      <td>506.000000</td>\n",
       "      <td>506.000000</td>\n",
       "      <td>506.000000</td>\n",
       "      <td>506.000000</td>\n",
       "      <td>506.000000</td>\n",
       "      <td>506.000000</td>\n",
       "    </tr>\n",
       "    <tr>\n",
       "      <th>mean</th>\n",
       "      <td>3.613524</td>\n",
       "      <td>11.363636</td>\n",
       "      <td>11.136779</td>\n",
       "      <td>0.069170</td>\n",
       "      <td>0.554695</td>\n",
       "      <td>6.284634</td>\n",
       "      <td>68.574901</td>\n",
       "      <td>3.795043</td>\n",
       "      <td>9.549407</td>\n",
       "      <td>408.237154</td>\n",
       "      <td>18.455534</td>\n",
       "      <td>356.674032</td>\n",
       "      <td>12.653063</td>\n",
       "      <td>22.532806</td>\n",
       "    </tr>\n",
       "    <tr>\n",
       "      <th>std</th>\n",
       "      <td>8.601545</td>\n",
       "      <td>23.322453</td>\n",
       "      <td>6.860353</td>\n",
       "      <td>0.253994</td>\n",
       "      <td>0.115878</td>\n",
       "      <td>0.702617</td>\n",
       "      <td>28.148861</td>\n",
       "      <td>2.105710</td>\n",
       "      <td>8.707259</td>\n",
       "      <td>168.537116</td>\n",
       "      <td>2.164946</td>\n",
       "      <td>91.294864</td>\n",
       "      <td>7.141062</td>\n",
       "      <td>9.197104</td>\n",
       "    </tr>\n",
       "    <tr>\n",
       "      <th>min</th>\n",
       "      <td>0.006320</td>\n",
       "      <td>0.000000</td>\n",
       "      <td>0.460000</td>\n",
       "      <td>0.000000</td>\n",
       "      <td>0.385000</td>\n",
       "      <td>3.561000</td>\n",
       "      <td>2.900000</td>\n",
       "      <td>1.129600</td>\n",
       "      <td>1.000000</td>\n",
       "      <td>187.000000</td>\n",
       "      <td>12.600000</td>\n",
       "      <td>0.320000</td>\n",
       "      <td>1.730000</td>\n",
       "      <td>5.000000</td>\n",
       "    </tr>\n",
       "    <tr>\n",
       "      <th>25%</th>\n",
       "      <td>0.082045</td>\n",
       "      <td>0.000000</td>\n",
       "      <td>5.190000</td>\n",
       "      <td>0.000000</td>\n",
       "      <td>0.449000</td>\n",
       "      <td>5.885500</td>\n",
       "      <td>45.025000</td>\n",
       "      <td>2.100175</td>\n",
       "      <td>4.000000</td>\n",
       "      <td>279.000000</td>\n",
       "      <td>17.400000</td>\n",
       "      <td>375.377500</td>\n",
       "      <td>6.950000</td>\n",
       "      <td>17.025000</td>\n",
       "    </tr>\n",
       "    <tr>\n",
       "      <th>50%</th>\n",
       "      <td>0.256510</td>\n",
       "      <td>0.000000</td>\n",
       "      <td>9.690000</td>\n",
       "      <td>0.000000</td>\n",
       "      <td>0.538000</td>\n",
       "      <td>6.208500</td>\n",
       "      <td>77.500000</td>\n",
       "      <td>3.207450</td>\n",
       "      <td>5.000000</td>\n",
       "      <td>330.000000</td>\n",
       "      <td>19.050000</td>\n",
       "      <td>391.440000</td>\n",
       "      <td>11.360000</td>\n",
       "      <td>21.200000</td>\n",
       "    </tr>\n",
       "    <tr>\n",
       "      <th>75%</th>\n",
       "      <td>3.677083</td>\n",
       "      <td>12.500000</td>\n",
       "      <td>18.100000</td>\n",
       "      <td>0.000000</td>\n",
       "      <td>0.624000</td>\n",
       "      <td>6.623500</td>\n",
       "      <td>94.075000</td>\n",
       "      <td>5.188425</td>\n",
       "      <td>24.000000</td>\n",
       "      <td>666.000000</td>\n",
       "      <td>20.200000</td>\n",
       "      <td>396.225000</td>\n",
       "      <td>16.955000</td>\n",
       "      <td>25.000000</td>\n",
       "    </tr>\n",
       "    <tr>\n",
       "      <th>max</th>\n",
       "      <td>88.976200</td>\n",
       "      <td>100.000000</td>\n",
       "      <td>27.740000</td>\n",
       "      <td>1.000000</td>\n",
       "      <td>0.871000</td>\n",
       "      <td>8.780000</td>\n",
       "      <td>100.000000</td>\n",
       "      <td>12.126500</td>\n",
       "      <td>24.000000</td>\n",
       "      <td>711.000000</td>\n",
       "      <td>22.000000</td>\n",
       "      <td>396.900000</td>\n",
       "      <td>37.970000</td>\n",
       "      <td>50.000000</td>\n",
       "    </tr>\n",
       "  </tbody>\n",
       "</table>\n",
       "</div>"
      ],
      "text/plain": [
       "             CRIM          ZN       INDUS        CHAS         NOX          RM  \\\n",
       "count  506.000000  506.000000  506.000000  506.000000  506.000000  506.000000   \n",
       "mean     3.613524   11.363636   11.136779    0.069170    0.554695    6.284634   \n",
       "std      8.601545   23.322453    6.860353    0.253994    0.115878    0.702617   \n",
       "min      0.006320    0.000000    0.460000    0.000000    0.385000    3.561000   \n",
       "25%      0.082045    0.000000    5.190000    0.000000    0.449000    5.885500   \n",
       "50%      0.256510    0.000000    9.690000    0.000000    0.538000    6.208500   \n",
       "75%      3.677083   12.500000   18.100000    0.000000    0.624000    6.623500   \n",
       "max     88.976200  100.000000   27.740000    1.000000    0.871000    8.780000   \n",
       "\n",
       "              AGE         DIS         RAD         TAX    PTRATION           B  \\\n",
       "count  506.000000  506.000000  506.000000  506.000000  506.000000  506.000000   \n",
       "mean    68.574901    3.795043    9.549407  408.237154   18.455534  356.674032   \n",
       "std     28.148861    2.105710    8.707259  168.537116    2.164946   91.294864   \n",
       "min      2.900000    1.129600    1.000000  187.000000   12.600000    0.320000   \n",
       "25%     45.025000    2.100175    4.000000  279.000000   17.400000  375.377500   \n",
       "50%     77.500000    3.207450    5.000000  330.000000   19.050000  391.440000   \n",
       "75%     94.075000    5.188425   24.000000  666.000000   20.200000  396.225000   \n",
       "max    100.000000   12.126500   24.000000  711.000000   22.000000  396.900000   \n",
       "\n",
       "            LSTAT       PRICE  \n",
       "count  506.000000  506.000000  \n",
       "mean    12.653063   22.532806  \n",
       "std      7.141062    9.197104  \n",
       "min      1.730000    5.000000  \n",
       "25%      6.950000   17.025000  \n",
       "50%     11.360000   21.200000  \n",
       "75%     16.955000   25.000000  \n",
       "max     37.970000   50.000000  "
      ]
     },
     "execution_count": 3,
     "metadata": {},
     "output_type": "execute_result"
    }
   ],
   "source": [
    "df.describe()"
   ]
  },
  {
   "cell_type": "code",
   "execution_count": 4,
   "id": "7a53fc49",
   "metadata": {
    "execution": {
     "iopub.execute_input": "2021-07-22T13:35:20.315645Z",
     "iopub.status.busy": "2021-07-22T13:35:20.315007Z",
     "iopub.status.idle": "2021-07-22T13:35:20.319022Z",
     "shell.execute_reply": "2021-07-22T13:35:20.318274Z",
     "shell.execute_reply.started": "2021-07-22T12:20:16.244924Z"
    },
    "papermill": {
     "duration": 0.04379,
     "end_time": "2021-07-22T13:35:20.319210",
     "exception": false,
     "start_time": "2021-07-22T13:35:20.275420",
     "status": "completed"
    },
    "tags": []
   },
   "outputs": [
    {
     "name": "stdout",
     "output_type": "stream",
     "text": [
      "<class 'pandas.core.frame.DataFrame'>\n",
      "RangeIndex: 506 entries, 0 to 505\n",
      "Data columns (total 14 columns):\n",
      " #   Column    Non-Null Count  Dtype  \n",
      "---  ------    --------------  -----  \n",
      " 0   CRIM      506 non-null    float64\n",
      " 1   ZN        506 non-null    float64\n",
      " 2   INDUS     506 non-null    float64\n",
      " 3   CHAS      506 non-null    int64  \n",
      " 4   NOX       506 non-null    float64\n",
      " 5   RM        506 non-null    float64\n",
      " 6   AGE       506 non-null    float64\n",
      " 7   DIS       506 non-null    float64\n",
      " 8   RAD       506 non-null    int64  \n",
      " 9   TAX       506 non-null    float64\n",
      " 10  PTRATION  506 non-null    float64\n",
      " 11  B         506 non-null    float64\n",
      " 12  LSTAT     506 non-null    float64\n",
      " 13  PRICE     506 non-null    float64\n",
      "dtypes: float64(12), int64(2)\n",
      "memory usage: 55.5 KB\n"
     ]
    }
   ],
   "source": [
    "df.info()"
   ]
  },
  {
   "cell_type": "markdown",
   "id": "081d81ef",
   "metadata": {
    "papermill": {
     "duration": 0.023286,
     "end_time": "2021-07-22T13:35:20.367090",
     "exception": false,
     "start_time": "2021-07-22T13:35:20.343804",
     "status": "completed"
    },
    "tags": []
   },
   "source": [
    "### Checking Missing Values"
   ]
  },
  {
   "cell_type": "code",
   "execution_count": 5,
   "id": "ce8d8b5b",
   "metadata": {
    "execution": {
     "iopub.execute_input": "2021-07-22T13:35:20.421757Z",
     "iopub.status.busy": "2021-07-22T13:35:20.421111Z",
     "iopub.status.idle": "2021-07-22T13:35:20.424400Z",
     "shell.execute_reply": "2021-07-22T13:35:20.423815Z",
     "shell.execute_reply.started": "2021-07-22T12:20:16.263956Z"
    },
    "papermill": {
     "duration": 0.033788,
     "end_time": "2021-07-22T13:35:20.424530",
     "exception": false,
     "start_time": "2021-07-22T13:35:20.390742",
     "status": "completed"
    },
    "tags": []
   },
   "outputs": [
    {
     "data": {
      "text/plain": [
       "CRIM        0\n",
       "ZN          0\n",
       "INDUS       0\n",
       "CHAS        0\n",
       "NOX         0\n",
       "RM          0\n",
       "AGE         0\n",
       "DIS         0\n",
       "RAD         0\n",
       "TAX         0\n",
       "PTRATION    0\n",
       "B           0\n",
       "LSTAT       0\n",
       "PRICE       0\n",
       "dtype: int64"
      ]
     },
     "execution_count": 5,
     "metadata": {},
     "output_type": "execute_result"
    }
   ],
   "source": [
    "missing_values = df.isnull().sum()\n",
    "missing_values"
   ]
  },
  {
   "cell_type": "markdown",
   "id": "96138c8f",
   "metadata": {
    "papermill": {
     "duration": 0.023656,
     "end_time": "2021-07-22T13:35:20.472094",
     "exception": false,
     "start_time": "2021-07-22T13:35:20.448438",
     "status": "completed"
    },
    "tags": []
   },
   "source": [
    "### Checking Duplicate Rows"
   ]
  },
  {
   "cell_type": "code",
   "execution_count": 6,
   "id": "ed1215a8",
   "metadata": {
    "execution": {
     "iopub.execute_input": "2021-07-22T13:35:20.526724Z",
     "iopub.status.busy": "2021-07-22T13:35:20.526081Z",
     "iopub.status.idle": "2021-07-22T13:35:20.533053Z",
     "shell.execute_reply": "2021-07-22T13:35:20.533540Z",
     "shell.execute_reply.started": "2021-07-22T12:20:16.277631Z"
    },
    "papermill": {
     "duration": 0.037651,
     "end_time": "2021-07-22T13:35:20.533721",
     "exception": false,
     "start_time": "2021-07-22T13:35:20.496070",
     "status": "completed"
    },
    "tags": []
   },
   "outputs": [
    {
     "data": {
      "text/plain": [
       "0"
      ]
     },
     "execution_count": 6,
     "metadata": {},
     "output_type": "execute_result"
    }
   ],
   "source": [
    "total_duplicated = df.duplicated().sum()\n",
    "total_duplicated"
   ]
  },
  {
   "cell_type": "markdown",
   "id": "0585c058",
   "metadata": {
    "papermill": {
     "duration": 0.024094,
     "end_time": "2021-07-22T13:35:20.582585",
     "exception": false,
     "start_time": "2021-07-22T13:35:20.558491",
     "status": "completed"
    },
    "tags": []
   },
   "source": [
    "### Checking Outliers"
   ]
  },
  {
   "cell_type": "code",
   "execution_count": 7,
   "id": "245c605b",
   "metadata": {
    "execution": {
     "iopub.execute_input": "2021-07-22T13:35:20.634770Z",
     "iopub.status.busy": "2021-07-22T13:35:20.633826Z",
     "iopub.status.idle": "2021-07-22T13:35:20.668601Z",
     "shell.execute_reply": "2021-07-22T13:35:20.669107Z",
     "shell.execute_reply.started": "2021-07-22T12:20:16.291357Z"
    },
    "papermill": {
     "duration": 0.062264,
     "end_time": "2021-07-22T13:35:20.669282",
     "exception": false,
     "start_time": "2021-07-22T13:35:20.607018",
     "status": "completed"
    },
    "tags": []
   },
   "outputs": [
    {
     "name": "stdout",
     "output_type": "stream",
     "text": [
      "CRIM        66\n",
      "ZN          68\n",
      "INDUS        0\n",
      "CHAS        35\n",
      "NOX          0\n",
      "RM          30\n",
      "AGE          0\n",
      "DIS          5\n",
      "RAD          0\n",
      "TAX          0\n",
      "PTRATION    15\n",
      "B           77\n",
      "LSTAT        7\n",
      "PRICE       40\n",
      "dtype: int64\n"
     ]
    }
   ],
   "source": [
    "'''\n",
    "Check number of outliers\n",
    "'''\n",
    "def check_outlier(data_frame):\n",
    "    Q1 = data_frame.quantile(0.25) #First Quartile\n",
    "    Q3 = data_frame.quantile(0.75) #Second Quartile\n",
    "    IQR = Q3 - Q1 #Interquartile\n",
    "    \n",
    "    return (data_frame < (Q1 - 1.5 * IQR)) | (data_frame > (Q3 + 1.5 * IQR))\n",
    "    \n",
    "outlier_df = check_outlier(df)\n",
    "print(outlier_df.sum())"
   ]
  },
  {
   "cell_type": "code",
   "execution_count": 8,
   "id": "238aa9da",
   "metadata": {
    "execution": {
     "iopub.execute_input": "2021-07-22T13:35:20.723195Z",
     "iopub.status.busy": "2021-07-22T13:35:20.722241Z",
     "iopub.status.idle": "2021-07-22T13:35:22.324908Z",
     "shell.execute_reply": "2021-07-22T13:35:22.324386Z",
     "shell.execute_reply.started": "2021-07-22T12:20:16.327130Z"
    },
    "papermill": {
     "duration": 1.631104,
     "end_time": "2021-07-22T13:35:22.325049",
     "exception": false,
     "start_time": "2021-07-22T13:35:20.693945",
     "status": "completed"
    },
    "tags": []
   },
   "outputs": [
    {
     "data": {
      "image/png": "[encoded data removed]",
      "text/plain": [
       "<Figure size 432x288 with 1 Axes>"
      ]
     },
     "metadata": {
      "needs_background": "light"
     },
     "output_type": "display_data"
    },
    {
     "data": {
      "image/png": "[encoded data removed]",
      "text/plain": [
       "<Figure size 432x288 with 1 Axes>"
      ]
     },
     "metadata": {
      "needs_background": "light"
     },
     "output_type": "display_data"
    },
    {
     "data": {
      "image/png": "[encoded data removed]",
      "text/plain": [
       "<Figure size 432x288 with 1 Axes>"
      ]
     },
     "metadata": {
      "needs_background": "light"
     },
     "output_type": "display_data"
    },
    {
     "data": {
      "image/png": "[encoded data removed]",
      "text/plain": [
       "<Figure size 432x288 with 1 Axes>"
      ]
     },
     "metadata": {
      "needs_background": "light"
     },
     "output_type": "display_data"
    },
    {
     "data": {
      "image/png": "[encoded data removed]",
      "text/plain": [
       "<Figure size 432x288 with 1 Axes>"
      ]
     },
     "metadata": {
      "needs_background": "light"
     },
     "output_type": "display_data"
    },
    {
     "data": {
      "image/png": "[encoded data removed]",
      "text/plain": [
       "<Figure size 432x288 with 1 Axes>"
      ]
     },
     "metadata": {
      "needs_background": "light"
     },
     "output_type": "display_data"
    },
    {
     "data": {
      "image/png": "[encoded data removed]",
      "text/plain": [
       "<Figure size 432x288 with 1 Axes>"
      ]
     },
     "metadata": {
      "needs_background": "light"
     },
     "output_type": "display_data"
    },
    {
     "data": {
      "image/png": "[encoded data removed]",
      "text/plain": [
       "<Figure size 432x288 with 1 Axes>"
      ]
     },
     "metadata": {
      "needs_background": "light"
     },
     "output_type": "display_data"
    },
    {
     "data": {
      "image/png": "[encoded data removed]",
      "text/plain": [
       "<Figure size 432x288 with 1 Axes>"
      ]
     },
     "metadata": {
      "needs_background": "light"
     },
     "output_type": "display_data"
    },
    {
     "data": {
      "image/png": "[encoded data removed]",
      "text/plain": [
       "<Figure size 432x288 with 1 Axes>"
      ]
     },
     "metadata": {
      "needs_background": "light"
     },
     "output_type": "display_data"
    },
    {
     "data": {
      "image/png": "[encoded data removed]",
      "text/plain": [
       "<Figure size 432x288 with 1 Axes>"
      ]
     },
     "metadata": {
      "needs_background": "light"
     },
     "output_type": "display_data"
    },
    {
     "data": {
      "image/png": "[encoded data removed]",
      "text/plain": [
       "<Figure size 432x288 with 1 Axes>"
      ]
     },
     "metadata": {
      "needs_background": "light"
     },
     "output_type": "display_data"
    },
    {
     "data": {
      "image/png": "[encoded data removed]",
      "text/plain": [
       "<Figure size 432x288 with 1 Axes>"
      ]
     },
     "metadata": {
      "needs_background": "light"
     },
     "output_type": "display_data"
    },
    {
     "data": {
      "image/png": "[encoded data removed]",
      "text/plain": [
       "<Figure size 432x288 with 1 Axes>"
      ]
     },
     "metadata": {
      "needs_background": "light"
     },
     "output_type": "display_data"
    }
   ],
   "source": [
    "'''\n",
    "Visualize outliers\n",
    "'''\n",
    "def visualize_outliers(data_frame):\n",
    "    for column_name in data_frame.columns:\n",
    "        sns.boxplot(x=df[column_name])\n",
    "        plt.show()\n",
    "\n",
    "visualize_outliers(df)"
   ]
  },
  {
   "cell_type": "code",
   "execution_count": 9,
   "id": "30eef46c",
   "metadata": {
    "execution": {
     "iopub.execute_input": "2021-07-22T13:35:22.409085Z",
     "iopub.status.busy": "2021-07-22T13:35:22.408396Z",
     "iopub.status.idle": "2021-07-22T13:35:22.429967Z",
     "shell.execute_reply": "2021-07-22T13:35:22.430452Z",
     "shell.execute_reply.started": "2021-07-22T12:20:17.889649Z"
    },
    "papermill": {
     "duration": 0.072121,
     "end_time": "2021-07-22T13:35:22.430618",
     "exception": false,
     "start_time": "2021-07-22T13:35:22.358497",
     "status": "completed"
    },
    "tags": []
   },
   "outputs": [
    {
     "data": {
      "text/html": [
       "<div>\n",
       "<style scoped>\n",
       "    .dataframe tbody tr th:only-of-type {\n",
       "        vertical-align: middle;\n",
       "    }\n",
       "\n",
       "    .dataframe tbody tr th {\n",
       "        vertical-align: top;\n",
       "    }\n",
       "\n",
       "    .dataframe thead th {\n",
       "        text-align: right;\n",
       "    }\n",
       "</style>\n",
       "<table border=\"1\" class=\"dataframe\">\n",
       "  <thead>\n",
       "    <tr style=\"text-align: right;\">\n",
       "      <th></th>\n",
       "      <th>CRIM</th>\n",
       "      <th>ZN</th>\n",
       "      <th>INDUS</th>\n",
       "      <th>CHAS</th>\n",
       "      <th>NOX</th>\n",
       "      <th>RM</th>\n",
       "      <th>AGE</th>\n",
       "      <th>DIS</th>\n",
       "      <th>RAD</th>\n",
       "      <th>TAX</th>\n",
       "      <th>PTRATION</th>\n",
       "      <th>B</th>\n",
       "      <th>LSTAT</th>\n",
       "      <th>PRICE</th>\n",
       "    </tr>\n",
       "  </thead>\n",
       "  <tbody>\n",
       "    <tr>\n",
       "      <th>0</th>\n",
       "      <td>0.00632</td>\n",
       "      <td>18.0</td>\n",
       "      <td>2.31</td>\n",
       "      <td>0</td>\n",
       "      <td>0.538</td>\n",
       "      <td>6.575</td>\n",
       "      <td>65.2</td>\n",
       "      <td>4.0900</td>\n",
       "      <td>1</td>\n",
       "      <td>296.0</td>\n",
       "      <td>15.3</td>\n",
       "      <td>396.90</td>\n",
       "      <td>4.98</td>\n",
       "      <td>24.0</td>\n",
       "    </tr>\n",
       "    <tr>\n",
       "      <th>1</th>\n",
       "      <td>0.02731</td>\n",
       "      <td>0.0</td>\n",
       "      <td>7.07</td>\n",
       "      <td>0</td>\n",
       "      <td>0.469</td>\n",
       "      <td>6.421</td>\n",
       "      <td>78.9</td>\n",
       "      <td>4.9671</td>\n",
       "      <td>2</td>\n",
       "      <td>242.0</td>\n",
       "      <td>17.8</td>\n",
       "      <td>396.90</td>\n",
       "      <td>9.14</td>\n",
       "      <td>21.6</td>\n",
       "    </tr>\n",
       "    <tr>\n",
       "      <th>2</th>\n",
       "      <td>0.02729</td>\n",
       "      <td>0.0</td>\n",
       "      <td>7.07</td>\n",
       "      <td>0</td>\n",
       "      <td>0.469</td>\n",
       "      <td>7.185</td>\n",
       "      <td>61.1</td>\n",
       "      <td>4.9671</td>\n",
       "      <td>2</td>\n",
       "      <td>242.0</td>\n",
       "      <td>17.8</td>\n",
       "      <td>392.83</td>\n",
       "      <td>4.03</td>\n",
       "      <td>34.7</td>\n",
       "    </tr>\n",
       "    <tr>\n",
       "      <th>3</th>\n",
       "      <td>0.03237</td>\n",
       "      <td>0.0</td>\n",
       "      <td>2.18</td>\n",
       "      <td>0</td>\n",
       "      <td>0.458</td>\n",
       "      <td>6.998</td>\n",
       "      <td>45.8</td>\n",
       "      <td>6.0622</td>\n",
       "      <td>3</td>\n",
       "      <td>222.0</td>\n",
       "      <td>18.7</td>\n",
       "      <td>394.63</td>\n",
       "      <td>2.94</td>\n",
       "      <td>33.4</td>\n",
       "    </tr>\n",
       "    <tr>\n",
       "      <th>4</th>\n",
       "      <td>0.06905</td>\n",
       "      <td>0.0</td>\n",
       "      <td>2.18</td>\n",
       "      <td>0</td>\n",
       "      <td>0.458</td>\n",
       "      <td>7.147</td>\n",
       "      <td>54.2</td>\n",
       "      <td>6.0622</td>\n",
       "      <td>3</td>\n",
       "      <td>222.0</td>\n",
       "      <td>18.7</td>\n",
       "      <td>396.90</td>\n",
       "      <td>5.33</td>\n",
       "      <td>36.2</td>\n",
       "    </tr>\n",
       "    <tr>\n",
       "      <th>...</th>\n",
       "      <td>...</td>\n",
       "      <td>...</td>\n",
       "      <td>...</td>\n",
       "      <td>...</td>\n",
       "      <td>...</td>\n",
       "      <td>...</td>\n",
       "      <td>...</td>\n",
       "      <td>...</td>\n",
       "      <td>...</td>\n",
       "      <td>...</td>\n",
       "      <td>...</td>\n",
       "      <td>...</td>\n",
       "      <td>...</td>\n",
       "      <td>...</td>\n",
       "    </tr>\n",
       "    <tr>\n",
       "      <th>501</th>\n",
       "      <td>0.06263</td>\n",
       "      <td>0.0</td>\n",
       "      <td>11.93</td>\n",
       "      <td>0</td>\n",
       "      <td>0.573</td>\n",
       "      <td>6.593</td>\n",
       "      <td>69.1</td>\n",
       "      <td>2.4786</td>\n",
       "      <td>1</td>\n",
       "      <td>273.0</td>\n",
       "      <td>21.0</td>\n",
       "      <td>391.99</td>\n",
       "      <td>9.67</td>\n",
       "      <td>22.4</td>\n",
       "    </tr>\n",
       "    <tr>\n",
       "      <th>502</th>\n",
       "      <td>0.04527</td>\n",
       "      <td>0.0</td>\n",
       "      <td>11.93</td>\n",
       "      <td>0</td>\n",
       "      <td>0.573</td>\n",
       "      <td>6.120</td>\n",
       "      <td>76.7</td>\n",
       "      <td>2.2875</td>\n",
       "      <td>1</td>\n",
       "      <td>273.0</td>\n",
       "      <td>21.0</td>\n",
       "      <td>396.90</td>\n",
       "      <td>9.08</td>\n",
       "      <td>20.6</td>\n",
       "    </tr>\n",
       "    <tr>\n",
       "      <th>503</th>\n",
       "      <td>0.06076</td>\n",
       "      <td>0.0</td>\n",
       "      <td>11.93</td>\n",
       "      <td>0</td>\n",
       "      <td>0.573</td>\n",
       "      <td>6.976</td>\n",
       "      <td>91.0</td>\n",
       "      <td>2.1675</td>\n",
       "      <td>1</td>\n",
       "      <td>273.0</td>\n",
       "      <td>21.0</td>\n",
       "      <td>396.90</td>\n",
       "      <td>5.64</td>\n",
       "      <td>23.9</td>\n",
       "    </tr>\n",
       "    <tr>\n",
       "      <th>504</th>\n",
       "      <td>0.10959</td>\n",
       "      <td>0.0</td>\n",
       "      <td>11.93</td>\n",
       "      <td>0</td>\n",
       "      <td>0.573</td>\n",
       "      <td>6.794</td>\n",
       "      <td>89.3</td>\n",
       "      <td>2.3889</td>\n",
       "      <td>1</td>\n",
       "      <td>273.0</td>\n",
       "      <td>21.0</td>\n",
       "      <td>393.45</td>\n",
       "      <td>6.48</td>\n",
       "      <td>22.0</td>\n",
       "    </tr>\n",
       "    <tr>\n",
       "      <th>505</th>\n",
       "      <td>0.04741</td>\n",
       "      <td>0.0</td>\n",
       "      <td>11.93</td>\n",
       "      <td>0</td>\n",
       "      <td>0.573</td>\n",
       "      <td>6.030</td>\n",
       "      <td>80.8</td>\n",
       "      <td>2.5050</td>\n",
       "      <td>1</td>\n",
       "      <td>273.0</td>\n",
       "      <td>21.0</td>\n",
       "      <td>396.90</td>\n",
       "      <td>7.88</td>\n",
       "      <td>11.9</td>\n",
       "    </tr>\n",
       "  </tbody>\n",
       "</table>\n",
       "<p>268 rows × 14 columns</p>\n",
       "</div>"
      ],
      "text/plain": [
       "        CRIM    ZN  INDUS  CHAS    NOX     RM   AGE     DIS  RAD    TAX  \\\n",
       "0    0.00632  18.0   2.31     0  0.538  6.575  65.2  4.0900    1  296.0   \n",
       "1    0.02731   0.0   7.07     0  0.469  6.421  78.9  4.9671    2  242.0   \n",
       "2    0.02729   0.0   7.07     0  0.469  7.185  61.1  4.9671    2  242.0   \n",
       "3    0.03237   0.0   2.18     0  0.458  6.998  45.8  6.0622    3  222.0   \n",
       "4    0.06905   0.0   2.18     0  0.458  7.147  54.2  6.0622    3  222.0   \n",
       "..       ...   ...    ...   ...    ...    ...   ...     ...  ...    ...   \n",
       "501  0.06263   0.0  11.93     0  0.573  6.593  69.1  2.4786    1  273.0   \n",
       "502  0.04527   0.0  11.93     0  0.573  6.120  76.7  2.2875    1  273.0   \n",
       "503  0.06076   0.0  11.93     0  0.573  6.976  91.0  2.1675    1  273.0   \n",
       "504  0.10959   0.0  11.93     0  0.573  6.794  89.3  2.3889    1  273.0   \n",
       "505  0.04741   0.0  11.93     0  0.573  6.030  80.8  2.5050    1  273.0   \n",
       "\n",
       "     PTRATION       B  LSTAT  PRICE  \n",
       "0        15.3  396.90   4.98   24.0  \n",
       "1        17.8  396.90   9.14   21.6  \n",
       "2        17.8  392.83   4.03   34.7  \n",
       "3        18.7  394.63   2.94   33.4  \n",
       "4        18.7  396.90   5.33   36.2  \n",
       "..        ...     ...    ...    ...  \n",
       "501      21.0  391.99   9.67   22.4  \n",
       "502      21.0  396.90   9.08   20.6  \n",
       "503      21.0  396.90   5.64   23.9  \n",
       "504      21.0  393.45   6.48   22.0  \n",
       "505      21.0  396.90   7.88   11.9  \n",
       "\n",
       "[268 rows x 14 columns]"
      ]
     },
     "execution_count": 9,
     "metadata": {},
     "output_type": "execute_result"
    }
   ],
   "source": [
    "'''\n",
    "Delete data that considered as outlier\n",
    "\n",
    "Reference: https://towardsdatascience.com/ways-to-detect-and-remove-the-outliers-404d16608dba\n",
    "'''\n",
    "\n",
    "df_no_out = df[~outlier_df.any(axis=1)]\n",
    "df_no_out"
   ]
  },
  {
   "cell_type": "markdown",
   "id": "e42aa141",
   "metadata": {
    "papermill": {
     "duration": 0.033666,
     "end_time": "2021-07-22T13:35:22.498179",
     "exception": false,
     "start_time": "2021-07-22T13:35:22.464513",
     "status": "completed"
    },
    "tags": []
   },
   "source": [
    "### Separate Feature and Target Label"
   ]
  },
  {
   "cell_type": "code",
   "execution_count": 10,
   "id": "18274beb",
   "metadata": {
    "execution": {
     "iopub.execute_input": "2021-07-22T13:35:22.568850Z",
     "iopub.status.busy": "2021-07-22T13:35:22.568150Z",
     "iopub.status.idle": "2021-07-22T13:35:22.573472Z",
     "shell.execute_reply": "2021-07-22T13:35:22.572863Z",
     "shell.execute_reply.started": "2021-07-22T12:20:17.926249Z"
    },
    "papermill": {
     "duration": 0.041484,
     "end_time": "2021-07-22T13:35:22.573610",
     "exception": false,
     "start_time": "2021-07-22T13:35:22.532126",
     "status": "completed"
    },
    "tags": []
   },
   "outputs": [],
   "source": [
    "X = df_no_out.iloc[:, :-1] #Features\n",
    "y = df_no_out.iloc[:, -1] #Target"
   ]
  },
  {
   "cell_type": "code",
   "execution_count": 11,
   "id": "a8362429",
   "metadata": {
    "execution": {
     "iopub.execute_input": "2021-07-22T13:35:22.643950Z",
     "iopub.status.busy": "2021-07-22T13:35:22.643344Z",
     "iopub.status.idle": "2021-07-22T13:35:22.663001Z",
     "shell.execute_reply": "2021-07-22T13:35:22.662388Z",
     "shell.execute_reply.started": "2021-07-22T12:20:17.932709Z"
    },
    "papermill": {
     "duration": 0.055814,
     "end_time": "2021-07-22T13:35:22.663138",
     "exception": false,
     "start_time": "2021-07-22T13:35:22.607324",
     "status": "completed"
    },
    "tags": []
   },
   "outputs": [
    {
     "data": {
      "text/html": [
       "<div>\n",
       "<style scoped>\n",
       "    .dataframe tbody tr th:only-of-type {\n",
       "        vertical-align: middle;\n",
       "    }\n",
       "\n",
       "    .dataframe tbody tr th {\n",
       "        vertical-align: top;\n",
       "    }\n",
       "\n",
       "    .dataframe thead th {\n",
       "        text-align: right;\n",
       "    }\n",
       "</style>\n",
       "<table border=\"1\" class=\"dataframe\">\n",
       "  <thead>\n",
       "    <tr style=\"text-align: right;\">\n",
       "      <th></th>\n",
       "      <th>CRIM</th>\n",
       "      <th>ZN</th>\n",
       "      <th>INDUS</th>\n",
       "      <th>CHAS</th>\n",
       "      <th>NOX</th>\n",
       "      <th>RM</th>\n",
       "      <th>AGE</th>\n",
       "      <th>DIS</th>\n",
       "      <th>RAD</th>\n",
       "      <th>TAX</th>\n",
       "      <th>PTRATION</th>\n",
       "      <th>B</th>\n",
       "      <th>LSTAT</th>\n",
       "    </tr>\n",
       "  </thead>\n",
       "  <tbody>\n",
       "    <tr>\n",
       "      <th>0</th>\n",
       "      <td>0.00632</td>\n",
       "      <td>18.0</td>\n",
       "      <td>2.31</td>\n",
       "      <td>0</td>\n",
       "      <td>0.538</td>\n",
       "      <td>6.575</td>\n",
       "      <td>65.2</td>\n",
       "      <td>4.0900</td>\n",
       "      <td>1</td>\n",
       "      <td>296.0</td>\n",
       "      <td>15.3</td>\n",
       "      <td>396.90</td>\n",
       "      <td>4.98</td>\n",
       "    </tr>\n",
       "    <tr>\n",
       "      <th>1</th>\n",
       "      <td>0.02731</td>\n",
       "      <td>0.0</td>\n",
       "      <td>7.07</td>\n",
       "      <td>0</td>\n",
       "      <td>0.469</td>\n",
       "      <td>6.421</td>\n",
       "      <td>78.9</td>\n",
       "      <td>4.9671</td>\n",
       "      <td>2</td>\n",
       "      <td>242.0</td>\n",
       "      <td>17.8</td>\n",
       "      <td>396.90</td>\n",
       "      <td>9.14</td>\n",
       "    </tr>\n",
       "    <tr>\n",
       "      <th>2</th>\n",
       "      <td>0.02729</td>\n",
       "      <td>0.0</td>\n",
       "      <td>7.07</td>\n",
       "      <td>0</td>\n",
       "      <td>0.469</td>\n",
       "      <td>7.185</td>\n",
       "      <td>61.1</td>\n",
       "      <td>4.9671</td>\n",
       "      <td>2</td>\n",
       "      <td>242.0</td>\n",
       "      <td>17.8</td>\n",
       "      <td>392.83</td>\n",
       "      <td>4.03</td>\n",
       "    </tr>\n",
       "  </tbody>\n",
       "</table>\n",
       "</div>"
      ],
      "text/plain": [
       "      CRIM    ZN  INDUS  CHAS    NOX     RM   AGE     DIS  RAD    TAX  \\\n",
       "0  0.00632  18.0   2.31     0  0.538  6.575  65.2  4.0900    1  296.0   \n",
       "1  0.02731   0.0   7.07     0  0.469  6.421  78.9  4.9671    2  242.0   \n",
       "2  0.02729   0.0   7.07     0  0.469  7.185  61.1  4.9671    2  242.0   \n",
       "\n",
       "   PTRATION       B  LSTAT  \n",
       "0      15.3  396.90   4.98  \n",
       "1      17.8  396.90   9.14  \n",
       "2      17.8  392.83   4.03  "
      ]
     },
     "execution_count": 11,
     "metadata": {},
     "output_type": "execute_result"
    }
   ],
   "source": [
    "X.head(3)"
   ]
  },
  {
   "cell_type": "code",
   "execution_count": 12,
   "id": "ca58fab8",
   "metadata": {
    "execution": {
     "iopub.execute_input": "2021-07-22T13:35:22.738638Z",
     "iopub.status.busy": "2021-07-22T13:35:22.737748Z",
     "iopub.status.idle": "2021-07-22T13:35:22.741545Z",
     "shell.execute_reply": "2021-07-22T13:35:22.741993Z",
     "shell.execute_reply.started": "2021-07-22T12:20:17.959749Z"
    },
    "papermill": {
     "duration": 0.044847,
     "end_time": "2021-07-22T13:35:22.742155",
     "exception": false,
     "start_time": "2021-07-22T13:35:22.697308",
     "status": "completed"
    },
    "tags": []
   },
   "outputs": [
    {
     "data": {
      "text/plain": [
       "0    24.0\n",
       "1    21.6\n",
       "2    34.7\n",
       "Name: PRICE, dtype: float64"
      ]
     },
     "execution_count": 12,
     "metadata": {},
     "output_type": "execute_result"
    }
   ],
   "source": [
    "y.head(3)"
   ]
  },
  {
   "cell_type": "markdown",
   "id": "9d7e5686",
   "metadata": {
    "papermill": {
     "duration": 0.034088,
     "end_time": "2021-07-22T13:35:22.810822",
     "exception": false,
     "start_time": "2021-07-22T13:35:22.776734",
     "status": "completed"
    },
    "tags": []
   },
   "source": [
    "### Split Train and Test Data"
   ]
  },
  {
   "cell_type": "code",
   "execution_count": 13,
   "id": "e32ca288",
   "metadata": {
    "execution": {
     "iopub.execute_input": "2021-07-22T13:35:22.885647Z",
     "iopub.status.busy": "2021-07-22T13:35:22.884860Z",
     "iopub.status.idle": "2021-07-22T13:35:23.087480Z",
     "shell.execute_reply": "2021-07-22T13:35:23.086597Z",
     "shell.execute_reply.started": "2021-07-22T12:20:17.972595Z"
    },
    "papermill": {
     "duration": 0.242446,
     "end_time": "2021-07-22T13:35:23.087655",
     "exception": false,
     "start_time": "2021-07-22T13:35:22.845209",
     "status": "completed"
    },
    "tags": []
   },
   "outputs": [
    {
     "name": "stdout",
     "output_type": "stream",
     "text": [
      "X Train Shape:  (214, 13)\n",
      "X Test Shape:  (54, 13)\n",
      "Y Train Shape:  (214,)\n",
      "Y Test Shape:  (54,)\n"
     ]
    }
   ],
   "source": [
    "from sklearn.model_selection import train_test_split\n",
    "\n",
    "X_train, X_test, y_train, y_test = train_test_split(X, y, test_size=0.2, random_state=10)\n",
    "\n",
    "print('X Train Shape: ', X_train.shape)\n",
    "print('X Test Shape: ', X_test.shape)\n",
    "print('Y Train Shape: ', y_train.shape)\n",
    "print('Y Test Shape: ', y_test.shape)"
   ]
  },
  {
   "cell_type": "markdown",
   "id": "a990295c",
   "metadata": {
    "papermill": {
     "duration": 0.03537,
     "end_time": "2021-07-22T13:35:23.158755",
     "exception": false,
     "start_time": "2021-07-22T13:35:23.123385",
     "status": "completed"
    },
    "tags": []
   },
   "source": [
    "### Train Model"
   ]
  },
  {
   "cell_type": "code",
   "execution_count": 14,
   "id": "40d470a1",
   "metadata": {
    "execution": {
     "iopub.execute_input": "2021-07-22T13:35:23.234386Z",
     "iopub.status.busy": "2021-07-22T13:35:23.233656Z",
     "iopub.status.idle": "2021-07-22T13:35:23.527980Z",
     "shell.execute_reply": "2021-07-22T13:35:23.528869Z",
     "shell.execute_reply.started": "2021-07-22T12:20:18.144160Z"
    },
    "papermill": {
     "duration": 0.335584,
     "end_time": "2021-07-22T13:35:23.529058",
     "exception": false,
     "start_time": "2021-07-22T13:35:23.193474",
     "status": "completed"
    },
    "tags": []
   },
   "outputs": [
    {
     "data": {
      "text/plain": [
       "Pipeline(steps=[('scale', MinMaxScaler()), ('regression', LinearRegression())])"
      ]
     },
     "execution_count": 14,
     "metadata": {},
     "output_type": "execute_result"
    }
   ],
   "source": [
    "from sklearn.pipeline import Pipeline\n",
    "from sklearn.preprocessing import MinMaxScaler\n",
    "from sklearn.linear_model import LinearRegression\n",
    "\n",
    "model_pipeline = Pipeline([\n",
    "  ('scale', MinMaxScaler()),\n",
    "  ('regression', LinearRegression())\n",
    "])\n",
    "\n",
    "model_pipeline.fit(X_train, y_train)"
   ]
  },
  {
   "cell_type": "code",
   "execution_count": 15,
   "id": "696f7e24",
   "metadata": {
    "execution": {
     "iopub.execute_input": "2021-07-22T13:35:23.602864Z",
     "iopub.status.busy": "2021-07-22T13:35:23.602198Z",
     "iopub.status.idle": "2021-07-22T13:35:23.609731Z",
     "shell.execute_reply": "2021-07-22T13:35:23.610330Z",
     "shell.execute_reply.started": "2021-07-22T12:20:18.384111Z"
    },
    "papermill": {
     "duration": 0.046145,
     "end_time": "2021-07-22T13:35:23.610496",
     "exception": false,
     "start_time": "2021-07-22T13:35:23.564351",
     "status": "completed"
    },
    "tags": []
   },
   "outputs": [
    {
     "name": "stdout",
     "output_type": "stream",
     "text": [
      "[18.45644965 22.48067116 25.26295906 25.28798151 23.13817978 19.81210285\n",
      " 23.6444482  19.6122227  18.33477919 24.40608366 20.56268623 22.070335\n",
      " 22.12554916 18.50053928 17.89051014 22.38000459 22.547689   27.07482356\n",
      " 18.46221105 17.24781522 19.48988017 22.87778928 23.71507395 21.26518363\n",
      " 19.97060032 17.44264259 15.41301133 24.9277646  21.14199797 25.61312226\n",
      " 23.47720572 17.23018927 25.56988277 17.84029029 26.46389326 25.55827833\n",
      " 23.38630436 24.65089274 24.76624774 27.17597013 17.13032164 21.22326874\n",
      " 21.18907329 19.54897601 20.97034489 19.65750428 19.71668208 31.77034342\n",
      " 19.49743182 21.85883577 18.81347396 31.91110375 26.21729464 19.64541134]\n"
     ]
    }
   ],
   "source": [
    "predictions = model_pipeline.predict(X_test)\n",
    "print(predictions)"
   ]
  },
  {
   "cell_type": "markdown",
   "id": "60c22b27",
   "metadata": {
    "papermill": {
     "duration": 0.036411,
     "end_time": "2021-07-22T13:35:23.682072",
     "exception": false,
     "start_time": "2021-07-22T13:35:23.645661",
     "status": "completed"
    },
    "tags": []
   },
   "source": [
    "### Comparison between Actual and Predicted Data"
   ]
  },
  {
   "cell_type": "code",
   "execution_count": 16,
   "id": "0234016a",
   "metadata": {
    "execution": {
     "iopub.execute_input": "2021-07-22T13:35:23.756582Z",
     "iopub.status.busy": "2021-07-22T13:35:23.755934Z",
     "iopub.status.idle": "2021-07-22T13:35:23.766350Z",
     "shell.execute_reply": "2021-07-22T13:35:23.766851Z",
     "shell.execute_reply.started": "2021-07-22T12:20:18.393384Z"
    },
    "papermill": {
     "duration": 0.049094,
     "end_time": "2021-07-22T13:35:23.767015",
     "exception": false,
     "start_time": "2021-07-22T13:35:23.717921",
     "status": "completed"
    },
    "tags": []
   },
   "outputs": [
    {
     "data": {
      "text/html": [
       "<div>\n",
       "<style scoped>\n",
       "    .dataframe tbody tr th:only-of-type {\n",
       "        vertical-align: middle;\n",
       "    }\n",
       "\n",
       "    .dataframe tbody tr th {\n",
       "        vertical-align: top;\n",
       "    }\n",
       "\n",
       "    .dataframe thead th {\n",
       "        text-align: right;\n",
       "    }\n",
       "</style>\n",
       "<table border=\"1\" class=\"dataframe\">\n",
       "  <thead>\n",
       "    <tr style=\"text-align: right;\">\n",
       "      <th></th>\n",
       "      <th>actual</th>\n",
       "      <th>predicted</th>\n",
       "    </tr>\n",
       "  </thead>\n",
       "  <tbody>\n",
       "    <tr>\n",
       "      <th>462</th>\n",
       "      <td>19.5</td>\n",
       "      <td>18.456450</td>\n",
       "    </tr>\n",
       "    <tr>\n",
       "      <th>330</th>\n",
       "      <td>19.8</td>\n",
       "      <td>22.480671</td>\n",
       "    </tr>\n",
       "    <tr>\n",
       "      <th>74</th>\n",
       "      <td>24.1</td>\n",
       "      <td>25.262959</td>\n",
       "    </tr>\n",
       "    <tr>\n",
       "      <th>42</th>\n",
       "      <td>25.3</td>\n",
       "      <td>25.287982</td>\n",
       "    </tr>\n",
       "    <tr>\n",
       "      <th>114</th>\n",
       "      <td>18.5</td>\n",
       "      <td>23.138180</td>\n",
       "    </tr>\n",
       "  </tbody>\n",
       "</table>\n",
       "</div>"
      ],
      "text/plain": [
       "     actual  predicted\n",
       "462    19.5  18.456450\n",
       "330    19.8  22.480671\n",
       "74     24.1  25.262959\n",
       "42     25.3  25.287982\n",
       "114    18.5  23.138180"
      ]
     },
     "execution_count": 16,
     "metadata": {},
     "output_type": "execute_result"
    }
   ],
   "source": [
    "comparison_df = pd.DataFrame({'actual': y_test, 'predicted': predictions})\n",
    "comparison_df.head(5)"
   ]
  },
  {
   "cell_type": "markdown",
   "id": "281d5cc5",
   "metadata": {
    "papermill": {
     "duration": 0.036652,
     "end_time": "2021-07-22T13:35:23.840562",
     "exception": false,
     "start_time": "2021-07-22T13:35:23.803910",
     "status": "completed"
    },
    "tags": []
   },
   "source": [
    "### Model Evaluation"
   ]
  },
  {
   "cell_type": "code",
   "execution_count": 17,
   "id": "21adb3d3",
   "metadata": {
    "execution": {
     "iopub.execute_input": "2021-07-22T13:35:23.915854Z",
     "iopub.status.busy": "2021-07-22T13:35:23.915215Z",
     "iopub.status.idle": "2021-07-22T13:35:23.930399Z",
     "shell.execute_reply": "2021-07-22T13:35:23.929874Z",
     "shell.execute_reply.started": "2021-07-22T12:36:13.740540Z"
    },
    "papermill": {
     "duration": 0.053865,
     "end_time": "2021-07-22T13:35:23.930539",
     "exception": false,
     "start_time": "2021-07-22T13:35:23.876674",
     "status": "completed"
    },
    "tags": []
   },
   "outputs": [
    {
     "data": {
      "text/html": [
       "<div>\n",
       "<style scoped>\n",
       "    .dataframe tbody tr th:only-of-type {\n",
       "        vertical-align: middle;\n",
       "    }\n",
       "\n",
       "    .dataframe tbody tr th {\n",
       "        vertical-align: top;\n",
       "    }\n",
       "\n",
       "    .dataframe thead th {\n",
       "        text-align: right;\n",
       "    }\n",
       "</style>\n",
       "<table border=\"1\" class=\"dataframe\">\n",
       "  <thead>\n",
       "    <tr style=\"text-align: right;\">\n",
       "      <th></th>\n",
       "      <th>indicator</th>\n",
       "      <th>value</th>\n",
       "    </tr>\n",
       "  </thead>\n",
       "  <tbody>\n",
       "    <tr>\n",
       "      <th>0</th>\n",
       "      <td>MSE (Mean Square Error)</td>\n",
       "      <td>7.275711</td>\n",
       "    </tr>\n",
       "    <tr>\n",
       "      <th>1</th>\n",
       "      <td>RMSE (Root Mean Square Error)</td>\n",
       "      <td>2.697353</td>\n",
       "    </tr>\n",
       "    <tr>\n",
       "      <th>2</th>\n",
       "      <td>MAE (Mean Absolute Error)</td>\n",
       "      <td>2.076004</td>\n",
       "    </tr>\n",
       "    <tr>\n",
       "      <th>3</th>\n",
       "      <td>R2 (Coefficient of Determination)</td>\n",
       "      <td>0.562470</td>\n",
       "    </tr>\n",
       "  </tbody>\n",
       "</table>\n",
       "</div>"
      ],
      "text/plain": [
       "                           indicator     value\n",
       "0            MSE (Mean Square Error)  7.275711\n",
       "1      RMSE (Root Mean Square Error)  2.697353\n",
       "2          MAE (Mean Absolute Error)  2.076004\n",
       "3  R2 (Coefficient of Determination)  0.562470"
      ]
     },
     "execution_count": 17,
     "metadata": {},
     "output_type": "execute_result"
    }
   ],
   "source": [
    "'''\n",
    "Evaluation using several metrics\n",
    "'''\n",
    "from sklearn.metrics import mean_squared_error\n",
    "from sklearn.metrics import mean_absolute_error\n",
    "from sklearn.metrics import r2_score\n",
    "\n",
    "metrics_mse = mean_squared_error(y_test, predictions)\n",
    "metrics_rmse = np.sqrt(metrics_mse)\n",
    "metrics_mae = mean_absolute_error(y_test, predictions)\n",
    "metrics_r2 = r2_score(y_test, predictions)\n",
    "\n",
    "evaluation_indicators = ['MSE (Mean Square Error)', 'RMSE (Root Mean Square Error)', \n",
    "                        'MAE (Mean Absolute Error)', 'R2 (Coefficient of Determination)']\n",
    "\n",
    "evaluation_values = [metrics_mse, metrics_rmse, metrics_mae, metrics_r2]\n",
    "\n",
    "model_evaluation_df = pd.DataFrame({'indicator': evaluation_indicators, 'value': evaluation_values})\n",
    "\n",
    "model_evaluation_df"
   ]
  },
  {
   "cell_type": "markdown",
   "id": "aa4907cf",
   "metadata": {
    "papermill": {
     "duration": 0.038226,
     "end_time": "2021-07-22T13:35:24.006727",
     "exception": false,
     "start_time": "2021-07-22T13:35:23.968501",
     "status": "completed"
    },
    "tags": []
   },
   "source": [
    "## References\n",
    "\n",
    "Limsombunchai, Visit & Gan, Christopher & Lee, Minsoo. (2004). House Price Prediction: Hedonic Price Model vs. Artificial Neural Network. American Journal of Applied Sciences. 1. 10.3844/ajassp.2004.193.201. "
   ]
  }
 ],
 "metadata": {
  "kernelspec": {
   "display_name": "Python 3",
   "language": "python",
   "name": "python3"
  },
  "language_info": {
   "codemirror_mode": {
    "name": "ipython",
    "version": 3
   },
   "file_extension": ".py",
   "mimetype": "text/x-python",
   "name": "python",
   "nbconvert_exporter": "python",
   "pygments_lexer": "ipython3",
   "version": "3.7.10"
  },
  "papermill": {
   "default_parameters": {},
   "duration": 14.50351,
   "end_time": "2021-07-22T13:35:24.755461",
   "environment_variables": {},
   "exception": null,
   "input_path": "__notebook__.ipynb",
   "output_path": "__notebook__.ipynb",
   "parameters": {},
   "start_time": "2021-07-22T13:35:10.251951",
   "version": "2.3.3"
  }
 },
 "nbformat": 4,
 "nbformat_minor": 5
}
