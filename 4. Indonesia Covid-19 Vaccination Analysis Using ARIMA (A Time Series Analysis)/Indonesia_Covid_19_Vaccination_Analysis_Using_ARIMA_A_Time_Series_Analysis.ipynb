{
  "nbformat": 4,
  "nbformat_minor": 0,
  "metadata": {
    "colab": {
      "name": "Indonesia Covid-19 Vaccination Analysis Using ARIMA: A Time Series Analysis.ipynb",
      "provenance": [],
      "collapsed_sections": [],
      "toc_visible": true
    },
    "kernelspec": {
      "display_name": "Python 3",
      "name": "python3"
    },
    "language_info": {
      "name": "python"
    }
  },
  "cells": [
    {
      "cell_type": "markdown",
      "metadata": {
        "id": "K_354CRR0FMF"
      },
      "source": [
        "# Indonesia Covid-19 Vaccination Analysis Using ARIMA: A Time Series Analysis"
      ]
    },
    {
      "cell_type": "markdown",
      "metadata": {
        "id": "ZFpwFRka5joY"
      },
      "source": [
        "## Install & Import Library"
      ]
    },
    {
      "cell_type": "code",
      "metadata": {
        "colab": {
          "base_uri": "https://localhost:8080/"
        },
        "id": "puNZIfgX5cFd",
        "outputId": "5b8cf5c2-0185-47e4-d8ed-13d179cbba56"
      },
      "source": [
        "'''\n",
        "Install library\n",
        "'''\n",
        "\n",
        "!pip install pmdarima"
      ],
      "execution_count": 1,
      "outputs": [
        {
          "output_type": "stream",
          "text": [
            "Requirement already satisfied: pmdarima in /usr/local/lib/python3.7/dist-packages (1.8.2)\n",
            "Requirement already satisfied: numpy~=1.19.0 in /usr/local/lib/python3.7/dist-packages (from pmdarima) (1.19.5)\n",
            "Requirement already satisfied: scipy>=1.3.2 in /usr/local/lib/python3.7/dist-packages (from pmdarima) (1.4.1)\n",
            "Requirement already satisfied: statsmodels!=0.12.0,>=0.11 in /usr/local/lib/python3.7/dist-packages (from pmdarima) (0.12.2)\n",
            "Requirement already satisfied: urllib3 in /usr/local/lib/python3.7/dist-packages (from pmdarima) (1.24.3)\n",
            "Requirement already satisfied: pandas>=0.19 in /usr/local/lib/python3.7/dist-packages (from pmdarima) (1.1.5)\n",
            "Requirement already satisfied: scikit-learn>=0.22 in /usr/local/lib/python3.7/dist-packages (from pmdarima) (0.22.2.post1)\n",
            "Requirement already satisfied: setuptools!=50.0.0,>=38.6.0 in /usr/local/lib/python3.7/dist-packages (from pmdarima) (57.4.0)\n",
            "Requirement already satisfied: Cython!=0.29.18,>=0.29 in /usr/local/lib/python3.7/dist-packages (from pmdarima) (0.29.24)\n",
            "Requirement already satisfied: joblib>=0.11 in /usr/local/lib/python3.7/dist-packages (from pmdarima) (1.0.1)\n",
            "Requirement already satisfied: python-dateutil>=2.7.3 in /usr/local/lib/python3.7/dist-packages (from pandas>=0.19->pmdarima) (2.8.2)\n",
            "Requirement already satisfied: pytz>=2017.2 in /usr/local/lib/python3.7/dist-packages (from pandas>=0.19->pmdarima) (2018.9)\n",
            "Requirement already satisfied: six>=1.5 in /usr/local/lib/python3.7/dist-packages (from python-dateutil>=2.7.3->pandas>=0.19->pmdarima) (1.15.0)\n",
            "Requirement already satisfied: patsy>=0.5 in /usr/local/lib/python3.7/dist-packages (from statsmodels!=0.12.0,>=0.11->pmdarima) (0.5.1)\n"
          ],
          "name": "stdout"
        }
      ]
    },
    {
      "cell_type": "code",
      "metadata": {
        "id": "j3ZlV-0TU2_k"
      },
      "source": [
        "'''\n",
        "Import library\n",
        "'''\n",
        "\n",
        "import pandas as pd\n",
        "import numpy as np\n",
        "import tensorflow as tf\n",
        "import matplotlib.pyplot as plt\n",
        "%matplotlib inline\n",
        "import seaborn as sns\n",
        "\n",
        "from sklearn.metrics import r2_score, mean_absolute_error, mean_squared_error\n",
        "from statsmodels.tsa.seasonal import seasonal_decompose\n",
        "\n",
        "from pmdarima.arima import auto_arima, ADFTest\n",
        "from pmdarima.metrics import smape\n",
        "from pmdarima.model_selection import train_test_split"
      ],
      "execution_count": 2,
      "outputs": []
    },
    {
      "cell_type": "markdown",
      "metadata": {
        "id": "K5afHHMt5rEa"
      },
      "source": [
        "## Data Preprocessing"
      ]
    },
    {
      "cell_type": "code",
      "metadata": {
        "colab": {
          "base_uri": "https://localhost:8080/"
        },
        "id": "vLZ-sYAiuvJh",
        "outputId": "341a024d-6151-41dc-8855-f058dc69c5a2"
      },
      "source": [
        "'''\n",
        "Read File\n",
        "'''\n",
        "\n",
        "excel_file = pd.ExcelFile('COVID-19 di Indonesia @kawalcovid19.xlsx')\n",
        "excel_file.sheet_names"
      ],
      "execution_count": 3,
      "outputs": [
        {
          "output_type": "execute_result",
          "data": {
            "text/plain": [
              "['Statistik Harian',\n",
              " 'Grafik',\n",
              " 'Sheet30',\n",
              " 'Rapid Test',\n",
              " 'Timeline per Provinsi',\n",
              " 'Sheet26',\n",
              " 'Detail1-50-59-Dalam Perawatan',\n",
              " 'ASEAN',\n",
              " 'Kasus per Provinsi',\n",
              " 'Timeline',\n",
              " 'Tabulasi Daerah',\n",
              " 'Tingkat Kematian',\n",
              " 'Score Card',\n",
              " 'Daftar Kasus (baru)',\n",
              " 'Tabel',\n",
              " 'Italia',\n",
              " 'Legenda',\n",
              " 'Sheet35',\n",
              " 'Daftar Meninggal',\n",
              " 'Risk by Age - World',\n",
              " 'Rangkuman',\n",
              " 'Sheet23',\n",
              " 'Kasus ekspor',\n",
              " 'Kasus WNI di LN',\n",
              " 'Kasus Transit',\n",
              " 'Jurnal',\n",
              " 'Korsel',\n",
              " 'Copy of Data PCR - Kemenkes',\n",
              " 'Daftar Kasus']"
            ]
          },
          "metadata": {},
          "execution_count": 3
        }
      ]
    },
    {
      "cell_type": "code",
      "metadata": {
        "colab": {
          "base_uri": "https://localhost:8080/",
          "height": 591
        },
        "id": "tSeKg7zu3K9u",
        "outputId": "16b5e2fd-3f30-49f8-cd6d-900852066b6c"
      },
      "source": [
        "'''\n",
        "Choose specific sheet\n",
        "'''\n",
        "\n",
        "df = excel_file.parse('Statistik Harian')\n",
        "df"
      ],
      "execution_count": 4,
      "outputs": [
        {
          "output_type": "execute_result",
          "data": {
            "text/html": [
              "<div>\n",
              "<style scoped>\n",
              "    .dataframe tbody tr th:only-of-type {\n",
              "        vertical-align: middle;\n",
              "    }\n",
              "\n",
              "    .dataframe tbody tr th {\n",
              "        vertical-align: top;\n",
              "    }\n",
              "\n",
              "    .dataframe thead th {\n",
              "        text-align: right;\n",
              "    }\n",
              "</style>\n",
              "<table border=\"1\" class=\"dataframe\">\n",
              "  <thead>\n",
              "    <tr style=\"text-align: right;\">\n",
              "      <th></th>\n",
              "      <th>Unnamed: 0</th>\n",
              "      <th>Kasus harian</th>\n",
              "      <th>Kasus Impor</th>\n",
              "      <th>Kasus Lokal</th>\n",
              "      <th>Total kasus</th>\n",
              "      <th>Kasus aktif</th>\n",
              "      <th>% kasus aktif</th>\n",
              "      <th>Sembuh\\n(baru)</th>\n",
              "      <th>Sembuh</th>\n",
              "      <th>Tingkat kesembuhan (seluruh kasus)</th>\n",
              "      <th>Tingkat kesembuhan (closed cases)</th>\n",
              "      <th>Meninggal\\n(baru)</th>\n",
              "      <th>Meninggal\\nDunia</th>\n",
              "      <th>Tingkat kematian (seluruh kasus)</th>\n",
              "      <th>Tingkat kematian (closed cases)</th>\n",
              "      <th>PDP</th>\n",
              "      <th>ODP</th>\n",
              "      <th>Suspek aktif</th>\n",
              "      <th>Jumlah spesimen diperiksa (dari 1 April)</th>\n",
              "      <th>Jumlah orang diperiksa</th>\n",
              "      <th>Negatif</th>\n",
              "      <th>Positif \\n(=C)</th>\n",
              "      <th>Dalam Proses</th>\n",
              "      <th>Spesimen</th>\n",
              "      <th>Spesimen (PCR-TCM)</th>\n",
              "      <th>Spesimen (Antigen)</th>\n",
              "      <th>Orang yang dites</th>\n",
              "      <th>Orang yang dites (PCR-TCM)</th>\n",
              "      <th>Orang yang dites (Antigen)</th>\n",
              "      <th>Vaksinasi (ineligible)</th>\n",
              "      <th>Jumlah test/juta penduduk</th>\n",
              "      <th>Test/Positif</th>\n",
              "      <th>Jumlah org yg dites / positif</th>\n",
              "      <th>Jumlah Test/Positif harian</th>\n",
              "      <th>Positif / Jumlah Tes</th>\n",
              "      <th>Positive rate harian</th>\n",
              "      <th>Case Growth Rate</th>\n",
              "      <th>Tingkat positivitas mingguan</th>\n",
              "      <th>Jumlah spesimen diperiksa (rata-rata 7 hari)</th>\n",
              "      <th>Jumlah orang diperiksa (rata-rata 7 hari)</th>\n",
              "      <th>...</th>\n",
              "      <th>Dosis ketiga</th>\n",
              "      <th>Dosis pertama (%)</th>\n",
              "      <th>Dosis kedua (%)</th>\n",
              "      <th>Dosis pertama (harian)</th>\n",
              "      <th>Dosis kedua (harian)</th>\n",
              "      <th>Dosis harian</th>\n",
              "      <th>Dosis pertama (mingguan)</th>\n",
              "      <th>Dosis kedua (mingguan)</th>\n",
              "      <th>Rata2 dosis harian (mingguan)</th>\n",
              "      <th>Dosis pertama (SDM kesehatan)</th>\n",
              "      <th>Dosis kedua (SDM kesehatan)</th>\n",
              "      <th>Dosis ketiga (SDM kesehatan)</th>\n",
              "      <th>Dosis pertama (SDM kesehatan) %</th>\n",
              "      <th>Dosis kedua (SDM kesehatan) %</th>\n",
              "      <th>Dosis pertama (petugas publik)</th>\n",
              "      <th>Dosis kedua (petugas publik)</th>\n",
              "      <th>Dosis pertama (petugas publik) %</th>\n",
              "      <th>Dosis kedua (petugas publik) %</th>\n",
              "      <th>Dosis pertama (lansia)</th>\n",
              "      <th>Dosis kedua (lansia)</th>\n",
              "      <th>Dosis pertama (lansia) %</th>\n",
              "      <th>Dosis kedua (lansia) %</th>\n",
              "      <th>Dosis pertama (warga umum)</th>\n",
              "      <th>Dosis kedua (warga umum)</th>\n",
              "      <th>Dosis pertama (remaja)</th>\n",
              "      <th>Dosis kedua (remaja)</th>\n",
              "      <th>Unnamed: 70</th>\n",
              "      <th>Test PCR Orang Nasional Rata-rata 7 hari</th>\n",
              "      <th>Pos Rate Nasional - rata-rata 7 hari</th>\n",
              "      <th>Test Orang DKI</th>\n",
              "      <th>Positif DKI</th>\n",
              "      <th>Unnamed: 75</th>\n",
              "      <th>Pos Rate DKI</th>\n",
              "      <th>Pos Rate DKI - 7 harian</th>\n",
              "      <th>NON DKI</th>\n",
              "      <th>Positif Non DKI</th>\n",
              "      <th>Unnamed: 80</th>\n",
              "      <th>Pos Rate Non DKI</th>\n",
              "      <th>Pos Rate Non DKI - 7 harian</th>\n",
              "      <th>CFR</th>\n",
              "    </tr>\n",
              "  </thead>\n",
              "  <tbody>\n",
              "    <tr>\n",
              "      <th>0</th>\n",
              "      <td>2020-03-02</td>\n",
              "      <td>2.0</td>\n",
              "      <td>0.0</td>\n",
              "      <td>2.0</td>\n",
              "      <td>2.0</td>\n",
              "      <td>2.0</td>\n",
              "      <td>1.0</td>\n",
              "      <td>0.0</td>\n",
              "      <td>0.0</td>\n",
              "      <td>0.0</td>\n",
              "      <td>0.0</td>\n",
              "      <td>0.0</td>\n",
              "      <td>0.0</td>\n",
              "      <td>0.0</td>\n",
              "      <td>NaN</td>\n",
              "      <td>NaN</td>\n",
              "      <td>NaN</td>\n",
              "      <td>NaN</td>\n",
              "      <td>339.0</td>\n",
              "      <td>339.0</td>\n",
              "      <td>335.0</td>\n",
              "      <td>2.0</td>\n",
              "      <td>2.0</td>\n",
              "      <td>NaN</td>\n",
              "      <td>NaN</td>\n",
              "      <td>NaN</td>\n",
              "      <td>NaN</td>\n",
              "      <td>NaN</td>\n",
              "      <td>NaN</td>\n",
              "      <td>NaN</td>\n",
              "      <td>NaN</td>\n",
              "      <td>169.5</td>\n",
              "      <td>169.5</td>\n",
              "      <td>0</td>\n",
              "      <td>0.005900</td>\n",
              "      <td>NaN</td>\n",
              "      <td>NaN</td>\n",
              "      <td>NaN</td>\n",
              "      <td>NaN</td>\n",
              "      <td>NaN</td>\n",
              "      <td>...</td>\n",
              "      <td>NaN</td>\n",
              "      <td>NaN</td>\n",
              "      <td>NaN</td>\n",
              "      <td>NaN</td>\n",
              "      <td>NaN</td>\n",
              "      <td>NaN</td>\n",
              "      <td>NaN</td>\n",
              "      <td>NaN</td>\n",
              "      <td>NaN</td>\n",
              "      <td>NaN</td>\n",
              "      <td>NaN</td>\n",
              "      <td>NaN</td>\n",
              "      <td>NaN</td>\n",
              "      <td>NaN</td>\n",
              "      <td>NaN</td>\n",
              "      <td>NaN</td>\n",
              "      <td>NaN</td>\n",
              "      <td>NaN</td>\n",
              "      <td>NaN</td>\n",
              "      <td>NaN</td>\n",
              "      <td>NaN</td>\n",
              "      <td>NaN</td>\n",
              "      <td>NaN</td>\n",
              "      <td>NaN</td>\n",
              "      <td>NaN</td>\n",
              "      <td>NaN</td>\n",
              "      <td>NaN</td>\n",
              "      <td>NaN</td>\n",
              "      <td>NaN</td>\n",
              "      <td>NaN</td>\n",
              "      <td>NaN</td>\n",
              "      <td>NaN</td>\n",
              "      <td>NaN</td>\n",
              "      <td>NaN</td>\n",
              "      <td>NaN</td>\n",
              "      <td>NaN</td>\n",
              "      <td>NaN</td>\n",
              "      <td>NaN</td>\n",
              "      <td>NaN</td>\n",
              "      <td>NaN</td>\n",
              "    </tr>\n",
              "    <tr>\n",
              "      <th>1</th>\n",
              "      <td>2020-03-03</td>\n",
              "      <td>0.0</td>\n",
              "      <td>0.0</td>\n",
              "      <td>0.0</td>\n",
              "      <td>2.0</td>\n",
              "      <td>2.0</td>\n",
              "      <td>1.0</td>\n",
              "      <td>0.0</td>\n",
              "      <td>0.0</td>\n",
              "      <td>0.0</td>\n",
              "      <td>NaN</td>\n",
              "      <td>0.0</td>\n",
              "      <td>0.0</td>\n",
              "      <td>0.0</td>\n",
              "      <td>NaN</td>\n",
              "      <td>NaN</td>\n",
              "      <td>NaN</td>\n",
              "      <td>NaN</td>\n",
              "      <td>341.0</td>\n",
              "      <td>341.0</td>\n",
              "      <td>337.0</td>\n",
              "      <td>2.0</td>\n",
              "      <td>2.0</td>\n",
              "      <td>NaN</td>\n",
              "      <td>NaN</td>\n",
              "      <td>NaN</td>\n",
              "      <td>2.0</td>\n",
              "      <td>NaN</td>\n",
              "      <td>NaN</td>\n",
              "      <td>NaN</td>\n",
              "      <td>NaN</td>\n",
              "      <td>170.5</td>\n",
              "      <td>170.5</td>\n",
              "      <td>#DIV/0!</td>\n",
              "      <td>0.005865</td>\n",
              "      <td>0</td>\n",
              "      <td>0</td>\n",
              "      <td>NaN</td>\n",
              "      <td>NaN</td>\n",
              "      <td>NaN</td>\n",
              "      <td>...</td>\n",
              "      <td>NaN</td>\n",
              "      <td>NaN</td>\n",
              "      <td>NaN</td>\n",
              "      <td>NaN</td>\n",
              "      <td>NaN</td>\n",
              "      <td>NaN</td>\n",
              "      <td>NaN</td>\n",
              "      <td>NaN</td>\n",
              "      <td>NaN</td>\n",
              "      <td>NaN</td>\n",
              "      <td>NaN</td>\n",
              "      <td>NaN</td>\n",
              "      <td>NaN</td>\n",
              "      <td>NaN</td>\n",
              "      <td>NaN</td>\n",
              "      <td>NaN</td>\n",
              "      <td>NaN</td>\n",
              "      <td>NaN</td>\n",
              "      <td>NaN</td>\n",
              "      <td>NaN</td>\n",
              "      <td>NaN</td>\n",
              "      <td>NaN</td>\n",
              "      <td>NaN</td>\n",
              "      <td>NaN</td>\n",
              "      <td>NaN</td>\n",
              "      <td>NaN</td>\n",
              "      <td>NaN</td>\n",
              "      <td>NaN</td>\n",
              "      <td>NaN</td>\n",
              "      <td>NaN</td>\n",
              "      <td>NaN</td>\n",
              "      <td>NaN</td>\n",
              "      <td>NaN</td>\n",
              "      <td>NaN</td>\n",
              "      <td>NaN</td>\n",
              "      <td>NaN</td>\n",
              "      <td>NaN</td>\n",
              "      <td>NaN</td>\n",
              "      <td>NaN</td>\n",
              "      <td>NaN</td>\n",
              "    </tr>\n",
              "    <tr>\n",
              "      <th>2</th>\n",
              "      <td>2020-03-04</td>\n",
              "      <td>0.0</td>\n",
              "      <td>0.0</td>\n",
              "      <td>0.0</td>\n",
              "      <td>2.0</td>\n",
              "      <td>2.0</td>\n",
              "      <td>1.0</td>\n",
              "      <td>0.0</td>\n",
              "      <td>0.0</td>\n",
              "      <td>0.0</td>\n",
              "      <td>NaN</td>\n",
              "      <td>0.0</td>\n",
              "      <td>0.0</td>\n",
              "      <td>0.0</td>\n",
              "      <td>NaN</td>\n",
              "      <td>NaN</td>\n",
              "      <td>NaN</td>\n",
              "      <td>NaN</td>\n",
              "      <td>372.0</td>\n",
              "      <td>372.0</td>\n",
              "      <td>356.0</td>\n",
              "      <td>2.0</td>\n",
              "      <td>14.0</td>\n",
              "      <td>NaN</td>\n",
              "      <td>NaN</td>\n",
              "      <td>NaN</td>\n",
              "      <td>31.0</td>\n",
              "      <td>NaN</td>\n",
              "      <td>NaN</td>\n",
              "      <td>NaN</td>\n",
              "      <td>NaN</td>\n",
              "      <td>186.0</td>\n",
              "      <td>186.0</td>\n",
              "      <td>#DIV/0!</td>\n",
              "      <td>0.005376</td>\n",
              "      <td>0</td>\n",
              "      <td>0</td>\n",
              "      <td>NaN</td>\n",
              "      <td>NaN</td>\n",
              "      <td>NaN</td>\n",
              "      <td>...</td>\n",
              "      <td>NaN</td>\n",
              "      <td>NaN</td>\n",
              "      <td>NaN</td>\n",
              "      <td>NaN</td>\n",
              "      <td>NaN</td>\n",
              "      <td>NaN</td>\n",
              "      <td>NaN</td>\n",
              "      <td>NaN</td>\n",
              "      <td>NaN</td>\n",
              "      <td>NaN</td>\n",
              "      <td>NaN</td>\n",
              "      <td>NaN</td>\n",
              "      <td>NaN</td>\n",
              "      <td>NaN</td>\n",
              "      <td>NaN</td>\n",
              "      <td>NaN</td>\n",
              "      <td>NaN</td>\n",
              "      <td>NaN</td>\n",
              "      <td>NaN</td>\n",
              "      <td>NaN</td>\n",
              "      <td>NaN</td>\n",
              "      <td>NaN</td>\n",
              "      <td>NaN</td>\n",
              "      <td>NaN</td>\n",
              "      <td>NaN</td>\n",
              "      <td>NaN</td>\n",
              "      <td>NaN</td>\n",
              "      <td>NaN</td>\n",
              "      <td>NaN</td>\n",
              "      <td>NaN</td>\n",
              "      <td>NaN</td>\n",
              "      <td>NaN</td>\n",
              "      <td>NaN</td>\n",
              "      <td>NaN</td>\n",
              "      <td>NaN</td>\n",
              "      <td>NaN</td>\n",
              "      <td>NaN</td>\n",
              "      <td>NaN</td>\n",
              "      <td>NaN</td>\n",
              "      <td>NaN</td>\n",
              "    </tr>\n",
              "    <tr>\n",
              "      <th>3</th>\n",
              "      <td>2020-03-05</td>\n",
              "      <td>0.0</td>\n",
              "      <td>0.0</td>\n",
              "      <td>0.0</td>\n",
              "      <td>2.0</td>\n",
              "      <td>2.0</td>\n",
              "      <td>1.0</td>\n",
              "      <td>0.0</td>\n",
              "      <td>0.0</td>\n",
              "      <td>0.0</td>\n",
              "      <td>NaN</td>\n",
              "      <td>0.0</td>\n",
              "      <td>0.0</td>\n",
              "      <td>0.0</td>\n",
              "      <td>NaN</td>\n",
              "      <td>NaN</td>\n",
              "      <td>NaN</td>\n",
              "      <td>NaN</td>\n",
              "      <td>388.0</td>\n",
              "      <td>388.0</td>\n",
              "      <td>371.0</td>\n",
              "      <td>2.0</td>\n",
              "      <td>15.0</td>\n",
              "      <td>NaN</td>\n",
              "      <td>NaN</td>\n",
              "      <td>NaN</td>\n",
              "      <td>16.0</td>\n",
              "      <td>NaN</td>\n",
              "      <td>NaN</td>\n",
              "      <td>NaN</td>\n",
              "      <td>NaN</td>\n",
              "      <td>194.0</td>\n",
              "      <td>194.0</td>\n",
              "      <td>#DIV/0!</td>\n",
              "      <td>0.005155</td>\n",
              "      <td>0</td>\n",
              "      <td>0</td>\n",
              "      <td>NaN</td>\n",
              "      <td>NaN</td>\n",
              "      <td>NaN</td>\n",
              "      <td>...</td>\n",
              "      <td>NaN</td>\n",
              "      <td>NaN</td>\n",
              "      <td>NaN</td>\n",
              "      <td>NaN</td>\n",
              "      <td>NaN</td>\n",
              "      <td>NaN</td>\n",
              "      <td>NaN</td>\n",
              "      <td>NaN</td>\n",
              "      <td>NaN</td>\n",
              "      <td>NaN</td>\n",
              "      <td>NaN</td>\n",
              "      <td>NaN</td>\n",
              "      <td>NaN</td>\n",
              "      <td>NaN</td>\n",
              "      <td>NaN</td>\n",
              "      <td>NaN</td>\n",
              "      <td>NaN</td>\n",
              "      <td>NaN</td>\n",
              "      <td>NaN</td>\n",
              "      <td>NaN</td>\n",
              "      <td>NaN</td>\n",
              "      <td>NaN</td>\n",
              "      <td>NaN</td>\n",
              "      <td>NaN</td>\n",
              "      <td>NaN</td>\n",
              "      <td>NaN</td>\n",
              "      <td>NaN</td>\n",
              "      <td>NaN</td>\n",
              "      <td>NaN</td>\n",
              "      <td>NaN</td>\n",
              "      <td>NaN</td>\n",
              "      <td>NaN</td>\n",
              "      <td>NaN</td>\n",
              "      <td>NaN</td>\n",
              "      <td>NaN</td>\n",
              "      <td>NaN</td>\n",
              "      <td>NaN</td>\n",
              "      <td>NaN</td>\n",
              "      <td>NaN</td>\n",
              "      <td>NaN</td>\n",
              "    </tr>\n",
              "    <tr>\n",
              "      <th>4</th>\n",
              "      <td>2020-03-06</td>\n",
              "      <td>2.0</td>\n",
              "      <td>0.0</td>\n",
              "      <td>2.0</td>\n",
              "      <td>4.0</td>\n",
              "      <td>4.0</td>\n",
              "      <td>1.0</td>\n",
              "      <td>0.0</td>\n",
              "      <td>0.0</td>\n",
              "      <td>0.0</td>\n",
              "      <td>NaN</td>\n",
              "      <td>0.0</td>\n",
              "      <td>0.0</td>\n",
              "      <td>0.0</td>\n",
              "      <td>NaN</td>\n",
              "      <td>NaN</td>\n",
              "      <td>NaN</td>\n",
              "      <td>NaN</td>\n",
              "      <td>450.0</td>\n",
              "      <td>450.0</td>\n",
              "      <td>422.0</td>\n",
              "      <td>4.0</td>\n",
              "      <td>24.0</td>\n",
              "      <td>NaN</td>\n",
              "      <td>NaN</td>\n",
              "      <td>NaN</td>\n",
              "      <td>62.0</td>\n",
              "      <td>NaN</td>\n",
              "      <td>NaN</td>\n",
              "      <td>NaN</td>\n",
              "      <td>NaN</td>\n",
              "      <td>112.5</td>\n",
              "      <td>112.5</td>\n",
              "      <td>31</td>\n",
              "      <td>0.008889</td>\n",
              "      <td>0.0377358</td>\n",
              "      <td>1</td>\n",
              "      <td>NaN</td>\n",
              "      <td>NaN</td>\n",
              "      <td>NaN</td>\n",
              "      <td>...</td>\n",
              "      <td>NaN</td>\n",
              "      <td>NaN</td>\n",
              "      <td>NaN</td>\n",
              "      <td>NaN</td>\n",
              "      <td>NaN</td>\n",
              "      <td>NaN</td>\n",
              "      <td>NaN</td>\n",
              "      <td>NaN</td>\n",
              "      <td>NaN</td>\n",
              "      <td>NaN</td>\n",
              "      <td>NaN</td>\n",
              "      <td>NaN</td>\n",
              "      <td>NaN</td>\n",
              "      <td>NaN</td>\n",
              "      <td>NaN</td>\n",
              "      <td>NaN</td>\n",
              "      <td>NaN</td>\n",
              "      <td>NaN</td>\n",
              "      <td>NaN</td>\n",
              "      <td>NaN</td>\n",
              "      <td>NaN</td>\n",
              "      <td>NaN</td>\n",
              "      <td>NaN</td>\n",
              "      <td>NaN</td>\n",
              "      <td>NaN</td>\n",
              "      <td>NaN</td>\n",
              "      <td>NaN</td>\n",
              "      <td>NaN</td>\n",
              "      <td>NaN</td>\n",
              "      <td>NaN</td>\n",
              "      <td>NaN</td>\n",
              "      <td>NaN</td>\n",
              "      <td>NaN</td>\n",
              "      <td>NaN</td>\n",
              "      <td>NaN</td>\n",
              "      <td>NaN</td>\n",
              "      <td>NaN</td>\n",
              "      <td>NaN</td>\n",
              "      <td>NaN</td>\n",
              "      <td>NaN</td>\n",
              "    </tr>\n",
              "    <tr>\n",
              "      <th>...</th>\n",
              "      <td>...</td>\n",
              "      <td>...</td>\n",
              "      <td>...</td>\n",
              "      <td>...</td>\n",
              "      <td>...</td>\n",
              "      <td>...</td>\n",
              "      <td>...</td>\n",
              "      <td>...</td>\n",
              "      <td>...</td>\n",
              "      <td>...</td>\n",
              "      <td>...</td>\n",
              "      <td>...</td>\n",
              "      <td>...</td>\n",
              "      <td>...</td>\n",
              "      <td>...</td>\n",
              "      <td>...</td>\n",
              "      <td>...</td>\n",
              "      <td>...</td>\n",
              "      <td>...</td>\n",
              "      <td>...</td>\n",
              "      <td>...</td>\n",
              "      <td>...</td>\n",
              "      <td>...</td>\n",
              "      <td>...</td>\n",
              "      <td>...</td>\n",
              "      <td>...</td>\n",
              "      <td>...</td>\n",
              "      <td>...</td>\n",
              "      <td>...</td>\n",
              "      <td>...</td>\n",
              "      <td>...</td>\n",
              "      <td>...</td>\n",
              "      <td>...</td>\n",
              "      <td>...</td>\n",
              "      <td>...</td>\n",
              "      <td>...</td>\n",
              "      <td>...</td>\n",
              "      <td>...</td>\n",
              "      <td>...</td>\n",
              "      <td>...</td>\n",
              "      <td>...</td>\n",
              "      <td>...</td>\n",
              "      <td>...</td>\n",
              "      <td>...</td>\n",
              "      <td>...</td>\n",
              "      <td>...</td>\n",
              "      <td>...</td>\n",
              "      <td>...</td>\n",
              "      <td>...</td>\n",
              "      <td>...</td>\n",
              "      <td>...</td>\n",
              "      <td>...</td>\n",
              "      <td>...</td>\n",
              "      <td>...</td>\n",
              "      <td>...</td>\n",
              "      <td>...</td>\n",
              "      <td>...</td>\n",
              "      <td>...</td>\n",
              "      <td>...</td>\n",
              "      <td>...</td>\n",
              "      <td>...</td>\n",
              "      <td>...</td>\n",
              "      <td>...</td>\n",
              "      <td>...</td>\n",
              "      <td>...</td>\n",
              "      <td>...</td>\n",
              "      <td>...</td>\n",
              "      <td>...</td>\n",
              "      <td>...</td>\n",
              "      <td>...</td>\n",
              "      <td>...</td>\n",
              "      <td>...</td>\n",
              "      <td>...</td>\n",
              "      <td>...</td>\n",
              "      <td>...</td>\n",
              "      <td>...</td>\n",
              "      <td>...</td>\n",
              "      <td>...</td>\n",
              "      <td>...</td>\n",
              "      <td>...</td>\n",
              "      <td>...</td>\n",
              "    </tr>\n",
              "    <tr>\n",
              "      <th>559</th>\n",
              "      <td>NaT</td>\n",
              "      <td>NaN</td>\n",
              "      <td>NaN</td>\n",
              "      <td>NaN</td>\n",
              "      <td>NaN</td>\n",
              "      <td>NaN</td>\n",
              "      <td>NaN</td>\n",
              "      <td>NaN</td>\n",
              "      <td>NaN</td>\n",
              "      <td>NaN</td>\n",
              "      <td>NaN</td>\n",
              "      <td>NaN</td>\n",
              "      <td>NaN</td>\n",
              "      <td>NaN</td>\n",
              "      <td>NaN</td>\n",
              "      <td>NaN</td>\n",
              "      <td>NaN</td>\n",
              "      <td>NaN</td>\n",
              "      <td>NaN</td>\n",
              "      <td>NaN</td>\n",
              "      <td>NaN</td>\n",
              "      <td>NaN</td>\n",
              "      <td>NaN</td>\n",
              "      <td>NaN</td>\n",
              "      <td>NaN</td>\n",
              "      <td>NaN</td>\n",
              "      <td>NaN</td>\n",
              "      <td>NaN</td>\n",
              "      <td>NaN</td>\n",
              "      <td>NaN</td>\n",
              "      <td>NaN</td>\n",
              "      <td>NaN</td>\n",
              "      <td>NaN</td>\n",
              "      <td>NaN</td>\n",
              "      <td>NaN</td>\n",
              "      <td>NaN</td>\n",
              "      <td>NaN</td>\n",
              "      <td>NaN</td>\n",
              "      <td>NaN</td>\n",
              "      <td>NaN</td>\n",
              "      <td>...</td>\n",
              "      <td>NaN</td>\n",
              "      <td>NaN</td>\n",
              "      <td>NaN</td>\n",
              "      <td>NaN</td>\n",
              "      <td>NaN</td>\n",
              "      <td>NaN</td>\n",
              "      <td>NaN</td>\n",
              "      <td>NaN</td>\n",
              "      <td>NaN</td>\n",
              "      <td>NaN</td>\n",
              "      <td>NaN</td>\n",
              "      <td>NaN</td>\n",
              "      <td>NaN</td>\n",
              "      <td>NaN</td>\n",
              "      <td>NaN</td>\n",
              "      <td>NaN</td>\n",
              "      <td>NaN</td>\n",
              "      <td>NaN</td>\n",
              "      <td>NaN</td>\n",
              "      <td>NaN</td>\n",
              "      <td>NaN</td>\n",
              "      <td>NaN</td>\n",
              "      <td>NaN</td>\n",
              "      <td>NaN</td>\n",
              "      <td>NaN</td>\n",
              "      <td>NaN</td>\n",
              "      <td>NaN</td>\n",
              "      <td>NaN</td>\n",
              "      <td>NaN</td>\n",
              "      <td>NaN</td>\n",
              "      <td>NaN</td>\n",
              "      <td>NaN</td>\n",
              "      <td>NaN</td>\n",
              "      <td>NaN</td>\n",
              "      <td>NaN</td>\n",
              "      <td>NaN</td>\n",
              "      <td>NaN</td>\n",
              "      <td>NaN</td>\n",
              "      <td>NaN</td>\n",
              "      <td>NaN</td>\n",
              "    </tr>\n",
              "    <tr>\n",
              "      <th>560</th>\n",
              "      <td>NaT</td>\n",
              "      <td>NaN</td>\n",
              "      <td>NaN</td>\n",
              "      <td>NaN</td>\n",
              "      <td>NaN</td>\n",
              "      <td>NaN</td>\n",
              "      <td>NaN</td>\n",
              "      <td>NaN</td>\n",
              "      <td>NaN</td>\n",
              "      <td>NaN</td>\n",
              "      <td>NaN</td>\n",
              "      <td>NaN</td>\n",
              "      <td>NaN</td>\n",
              "      <td>NaN</td>\n",
              "      <td>NaN</td>\n",
              "      <td>NaN</td>\n",
              "      <td>NaN</td>\n",
              "      <td>NaN</td>\n",
              "      <td>NaN</td>\n",
              "      <td>NaN</td>\n",
              "      <td>NaN</td>\n",
              "      <td>NaN</td>\n",
              "      <td>NaN</td>\n",
              "      <td>NaN</td>\n",
              "      <td>NaN</td>\n",
              "      <td>NaN</td>\n",
              "      <td>NaN</td>\n",
              "      <td>NaN</td>\n",
              "      <td>NaN</td>\n",
              "      <td>NaN</td>\n",
              "      <td>NaN</td>\n",
              "      <td>NaN</td>\n",
              "      <td>NaN</td>\n",
              "      <td>NaN</td>\n",
              "      <td>NaN</td>\n",
              "      <td>NaN</td>\n",
              "      <td>NaN</td>\n",
              "      <td>NaN</td>\n",
              "      <td>NaN</td>\n",
              "      <td>NaN</td>\n",
              "      <td>...</td>\n",
              "      <td>NaN</td>\n",
              "      <td>NaN</td>\n",
              "      <td>NaN</td>\n",
              "      <td>NaN</td>\n",
              "      <td>NaN</td>\n",
              "      <td>NaN</td>\n",
              "      <td>NaN</td>\n",
              "      <td>NaN</td>\n",
              "      <td>NaN</td>\n",
              "      <td>NaN</td>\n",
              "      <td>NaN</td>\n",
              "      <td>NaN</td>\n",
              "      <td>NaN</td>\n",
              "      <td>NaN</td>\n",
              "      <td>NaN</td>\n",
              "      <td>NaN</td>\n",
              "      <td>NaN</td>\n",
              "      <td>NaN</td>\n",
              "      <td>NaN</td>\n",
              "      <td>NaN</td>\n",
              "      <td>NaN</td>\n",
              "      <td>NaN</td>\n",
              "      <td>NaN</td>\n",
              "      <td>NaN</td>\n",
              "      <td>NaN</td>\n",
              "      <td>NaN</td>\n",
              "      <td>NaN</td>\n",
              "      <td>NaN</td>\n",
              "      <td>NaN</td>\n",
              "      <td>NaN</td>\n",
              "      <td>NaN</td>\n",
              "      <td>NaN</td>\n",
              "      <td>NaN</td>\n",
              "      <td>NaN</td>\n",
              "      <td>NaN</td>\n",
              "      <td>NaN</td>\n",
              "      <td>NaN</td>\n",
              "      <td>NaN</td>\n",
              "      <td>NaN</td>\n",
              "      <td>NaN</td>\n",
              "    </tr>\n",
              "    <tr>\n",
              "      <th>561</th>\n",
              "      <td>NaT</td>\n",
              "      <td>NaN</td>\n",
              "      <td>NaN</td>\n",
              "      <td>NaN</td>\n",
              "      <td>NaN</td>\n",
              "      <td>NaN</td>\n",
              "      <td>NaN</td>\n",
              "      <td>NaN</td>\n",
              "      <td>NaN</td>\n",
              "      <td>NaN</td>\n",
              "      <td>NaN</td>\n",
              "      <td>NaN</td>\n",
              "      <td>NaN</td>\n",
              "      <td>NaN</td>\n",
              "      <td>NaN</td>\n",
              "      <td>NaN</td>\n",
              "      <td>NaN</td>\n",
              "      <td>NaN</td>\n",
              "      <td>NaN</td>\n",
              "      <td>NaN</td>\n",
              "      <td>NaN</td>\n",
              "      <td>NaN</td>\n",
              "      <td>NaN</td>\n",
              "      <td>NaN</td>\n",
              "      <td>NaN</td>\n",
              "      <td>NaN</td>\n",
              "      <td>NaN</td>\n",
              "      <td>NaN</td>\n",
              "      <td>NaN</td>\n",
              "      <td>NaN</td>\n",
              "      <td>NaN</td>\n",
              "      <td>NaN</td>\n",
              "      <td>NaN</td>\n",
              "      <td>NaN</td>\n",
              "      <td>NaN</td>\n",
              "      <td>NaN</td>\n",
              "      <td>NaN</td>\n",
              "      <td>NaN</td>\n",
              "      <td>NaN</td>\n",
              "      <td>NaN</td>\n",
              "      <td>...</td>\n",
              "      <td>NaN</td>\n",
              "      <td>NaN</td>\n",
              "      <td>NaN</td>\n",
              "      <td>NaN</td>\n",
              "      <td>NaN</td>\n",
              "      <td>NaN</td>\n",
              "      <td>NaN</td>\n",
              "      <td>NaN</td>\n",
              "      <td>NaN</td>\n",
              "      <td>NaN</td>\n",
              "      <td>NaN</td>\n",
              "      <td>NaN</td>\n",
              "      <td>NaN</td>\n",
              "      <td>NaN</td>\n",
              "      <td>NaN</td>\n",
              "      <td>NaN</td>\n",
              "      <td>NaN</td>\n",
              "      <td>NaN</td>\n",
              "      <td>NaN</td>\n",
              "      <td>NaN</td>\n",
              "      <td>NaN</td>\n",
              "      <td>NaN</td>\n",
              "      <td>NaN</td>\n",
              "      <td>NaN</td>\n",
              "      <td>NaN</td>\n",
              "      <td>NaN</td>\n",
              "      <td>NaN</td>\n",
              "      <td>158561.0</td>\n",
              "      <td>33820.0</td>\n",
              "      <td>NaN</td>\n",
              "      <td>NaN</td>\n",
              "      <td>NaN</td>\n",
              "      <td>NaN</td>\n",
              "      <td>NaN</td>\n",
              "      <td>NaN</td>\n",
              "      <td>NaN</td>\n",
              "      <td>NaN</td>\n",
              "      <td>NaN</td>\n",
              "      <td>NaN</td>\n",
              "      <td>NaN</td>\n",
              "    </tr>\n",
              "    <tr>\n",
              "      <th>562</th>\n",
              "      <td>NaT</td>\n",
              "      <td>NaN</td>\n",
              "      <td>NaN</td>\n",
              "      <td>NaN</td>\n",
              "      <td>NaN</td>\n",
              "      <td>NaN</td>\n",
              "      <td>NaN</td>\n",
              "      <td>NaN</td>\n",
              "      <td>NaN</td>\n",
              "      <td>NaN</td>\n",
              "      <td>NaN</td>\n",
              "      <td>NaN</td>\n",
              "      <td>NaN</td>\n",
              "      <td>NaN</td>\n",
              "      <td>NaN</td>\n",
              "      <td>NaN</td>\n",
              "      <td>NaN</td>\n",
              "      <td>NaN</td>\n",
              "      <td>NaN</td>\n",
              "      <td>NaN</td>\n",
              "      <td>NaN</td>\n",
              "      <td>NaN</td>\n",
              "      <td>NaN</td>\n",
              "      <td>NaN</td>\n",
              "      <td>NaN</td>\n",
              "      <td>NaN</td>\n",
              "      <td>NaN</td>\n",
              "      <td>NaN</td>\n",
              "      <td>NaN</td>\n",
              "      <td>NaN</td>\n",
              "      <td>NaN</td>\n",
              "      <td>NaN</td>\n",
              "      <td>NaN</td>\n",
              "      <td>NaN</td>\n",
              "      <td>NaN</td>\n",
              "      <td>NaN</td>\n",
              "      <td>NaN</td>\n",
              "      <td>NaN</td>\n",
              "      <td>NaN</td>\n",
              "      <td>NaN</td>\n",
              "      <td>...</td>\n",
              "      <td>NaN</td>\n",
              "      <td>NaN</td>\n",
              "      <td>NaN</td>\n",
              "      <td>NaN</td>\n",
              "      <td>NaN</td>\n",
              "      <td>NaN</td>\n",
              "      <td>NaN</td>\n",
              "      <td>NaN</td>\n",
              "      <td>NaN</td>\n",
              "      <td>NaN</td>\n",
              "      <td>NaN</td>\n",
              "      <td>NaN</td>\n",
              "      <td>NaN</td>\n",
              "      <td>NaN</td>\n",
              "      <td>NaN</td>\n",
              "      <td>NaN</td>\n",
              "      <td>NaN</td>\n",
              "      <td>NaN</td>\n",
              "      <td>NaN</td>\n",
              "      <td>NaN</td>\n",
              "      <td>NaN</td>\n",
              "      <td>NaN</td>\n",
              "      <td>NaN</td>\n",
              "      <td>NaN</td>\n",
              "      <td>NaN</td>\n",
              "      <td>NaN</td>\n",
              "      <td>NaN</td>\n",
              "      <td>60631.0</td>\n",
              "      <td>32853.0</td>\n",
              "      <td>NaN</td>\n",
              "      <td>NaN</td>\n",
              "      <td>NaN</td>\n",
              "      <td>NaN</td>\n",
              "      <td>NaN</td>\n",
              "      <td>NaN</td>\n",
              "      <td>NaN</td>\n",
              "      <td>NaN</td>\n",
              "      <td>NaN</td>\n",
              "      <td>NaN</td>\n",
              "      <td>NaN</td>\n",
              "    </tr>\n",
              "    <tr>\n",
              "      <th>563</th>\n",
              "      <td>NaT</td>\n",
              "      <td>NaN</td>\n",
              "      <td>NaN</td>\n",
              "      <td>NaN</td>\n",
              "      <td>NaN</td>\n",
              "      <td>NaN</td>\n",
              "      <td>NaN</td>\n",
              "      <td>NaN</td>\n",
              "      <td>NaN</td>\n",
              "      <td>NaN</td>\n",
              "      <td>NaN</td>\n",
              "      <td>NaN</td>\n",
              "      <td>NaN</td>\n",
              "      <td>NaN</td>\n",
              "      <td>NaN</td>\n",
              "      <td>NaN</td>\n",
              "      <td>NaN</td>\n",
              "      <td>NaN</td>\n",
              "      <td>NaN</td>\n",
              "      <td>NaN</td>\n",
              "      <td>NaN</td>\n",
              "      <td>NaN</td>\n",
              "      <td>NaN</td>\n",
              "      <td>NaN</td>\n",
              "      <td>NaN</td>\n",
              "      <td>NaN</td>\n",
              "      <td>NaN</td>\n",
              "      <td>NaN</td>\n",
              "      <td>NaN</td>\n",
              "      <td>NaN</td>\n",
              "      <td>NaN</td>\n",
              "      <td>NaN</td>\n",
              "      <td>NaN</td>\n",
              "      <td>NaN</td>\n",
              "      <td>NaN</td>\n",
              "      <td>NaN</td>\n",
              "      <td>NaN</td>\n",
              "      <td>NaN</td>\n",
              "      <td>NaN</td>\n",
              "      <td>NaN</td>\n",
              "      <td>...</td>\n",
              "      <td>NaN</td>\n",
              "      <td>NaN</td>\n",
              "      <td>NaN</td>\n",
              "      <td>NaN</td>\n",
              "      <td>NaN</td>\n",
              "      <td>NaN</td>\n",
              "      <td>NaN</td>\n",
              "      <td>NaN</td>\n",
              "      <td>NaN</td>\n",
              "      <td>NaN</td>\n",
              "      <td>NaN</td>\n",
              "      <td>NaN</td>\n",
              "      <td>NaN</td>\n",
              "      <td>NaN</td>\n",
              "      <td>NaN</td>\n",
              "      <td>NaN</td>\n",
              "      <td>NaN</td>\n",
              "      <td>NaN</td>\n",
              "      <td>NaN</td>\n",
              "      <td>NaN</td>\n",
              "      <td>NaN</td>\n",
              "      <td>NaN</td>\n",
              "      <td>NaN</td>\n",
              "      <td>NaN</td>\n",
              "      <td>NaN</td>\n",
              "      <td>NaN</td>\n",
              "      <td>NaN</td>\n",
              "      <td>2246327.0</td>\n",
              "      <td>431313.0</td>\n",
              "      <td>NaN</td>\n",
              "      <td>NaN</td>\n",
              "      <td>NaN</td>\n",
              "      <td>NaN</td>\n",
              "      <td>NaN</td>\n",
              "      <td>NaN</td>\n",
              "      <td>NaN</td>\n",
              "      <td>NaN</td>\n",
              "      <td>NaN</td>\n",
              "      <td>NaN</td>\n",
              "      <td>NaN</td>\n",
              "    </tr>\n",
              "  </tbody>\n",
              "</table>\n",
              "<p>564 rows × 84 columns</p>\n",
              "</div>"
            ],
            "text/plain": [
              "    Unnamed: 0  Kasus harian  ...  Pos Rate Non DKI - 7 harian  CFR\n",
              "0   2020-03-02           2.0  ...                          NaN  NaN\n",
              "1   2020-03-03           0.0  ...                          NaN  NaN\n",
              "2   2020-03-04           0.0  ...                          NaN  NaN\n",
              "3   2020-03-05           0.0  ...                          NaN  NaN\n",
              "4   2020-03-06           2.0  ...                          NaN  NaN\n",
              "..         ...           ...  ...                          ...  ...\n",
              "559        NaT           NaN  ...                          NaN  NaN\n",
              "560        NaT           NaN  ...                          NaN  NaN\n",
              "561        NaT           NaN  ...                          NaN  NaN\n",
              "562        NaT           NaN  ...                          NaN  NaN\n",
              "563        NaT           NaN  ...                          NaN  NaN\n",
              "\n",
              "[564 rows x 84 columns]"
            ]
          },
          "metadata": {},
          "execution_count": 4
        }
      ]
    },
    {
      "cell_type": "code",
      "metadata": {
        "id": "mZyPBpFf_a2z"
      },
      "source": [
        "'''\n",
        "Change index\n",
        "'''\n",
        "\n",
        "df.index = df['Unnamed: 0']"
      ],
      "execution_count": 5,
      "outputs": []
    },
    {
      "cell_type": "code",
      "metadata": {
        "colab": {
          "base_uri": "https://localhost:8080/"
        },
        "id": "qSIIQUOo-Odr",
        "outputId": "083feee1-7495-4f6f-8ab8-d7f1165fd31e"
      },
      "source": [
        "'''\n",
        "Choose specific column\n",
        "'''\n",
        "copied_df = df.copy()\n",
        "copied_df = copied_df[['Dosis pertama', 'Dosis kedua']]\n",
        "copied_df.info()"
      ],
      "execution_count": 6,
      "outputs": [
        {
          "output_type": "stream",
          "text": [
            "<class 'pandas.core.frame.DataFrame'>\n",
            "DatetimeIndex: 564 entries, 2020-03-02 to NaT\n",
            "Data columns (total 2 columns):\n",
            " #   Column         Non-Null Count  Dtype  \n",
            "---  ------         --------------  -----  \n",
            " 0   Dosis pertama  219 non-null    float64\n",
            " 1   Dosis kedua    205 non-null    float64\n",
            "dtypes: float64(2)\n",
            "memory usage: 13.2 KB\n"
          ],
          "name": "stdout"
        }
      ]
    },
    {
      "cell_type": "code",
      "metadata": {
        "colab": {
          "base_uri": "https://localhost:8080/",
          "height": 440
        },
        "id": "g4tMiBLm41ac",
        "outputId": "0a9a00ff-2dd4-4809-f1b1-f4df6c2a94a5"
      },
      "source": [
        "'''\n",
        "Select first dose which is > 0\n",
        "'''\n",
        "\n",
        "df_final = copied_df[copied_df['Dosis pertama'] > 0]\n",
        "df_final"
      ],
      "execution_count": 7,
      "outputs": [
        {
          "output_type": "execute_result",
          "data": {
            "text/html": [
              "<div>\n",
              "<style scoped>\n",
              "    .dataframe tbody tr th:only-of-type {\n",
              "        vertical-align: middle;\n",
              "    }\n",
              "\n",
              "    .dataframe tbody tr th {\n",
              "        vertical-align: top;\n",
              "    }\n",
              "\n",
              "    .dataframe thead th {\n",
              "        text-align: right;\n",
              "    }\n",
              "</style>\n",
              "<table border=\"1\" class=\"dataframe\">\n",
              "  <thead>\n",
              "    <tr style=\"text-align: right;\">\n",
              "      <th></th>\n",
              "      <th>Dosis pertama</th>\n",
              "      <th>Dosis kedua</th>\n",
              "    </tr>\n",
              "    <tr>\n",
              "      <th>Unnamed: 0</th>\n",
              "      <th></th>\n",
              "      <th></th>\n",
              "    </tr>\n",
              "  </thead>\n",
              "  <tbody>\n",
              "    <tr>\n",
              "      <th>2021-01-13</th>\n",
              "      <td>66.0</td>\n",
              "      <td>NaN</td>\n",
              "    </tr>\n",
              "    <tr>\n",
              "      <th>2021-01-14</th>\n",
              "      <td>7760.0</td>\n",
              "      <td>NaN</td>\n",
              "    </tr>\n",
              "    <tr>\n",
              "      <th>2021-01-15</th>\n",
              "      <td>18958.0</td>\n",
              "      <td>NaN</td>\n",
              "    </tr>\n",
              "    <tr>\n",
              "      <th>2021-01-16</th>\n",
              "      <td>24414.0</td>\n",
              "      <td>NaN</td>\n",
              "    </tr>\n",
              "    <tr>\n",
              "      <th>2021-01-17</th>\n",
              "      <td>24540.0</td>\n",
              "      <td>NaN</td>\n",
              "    </tr>\n",
              "    <tr>\n",
              "      <th>...</th>\n",
              "      <td>...</td>\n",
              "      <td>...</td>\n",
              "    </tr>\n",
              "    <tr>\n",
              "      <th>2021-08-15</th>\n",
              "      <td>53688122.0</td>\n",
              "      <td>28112285.0</td>\n",
              "    </tr>\n",
              "    <tr>\n",
              "      <th>2021-08-16</th>\n",
              "      <td>54028976.0</td>\n",
              "      <td>28609254.0</td>\n",
              "    </tr>\n",
              "    <tr>\n",
              "      <th>2021-08-17</th>\n",
              "      <td>54446247.0</td>\n",
              "      <td>28853053.0</td>\n",
              "    </tr>\n",
              "    <tr>\n",
              "      <th>2021-08-18</th>\n",
              "      <td>54992421.0</td>\n",
              "      <td>29527386.0</td>\n",
              "    </tr>\n",
              "    <tr>\n",
              "      <th>2021-08-19</th>\n",
              "      <td>55637234.0</td>\n",
              "      <td>30230233.0</td>\n",
              "    </tr>\n",
              "  </tbody>\n",
              "</table>\n",
              "<p>219 rows × 2 columns</p>\n",
              "</div>"
            ],
            "text/plain": [
              "            Dosis pertama  Dosis kedua\n",
              "Unnamed: 0                            \n",
              "2021-01-13           66.0          NaN\n",
              "2021-01-14         7760.0          NaN\n",
              "2021-01-15        18958.0          NaN\n",
              "2021-01-16        24414.0          NaN\n",
              "2021-01-17        24540.0          NaN\n",
              "...                   ...          ...\n",
              "2021-08-15     53688122.0   28112285.0\n",
              "2021-08-16     54028976.0   28609254.0\n",
              "2021-08-17     54446247.0   28853053.0\n",
              "2021-08-18     54992421.0   29527386.0\n",
              "2021-08-19     55637234.0   30230233.0\n",
              "\n",
              "[219 rows x 2 columns]"
            ]
          },
          "metadata": {},
          "execution_count": 7
        }
      ]
    },
    {
      "cell_type": "code",
      "metadata": {
        "colab": {
          "base_uri": "https://localhost:8080/",
          "height": 440
        },
        "id": "JuPZ5BuAA38k",
        "outputId": "8d719d6d-1582-4ff3-fe06-d53d78fe076e"
      },
      "source": [
        "'''\n",
        "Fill empty data with 0 since second dose is started two weeks after the starting of first dose vaccination\n",
        "'''\n",
        "\n",
        "df_final = df_final.fillna(0)\n",
        "df_final"
      ],
      "execution_count": 8,
      "outputs": [
        {
          "output_type": "execute_result",
          "data": {
            "text/html": [
              "<div>\n",
              "<style scoped>\n",
              "    .dataframe tbody tr th:only-of-type {\n",
              "        vertical-align: middle;\n",
              "    }\n",
              "\n",
              "    .dataframe tbody tr th {\n",
              "        vertical-align: top;\n",
              "    }\n",
              "\n",
              "    .dataframe thead th {\n",
              "        text-align: right;\n",
              "    }\n",
              "</style>\n",
              "<table border=\"1\" class=\"dataframe\">\n",
              "  <thead>\n",
              "    <tr style=\"text-align: right;\">\n",
              "      <th></th>\n",
              "      <th>Dosis pertama</th>\n",
              "      <th>Dosis kedua</th>\n",
              "    </tr>\n",
              "    <tr>\n",
              "      <th>Unnamed: 0</th>\n",
              "      <th></th>\n",
              "      <th></th>\n",
              "    </tr>\n",
              "  </thead>\n",
              "  <tbody>\n",
              "    <tr>\n",
              "      <th>2021-01-13</th>\n",
              "      <td>66.0</td>\n",
              "      <td>0.0</td>\n",
              "    </tr>\n",
              "    <tr>\n",
              "      <th>2021-01-14</th>\n",
              "      <td>7760.0</td>\n",
              "      <td>0.0</td>\n",
              "    </tr>\n",
              "    <tr>\n",
              "      <th>2021-01-15</th>\n",
              "      <td>18958.0</td>\n",
              "      <td>0.0</td>\n",
              "    </tr>\n",
              "    <tr>\n",
              "      <th>2021-01-16</th>\n",
              "      <td>24414.0</td>\n",
              "      <td>0.0</td>\n",
              "    </tr>\n",
              "    <tr>\n",
              "      <th>2021-01-17</th>\n",
              "      <td>24540.0</td>\n",
              "      <td>0.0</td>\n",
              "    </tr>\n",
              "    <tr>\n",
              "      <th>...</th>\n",
              "      <td>...</td>\n",
              "      <td>...</td>\n",
              "    </tr>\n",
              "    <tr>\n",
              "      <th>2021-08-15</th>\n",
              "      <td>53688122.0</td>\n",
              "      <td>28112285.0</td>\n",
              "    </tr>\n",
              "    <tr>\n",
              "      <th>2021-08-16</th>\n",
              "      <td>54028976.0</td>\n",
              "      <td>28609254.0</td>\n",
              "    </tr>\n",
              "    <tr>\n",
              "      <th>2021-08-17</th>\n",
              "      <td>54446247.0</td>\n",
              "      <td>28853053.0</td>\n",
              "    </tr>\n",
              "    <tr>\n",
              "      <th>2021-08-18</th>\n",
              "      <td>54992421.0</td>\n",
              "      <td>29527386.0</td>\n",
              "    </tr>\n",
              "    <tr>\n",
              "      <th>2021-08-19</th>\n",
              "      <td>55637234.0</td>\n",
              "      <td>30230233.0</td>\n",
              "    </tr>\n",
              "  </tbody>\n",
              "</table>\n",
              "<p>219 rows × 2 columns</p>\n",
              "</div>"
            ],
            "text/plain": [
              "            Dosis pertama  Dosis kedua\n",
              "Unnamed: 0                            \n",
              "2021-01-13           66.0          0.0\n",
              "2021-01-14         7760.0          0.0\n",
              "2021-01-15        18958.0          0.0\n",
              "2021-01-16        24414.0          0.0\n",
              "2021-01-17        24540.0          0.0\n",
              "...                   ...          ...\n",
              "2021-08-15     53688122.0   28112285.0\n",
              "2021-08-16     54028976.0   28609254.0\n",
              "2021-08-17     54446247.0   28853053.0\n",
              "2021-08-18     54992421.0   29527386.0\n",
              "2021-08-19     55637234.0   30230233.0\n",
              "\n",
              "[219 rows x 2 columns]"
            ]
          },
          "metadata": {},
          "execution_count": 8
        }
      ]
    },
    {
      "cell_type": "markdown",
      "metadata": {
        "id": "_By3A9noBw0M"
      },
      "source": [
        "## Exploratory Data Analysis"
      ]
    },
    {
      "cell_type": "code",
      "metadata": {
        "id": "Up4FS-RQETs4"
      },
      "source": [
        "def visualize_line_chart(chart_title, chart_data, size=(8,4)):\n",
        "  plt.figure(figsize=size)\n",
        "  plt.title(chart_title)\n",
        "  sns.lineplot(data=chart_data)\n",
        "  plt.show()"
      ],
      "execution_count": 9,
      "outputs": []
    },
    {
      "cell_type": "code",
      "metadata": {
        "colab": {
          "base_uri": "https://localhost:8080/",
          "height": 290
        },
        "id": "C4uo36BN_41q",
        "outputId": "bba423f8-7062-4e92-feb3-e006c1b7e71c"
      },
      "source": [
        "df_final.describe()"
      ],
      "execution_count": 10,
      "outputs": [
        {
          "output_type": "execute_result",
          "data": {
            "text/html": [
              "<div>\n",
              "<style scoped>\n",
              "    .dataframe tbody tr th:only-of-type {\n",
              "        vertical-align: middle;\n",
              "    }\n",
              "\n",
              "    .dataframe tbody tr th {\n",
              "        vertical-align: top;\n",
              "    }\n",
              "\n",
              "    .dataframe thead th {\n",
              "        text-align: right;\n",
              "    }\n",
              "</style>\n",
              "<table border=\"1\" class=\"dataframe\">\n",
              "  <thead>\n",
              "    <tr style=\"text-align: right;\">\n",
              "      <th></th>\n",
              "      <th>Dosis pertama</th>\n",
              "      <th>Dosis kedua</th>\n",
              "    </tr>\n",
              "  </thead>\n",
              "  <tbody>\n",
              "    <tr>\n",
              "      <th>count</th>\n",
              "      <td>2.190000e+02</td>\n",
              "      <td>2.190000e+02</td>\n",
              "    </tr>\n",
              "    <tr>\n",
              "      <th>mean</th>\n",
              "      <td>1.731356e+07</td>\n",
              "      <td>8.572775e+06</td>\n",
              "    </tr>\n",
              "    <tr>\n",
              "      <th>std</th>\n",
              "      <td>1.648306e+07</td>\n",
              "      <td>7.642252e+06</td>\n",
              "    </tr>\n",
              "    <tr>\n",
              "      <th>min</th>\n",
              "      <td>6.600000e+01</td>\n",
              "      <td>0.000000e+00</td>\n",
              "    </tr>\n",
              "    <tr>\n",
              "      <th>25%</th>\n",
              "      <td>3.217526e+06</td>\n",
              "      <td>1.178102e+06</td>\n",
              "    </tr>\n",
              "    <tr>\n",
              "      <th>50%</th>\n",
              "      <td>1.246941e+07</td>\n",
              "      <td>7.703110e+06</td>\n",
              "    </tr>\n",
              "    <tr>\n",
              "      <th>75%</th>\n",
              "      <td>2.603062e+07</td>\n",
              "      <td>1.301332e+07</td>\n",
              "    </tr>\n",
              "    <tr>\n",
              "      <th>max</th>\n",
              "      <td>5.563723e+07</td>\n",
              "      <td>3.023023e+07</td>\n",
              "    </tr>\n",
              "  </tbody>\n",
              "</table>\n",
              "</div>"
            ],
            "text/plain": [
              "       Dosis pertama   Dosis kedua\n",
              "count   2.190000e+02  2.190000e+02\n",
              "mean    1.731356e+07  8.572775e+06\n",
              "std     1.648306e+07  7.642252e+06\n",
              "min     6.600000e+01  0.000000e+00\n",
              "25%     3.217526e+06  1.178102e+06\n",
              "50%     1.246941e+07  7.703110e+06\n",
              "75%     2.603062e+07  1.301332e+07\n",
              "max     5.563723e+07  3.023023e+07"
            ]
          },
          "metadata": {},
          "execution_count": 10
        }
      ]
    },
    {
      "cell_type": "code",
      "metadata": {
        "colab": {
          "base_uri": "https://localhost:8080/",
          "height": 512
        },
        "id": "gbB6j1XFB2xj",
        "outputId": "d721a98e-6bfa-4b2d-9356-36de4a72c0ab"
      },
      "source": [
        "visualize_line_chart('Vaksinasi Plot', df_final, size=(16, 8))"
      ],
      "execution_count": 11,
      "outputs": [
        {
          "output_type": "display_data",
          "data": {
            "image/png": "[encoded data removed]",
            "text/plain": [
              "<Figure size 1152x576 with 1 Axes>"
            ]
          },
          "metadata": {
            "needs_background": "light"
          }
        }
      ]
    },
    {
      "cell_type": "code",
      "metadata": {
        "colab": {
          "base_uri": "https://localhost:8080/",
          "height": 605
        },
        "id": "Zj4MWsc7EqvW",
        "outputId": "19ca3d31-aceb-40ba-9fc8-9aff7742ba2b"
      },
      "source": [
        "chart_dict = {\n",
        "    'Dosis pertama': 'Vaksinasi Dosis Pertama',\n",
        "    'Dosis kedua': 'Vaksinasi Dosis Kedua',\n",
        "}\n",
        "\n",
        "for (key, value) in chart_dict.items():\n",
        "  visualize_line_chart(value, df_final[key], (8,4))\n",
        "  print('')"
      ],
      "execution_count": 12,
      "outputs": [
        {
          "output_type": "display_data",
          "data": {
            "image/png": "[encoded data removed]",
            "text/plain": [
              "<Figure size 576x288 with 1 Axes>"
            ]
          },
          "metadata": {
            "needs_background": "light"
          }
        },
        {
          "output_type": "stream",
          "text": [
            "\n"
          ],
          "name": "stdout"
        },
        {
          "output_type": "display_data",
          "data": {
            "image/png": "[encoded data removed]",
            "text/plain": [
              "<Figure size 576x288 with 1 Axes>"
            ]
          },
          "metadata": {
            "needs_background": "light"
          }
        },
        {
          "output_type": "stream",
          "text": [
            "\n"
          ],
          "name": "stdout"
        }
      ]
    },
    {
      "cell_type": "markdown",
      "metadata": {
        "id": "EPhp-3WhGF7U"
      },
      "source": [
        "## Data Splitting"
      ]
    },
    {
      "cell_type": "code",
      "metadata": {
        "id": "izcNnQSsUquf"
      },
      "source": [
        "df_dosis_1 = df_final[['Dosis pertama']]\n",
        "df_dosis_2 = df_final[['Dosis kedua']]"
      ],
      "execution_count": 13,
      "outputs": []
    },
    {
      "cell_type": "code",
      "metadata": {
        "colab": {
          "base_uri": "https://localhost:8080/"
        },
        "id": "nQNHE40DFzYM",
        "outputId": "78c1e8f0-4929-4da7-dc86-93ca08ec77da"
      },
      "source": [
        "train_split_len = int(0.8 * len(df_final))\n",
        "train_split_len"
      ],
      "execution_count": 14,
      "outputs": [
        {
          "output_type": "execute_result",
          "data": {
            "text/plain": [
              "175"
            ]
          },
          "metadata": {},
          "execution_count": 14
        }
      ]
    },
    {
      "cell_type": "code",
      "metadata": {
        "colab": {
          "base_uri": "https://localhost:8080/"
        },
        "id": "vuNArvhAGz7c",
        "outputId": "d303e094-2bb9-49a7-d2b3-e261915467ad"
      },
      "source": [
        "train_dosis_1, test_dosis_1 = train_test_split(df_dosis_1, train_size=train_split_len)\n",
        "train_dosis_2, test_dosis_2 = train_test_split(df_dosis_2, train_size=train_split_len)\n",
        "\n",
        "print('Data Training 1st Dose of Vaccination Length: ', len(train_dosis_1))\n",
        "print('Data Training 2nd Dose of Vaccination Length: ', len(train_dosis_2))\n",
        "print('Data Test 1st Dose of Vaccination Length: ', len(test_dosis_1))\n",
        "print('Data Test 2nd Dose of Vaccination Length: ', len(test_dosis_2))"
      ],
      "execution_count": 15,
      "outputs": [
        {
          "output_type": "stream",
          "text": [
            "Data Training 1st Dose of Vaccination Length:  175\n",
            "Data Training 2nd Dose of Vaccination Length:  175\n",
            "Data Test 1st Dose of Vaccination Length:  44\n",
            "Data Test 2nd Dose of Vaccination Length:  44\n"
          ],
          "name": "stdout"
        }
      ]
    },
    {
      "cell_type": "code",
      "metadata": {
        "colab": {
          "base_uri": "https://localhost:8080/"
        },
        "id": "Dv_AuPzuXBmL",
        "outputId": "344c947d-7637-41bf-bca8-877b209c500d"
      },
      "source": [
        "print('---- Data Training 1st Dose of Vaccination ----')\n",
        "print(train_dosis_1.head(3))\n",
        "print('\\n')\n",
        "\n",
        "print('---- Data Training 2nd Dose of Vaccination ----')\n",
        "print(train_dosis_2.head(3))\n",
        "print('\\n')\n",
        "\n",
        "print('---- Data Test 1st Dose of Vaccination ----')\n",
        "print(test_dosis_1.head(3))\n",
        "print('\\n')\n",
        "\n",
        "print('---- Data Test 2nd Dose of Vaccination ----')\n",
        "print(test_dosis_2.head(3))"
      ],
      "execution_count": 16,
      "outputs": [
        {
          "output_type": "stream",
          "text": [
            "---- Data Training 1st Dose of Vaccination ----\n",
            "            Dosis pertama\n",
            "Unnamed: 0               \n",
            "2021-01-13           66.0\n",
            "2021-01-14         7760.0\n",
            "2021-01-15        18958.0\n",
            "\n",
            "\n",
            "---- Data Training 2nd Dose of Vaccination ----\n",
            "            Dosis kedua\n",
            "Unnamed: 0             \n",
            "2021-01-13          0.0\n",
            "2021-01-14          0.0\n",
            "2021-01-15          0.0\n",
            "\n",
            "\n",
            "---- Data Test 1st Dose of Vaccination ----\n",
            "            Dosis pertama\n",
            "Unnamed: 0               \n",
            "2021-07-07     34249444.0\n",
            "2021-07-08     34959051.0\n",
            "2021-07-09     36059414.0\n",
            "\n",
            "\n",
            "---- Data Test 2nd Dose of Vaccination ----\n",
            "            Dosis kedua\n",
            "Unnamed: 0             \n",
            "2021-07-07   14516938.0\n",
            "2021-07-08   14659369.0\n",
            "2021-07-09   14949729.0\n"
          ],
          "name": "stdout"
        }
      ]
    },
    {
      "cell_type": "markdown",
      "metadata": {
        "id": "8T-cW47IX5my"
      },
      "source": [
        "## Build Model"
      ]
    },
    {
      "cell_type": "code",
      "metadata": {
        "id": "TyjPqzySXw3L"
      },
      "source": [
        "def check_seasonality(data):\n",
        "  decompose_result = seasonal_decompose(data, model='additive')\n",
        "  decompose_figure = decompose_result.plot()\n",
        "  decompose_figure = decompose_figure.set_size_inches(12,6)\n",
        "  return decompose_figure"
      ],
      "execution_count": 17,
      "outputs": []
    },
    {
      "cell_type": "code",
      "metadata": {
        "id": "DxqQ09t5YCmS"
      },
      "source": [
        "def should_difference_test(data):\n",
        "  adf_test = ADFTest()\n",
        "  test_result = adf_test.should_diff(data)\n",
        "  return test_result"
      ],
      "execution_count": 18,
      "outputs": []
    },
    {
      "cell_type": "code",
      "metadata": {
        "id": "6aF8vzQ6YLcD"
      },
      "source": [
        "def create_prediction_df(prediction_model, num_periods, test_data, prediction_cols_name):\n",
        "  df_prediction = pd.DataFrame(prediction_model.predict(n_periods=num_periods), index=test_data.index)\n",
        "  df_prediction.columns = prediction_cols_name\n",
        "  return df_prediction"
      ],
      "execution_count": 19,
      "outputs": []
    },
    {
      "cell_type": "code",
      "metadata": {
        "id": "oSucavExYNvT"
      },
      "source": [
        "def plot_actual_prediction_comparison(chart_title, training_data, testing_data, prediction_data, \n",
        "                                      training_label, testing_label, prediction_label):\n",
        "  plt.figure(figsize=(12,6))\n",
        "  plt.plot(training_data, label=training_label)\n",
        "  plt.plot(testing_data, label=testing_label)\n",
        "  plt.plot(prediction_data, label=prediction_label)\n",
        "  plt.legend(loc='upper left')\n",
        "  plt.title(chart_title)\n",
        "  plt.show()"
      ],
      "execution_count": 20,
      "outputs": []
    },
    {
      "cell_type": "markdown",
      "metadata": {
        "id": "Jitn16m9YnKP"
      },
      "source": [
        "### 1st Dose of Vaccination"
      ]
    },
    {
      "cell_type": "code",
      "metadata": {
        "colab": {
          "base_uri": "https://localhost:8080/",
          "height": 417
        },
        "id": "BeHltkL2Ylvz",
        "outputId": "941bb094-73d3-47dc-ac6c-cf21e76292e0"
      },
      "source": [
        "'''\n",
        "Check seasonality\n",
        "'''\n",
        "check_seasonality(df_dosis_1)"
      ],
      "execution_count": 21,
      "outputs": [
        {
          "output_type": "display_data",
          "data": {
            "image/png": "[encoded data removed]",
            "text/plain": [
              "<Figure size 864x432 with 4 Axes>"
            ]
          },
          "metadata": {
            "needs_background": "light"
          }
        }
      ]
    },
    {
      "cell_type": "code",
      "metadata": {
        "colab": {
          "base_uri": "https://localhost:8080/"
        },
        "id": "pN552PhOZNL_",
        "outputId": "4965ed49-5417-40db-eff4-5af665b86d1d"
      },
      "source": [
        "'''\n",
        "Check Difference\n",
        "'''\n",
        "should_difference_test(df_dosis_1)"
      ],
      "execution_count": 22,
      "outputs": [
        {
          "output_type": "execute_result",
          "data": {
            "text/plain": [
              "(0.99, True)"
            ]
          },
          "metadata": {},
          "execution_count": 22
        }
      ]
    },
    {
      "cell_type": "code",
      "metadata": {
        "colab": {
          "base_uri": "https://localhost:8080/",
          "height": 801
        },
        "id": "X28iZy1kZPfD",
        "outputId": "ba01f3cc-be2e-41ce-9cfe-e5c5c44e244e"
      },
      "source": [
        "'''\n",
        "Build Model\n",
        "'''\n",
        "model_arima_1 = auto_arima(train_dosis_1, start_p=0, start_q=0, \n",
        "                           max_p=10, max_d=10, max_q=10, \n",
        "                           start_P=0, start_Q=0, \n",
        "                           max_P=10, max_D=10, max_Q=10, max_order=None,\n",
        "                           m=52, seasonal=True, stationary=False, trace=True)\n",
        "\n",
        "model_arima_1.summary()"
      ],
      "execution_count": 23,
      "outputs": [
        {
          "output_type": "stream",
          "text": [
            "Performing stepwise search to minimize aic\n",
            " ARIMA(0,2,0)(0,0,0)[52]             : AIC=4637.667, Time=0.02 sec\n",
            " ARIMA(1,2,0)(1,0,0)[52]             : AIC=4611.409, Time=0.88 sec\n",
            " ARIMA(0,2,1)(0,0,1)[52]             : AIC=4583.664, Time=0.87 sec\n",
            " ARIMA(0,2,1)(0,0,0)[52]             : AIC=4581.705, Time=0.03 sec\n",
            " ARIMA(0,2,1)(1,0,0)[52]             : AIC=4583.656, Time=0.85 sec\n",
            " ARIMA(0,2,1)(1,0,1)[52]             : AIC=inf, Time=2.86 sec\n",
            " ARIMA(1,2,1)(0,0,0)[52]             : AIC=4581.672, Time=0.05 sec\n",
            " ARIMA(1,2,1)(1,0,0)[52]             : AIC=4583.671, Time=1.35 sec\n",
            " ARIMA(1,2,1)(0,0,1)[52]             : AIC=4583.671, Time=1.20 sec\n",
            " ARIMA(1,2,1)(1,0,1)[52]             : AIC=inf, Time=4.00 sec\n",
            " ARIMA(1,2,0)(0,0,0)[52]             : AIC=4609.439, Time=0.02 sec\n",
            " ARIMA(2,2,1)(0,0,0)[52]             : AIC=4583.411, Time=0.13 sec\n",
            " ARIMA(1,2,2)(0,0,0)[52]             : AIC=4582.033, Time=0.12 sec\n",
            " ARIMA(0,2,2)(0,0,0)[52]             : AIC=4580.171, Time=0.05 sec\n",
            " ARIMA(0,2,2)(1,0,0)[52]             : AIC=4582.169, Time=1.37 sec\n",
            " ARIMA(0,2,2)(0,0,1)[52]             : AIC=4582.170, Time=1.44 sec\n",
            " ARIMA(0,2,2)(1,0,1)[52]             : AIC=inf, Time=3.86 sec\n",
            " ARIMA(0,2,3)(0,0,0)[52]             : AIC=4582.019, Time=0.08 sec\n",
            " ARIMA(1,2,3)(0,0,0)[52]             : AIC=4583.028, Time=0.32 sec\n",
            " ARIMA(0,2,2)(0,0,0)[52] intercept   : AIC=4589.637, Time=0.07 sec\n",
            "\n",
            "Best model:  ARIMA(0,2,2)(0,0,0)[52]          \n",
            "Total fit time: 19.648 seconds\n"
          ],
          "name": "stdout"
        },
        {
          "output_type": "execute_result",
          "data": {
            "text/html": [
              "<table class=\"simpletable\">\n",
              "<caption>SARIMAX Results</caption>\n",
              "<tr>\n",
              "  <th>Dep. Variable:</th>           <td>y</td>        <th>  No. Observations:  </th>    <td>175</td>   \n",
              "</tr>\n",
              "<tr>\n",
              "  <th>Model:</th>           <td>SARIMAX(0, 2, 2)</td> <th>  Log Likelihood     </th> <td>-2287.086</td>\n",
              "</tr>\n",
              "<tr>\n",
              "  <th>Date:</th>            <td>Sat, 21 Aug 2021</td> <th>  AIC                </th> <td>4580.171</td> \n",
              "</tr>\n",
              "<tr>\n",
              "  <th>Time:</th>                <td>08:09:08</td>     <th>  BIC                </th> <td>4589.631</td> \n",
              "</tr>\n",
              "<tr>\n",
              "  <th>Sample:</th>                  <td>0</td>        <th>  HQIC               </th> <td>4584.009</td> \n",
              "</tr>\n",
              "<tr>\n",
              "  <th></th>                      <td> - 175</td>      <th>                     </th>     <td> </td>    \n",
              "</tr>\n",
              "<tr>\n",
              "  <th>Covariance Type:</th>        <td>opg</td>       <th>                     </th>     <td> </td>    \n",
              "</tr>\n",
              "</table>\n",
              "<table class=\"simpletable\">\n",
              "<tr>\n",
              "     <td></td>       <th>coef</th>     <th>std err</th>      <th>z</th>      <th>P>|z|</th>  <th>[0.025</th>    <th>0.975]</th>  \n",
              "</tr>\n",
              "<tr>\n",
              "  <th>ma.L1</th>  <td>   -0.6779</td> <td>    0.068</td> <td>   -9.983</td> <td> 0.000</td> <td>   -0.811</td> <td>   -0.545</td>\n",
              "</tr>\n",
              "<tr>\n",
              "  <th>ma.L2</th>  <td>   -0.1032</td> <td>    0.068</td> <td>   -1.519</td> <td> 0.129</td> <td>   -0.236</td> <td>    0.030</td>\n",
              "</tr>\n",
              "<tr>\n",
              "  <th>sigma2</th> <td> 1.801e+10</td> <td> 2.88e-12</td> <td> 6.25e+21</td> <td> 0.000</td> <td>  1.8e+10</td> <td>  1.8e+10</td>\n",
              "</tr>\n",
              "</table>\n",
              "<table class=\"simpletable\">\n",
              "<tr>\n",
              "  <th>Ljung-Box (L1) (Q):</th>     <td>0.02</td>  <th>  Jarque-Bera (JB):  </th> <td>235.72</td>\n",
              "</tr>\n",
              "<tr>\n",
              "  <th>Prob(Q):</th>                <td>0.88</td>  <th>  Prob(JB):          </th>  <td>0.00</td> \n",
              "</tr>\n",
              "<tr>\n",
              "  <th>Heteroskedasticity (H):</th> <td>16.25</td> <th>  Skew:              </th>  <td>0.08</td> \n",
              "</tr>\n",
              "<tr>\n",
              "  <th>Prob(H) (two-sided):</th>    <td>0.00</td>  <th>  Kurtosis:          </th>  <td>8.72</td> \n",
              "</tr>\n",
              "</table><br/><br/>Warnings:<br/>[1] Covariance matrix calculated using the outer product of gradients (complex-step).<br/>[2] Covariance matrix is singular or near-singular, with condition number 8.08e+36. Standard errors may be unstable."
            ],
            "text/plain": [
              "<class 'statsmodels.iolib.summary.Summary'>\n",
              "\"\"\"\n",
              "                               SARIMAX Results                                \n",
              "==============================================================================\n",
              "Dep. Variable:                      y   No. Observations:                  175\n",
              "Model:               SARIMAX(0, 2, 2)   Log Likelihood               -2287.086\n",
              "Date:                Sat, 21 Aug 2021   AIC                           4580.171\n",
              "Time:                        08:09:08   BIC                           4589.631\n",
              "Sample:                             0   HQIC                          4584.009\n",
              "                                - 175                                         \n",
              "Covariance Type:                  opg                                         \n",
              "==============================================================================\n",
              "                 coef    std err          z      P>|z|      [0.025      0.975]\n",
              "------------------------------------------------------------------------------\n",
              "ma.L1         -0.6779      0.068     -9.983      0.000      -0.811      -0.545\n",
              "ma.L2         -0.1032      0.068     -1.519      0.129      -0.236       0.030\n",
              "sigma2      1.801e+10   2.88e-12   6.25e+21      0.000     1.8e+10     1.8e+10\n",
              "===================================================================================\n",
              "Ljung-Box (L1) (Q):                   0.02   Jarque-Bera (JB):               235.72\n",
              "Prob(Q):                              0.88   Prob(JB):                         0.00\n",
              "Heteroskedasticity (H):              16.25   Skew:                             0.08\n",
              "Prob(H) (two-sided):                  0.00   Kurtosis:                         8.72\n",
              "===================================================================================\n",
              "\n",
              "Warnings:\n",
              "[1] Covariance matrix calculated using the outer product of gradients (complex-step).\n",
              "[2] Covariance matrix is singular or near-singular, with condition number 8.08e+36. Standard errors may be unstable.\n",
              "\"\"\""
            ]
          },
          "metadata": {},
          "execution_count": 23
        }
      ]
    },
    {
      "cell_type": "code",
      "metadata": {
        "colab": {
          "base_uri": "https://localhost:8080/",
          "height": 170
        },
        "id": "aDHXKpq4nz06",
        "outputId": "d813b529-18c8-4f02-9740-6421ff51e5c5"
      },
      "source": [
        "'''\n",
        "Predict Test Data\n",
        "'''\n",
        "prediction_dosis_1 = create_prediction_df(model_arima_1, len(test_dosis_1),\n",
        "                                          test_dosis_1, ['Predicted 1st Dose'])\n",
        "prediction_dosis_1.head(3)"
      ],
      "execution_count": 24,
      "outputs": [
        {
          "output_type": "execute_result",
          "data": {
            "text/html": [
              "<div>\n",
              "<style scoped>\n",
              "    .dataframe tbody tr th:only-of-type {\n",
              "        vertical-align: middle;\n",
              "    }\n",
              "\n",
              "    .dataframe tbody tr th {\n",
              "        vertical-align: top;\n",
              "    }\n",
              "\n",
              "    .dataframe thead th {\n",
              "        text-align: right;\n",
              "    }\n",
              "</style>\n",
              "<table border=\"1\" class=\"dataframe\">\n",
              "  <thead>\n",
              "    <tr style=\"text-align: right;\">\n",
              "      <th></th>\n",
              "      <th>Predicted 1st Dose</th>\n",
              "    </tr>\n",
              "    <tr>\n",
              "      <th>Unnamed: 0</th>\n",
              "      <th></th>\n",
              "    </tr>\n",
              "  </thead>\n",
              "  <tbody>\n",
              "    <tr>\n",
              "      <th>2021-07-07</th>\n",
              "      <td>3.420933e+07</td>\n",
              "    </tr>\n",
              "    <tr>\n",
              "      <th>2021-07-08</th>\n",
              "      <td>3.488165e+07</td>\n",
              "    </tr>\n",
              "    <tr>\n",
              "      <th>2021-07-09</th>\n",
              "      <td>3.555397e+07</td>\n",
              "    </tr>\n",
              "  </tbody>\n",
              "</table>\n",
              "</div>"
            ],
            "text/plain": [
              "            Predicted 1st Dose\n",
              "Unnamed: 0                    \n",
              "2021-07-07        3.420933e+07\n",
              "2021-07-08        3.488165e+07\n",
              "2021-07-09        3.555397e+07"
            ]
          },
          "metadata": {},
          "execution_count": 24
        }
      ]
    },
    {
      "cell_type": "code",
      "metadata": {
        "colab": {
          "base_uri": "https://localhost:8080/",
          "height": 390
        },
        "id": "jIZq_2M_n_6A",
        "outputId": "0defbc1d-661c-420d-ddc7-606f299adc26"
      },
      "source": [
        "'''\n",
        "Plot Forecasting\n",
        "'''\n",
        "\n",
        "plot_actual_prediction_comparison('1st Vaccination Dose Data Comparison', train_dosis_1, test_dosis_1, prediction_dosis_1,\n",
        "                                  'Training 1st Dose', 'Testing 1st Dose', 'Prediction 1st Dose')"
      ],
      "execution_count": 25,
      "outputs": [
        {
          "output_type": "display_data",
          "data": {
            "image/png": "[encoded data removed]",
            "text/plain": [
              "<Figure size 864x432 with 1 Axes>"
            ]
          },
          "metadata": {
            "needs_background": "light"
          }
        }
      ]
    },
    {
      "cell_type": "markdown",
      "metadata": {
        "id": "BZHCrcfhm7tH"
      },
      "source": [
        "### 2nd Dose of Vaccination"
      ]
    },
    {
      "cell_type": "code",
      "metadata": {
        "colab": {
          "base_uri": "https://localhost:8080/",
          "height": 417
        },
        "id": "6xH-g5sjoamU",
        "outputId": "04b6a435-0e64-4916-fabb-43774f01491b"
      },
      "source": [
        "'''\n",
        "Check seasonality\n",
        "'''\n",
        "check_seasonality(df_dosis_2)"
      ],
      "execution_count": 26,
      "outputs": [
        {
          "output_type": "display_data",
          "data": {
            "image/png": "[encoded data removed]",
            "text/plain": [
              "<Figure size 864x432 with 4 Axes>"
            ]
          },
          "metadata": {
            "needs_background": "light"
          }
        }
      ]
    },
    {
      "cell_type": "code",
      "metadata": {
        "colab": {
          "base_uri": "https://localhost:8080/"
        },
        "id": "REEyd6MiDz3Q",
        "outputId": "45d5173d-e575-4179-ad7b-df04662895a4"
      },
      "source": [
        "'''\n",
        "Check Difference\n",
        "'''\n",
        "should_difference_test(df_dosis_2)"
      ],
      "execution_count": 27,
      "outputs": [
        {
          "output_type": "execute_result",
          "data": {
            "text/plain": [
              "(0.99, True)"
            ]
          },
          "metadata": {},
          "execution_count": 27
        }
      ]
    },
    {
      "cell_type": "code",
      "metadata": {
        "colab": {
          "base_uri": "https://localhost:8080/",
          "height": 850
        },
        "id": "UgrH83QHD2qu",
        "outputId": "f6970c03-72f7-4b1b-978d-2c59591f42c6"
      },
      "source": [
        "'''\n",
        "Build Model\n",
        "'''\n",
        "model_arima_2 = auto_arima(train_dosis_2, start_p=0, start_q=0, \n",
        "                           max_p=10, max_d=10, max_q=10, \n",
        "                           start_P=0, start_Q=0, \n",
        "                           max_P=10, max_D=10, max_Q=10, max_order=None,\n",
        "                           m=52, seasonal=True, stationary=False, trace=True)\n",
        "\n",
        "model_arima_2.summary()"
      ],
      "execution_count": 28,
      "outputs": [
        {
          "output_type": "stream",
          "text": [
            "Performing stepwise search to minimize aic\n",
            " ARIMA(0,2,0)(0,0,0)[52]             : AIC=4351.485, Time=0.02 sec\n",
            " ARIMA(1,2,0)(1,0,0)[52]             : AIC=4334.356, Time=0.85 sec\n",
            " ARIMA(0,2,1)(0,0,1)[52]             : AIC=4298.214, Time=0.94 sec\n",
            " ARIMA(0,2,1)(0,0,0)[52]             : AIC=4296.673, Time=0.03 sec\n",
            " ARIMA(0,2,1)(1,0,0)[52]             : AIC=4298.194, Time=1.00 sec\n",
            " ARIMA(0,2,1)(1,0,1)[52]             : AIC=4300.076, Time=2.38 sec\n",
            " ARIMA(1,2,1)(0,0,0)[52]             : AIC=4292.464, Time=0.05 sec\n",
            " ARIMA(1,2,1)(1,0,0)[52]             : AIC=4294.456, Time=1.35 sec\n",
            " ARIMA(1,2,1)(0,0,1)[52]             : AIC=4294.456, Time=1.41 sec\n",
            " ARIMA(1,2,1)(1,0,1)[52]             : AIC=4296.455, Time=1.79 sec\n",
            " ARIMA(1,2,0)(0,0,0)[52]             : AIC=4332.846, Time=0.02 sec\n",
            " ARIMA(2,2,1)(0,0,0)[52]             : AIC=4293.540, Time=0.09 sec\n",
            " ARIMA(1,2,2)(0,0,0)[52]             : AIC=4291.983, Time=0.11 sec\n",
            " ARIMA(1,2,2)(1,0,0)[52]             : AIC=4293.969, Time=2.29 sec\n",
            " ARIMA(1,2,2)(0,0,1)[52]             : AIC=4293.969, Time=2.37 sec\n",
            " ARIMA(1,2,2)(1,0,1)[52]             : AIC=4295.968, Time=3.39 sec\n",
            " ARIMA(0,2,2)(0,0,0)[52]             : AIC=4290.009, Time=0.05 sec\n",
            " ARIMA(0,2,2)(1,0,0)[52]             : AIC=4291.996, Time=1.39 sec\n",
            " ARIMA(0,2,2)(0,0,1)[52]             : AIC=4291.997, Time=1.42 sec\n",
            " ARIMA(0,2,2)(1,0,1)[52]             : AIC=4293.996, Time=1.86 sec\n",
            " ARIMA(0,2,3)(0,0,0)[52]             : AIC=4292.880, Time=0.08 sec\n",
            " ARIMA(1,2,3)(0,0,0)[52]             : AIC=4294.108, Time=0.25 sec\n",
            " ARIMA(0,2,2)(0,0,0)[52] intercept   : AIC=4297.390, Time=0.07 sec\n",
            "\n",
            "Best model:  ARIMA(0,2,2)(0,0,0)[52]          \n",
            "Total fit time: 23.265 seconds\n"
          ],
          "name": "stdout"
        },
        {
          "output_type": "execute_result",
          "data": {
            "text/html": [
              "<table class=\"simpletable\">\n",
              "<caption>SARIMAX Results</caption>\n",
              "<tr>\n",
              "  <th>Dep. Variable:</th>           <td>y</td>        <th>  No. Observations:  </th>    <td>175</td>   \n",
              "</tr>\n",
              "<tr>\n",
              "  <th>Model:</th>           <td>SARIMAX(0, 2, 2)</td> <th>  Log Likelihood     </th> <td>-2142.004</td>\n",
              "</tr>\n",
              "<tr>\n",
              "  <th>Date:</th>            <td>Sat, 21 Aug 2021</td> <th>  AIC                </th> <td>4290.009</td> \n",
              "</tr>\n",
              "<tr>\n",
              "  <th>Time:</th>                <td>08:09:33</td>     <th>  BIC                </th> <td>4299.469</td> \n",
              "</tr>\n",
              "<tr>\n",
              "  <th>Sample:</th>                  <td>0</td>        <th>  HQIC               </th> <td>4293.847</td> \n",
              "</tr>\n",
              "<tr>\n",
              "  <th></th>                      <td> - 175</td>      <th>                     </th>     <td> </td>    \n",
              "</tr>\n",
              "<tr>\n",
              "  <th>Covariance Type:</th>        <td>opg</td>       <th>                     </th>     <td> </td>    \n",
              "</tr>\n",
              "</table>\n",
              "<table class=\"simpletable\">\n",
              "<tr>\n",
              "     <td></td>       <th>coef</th>     <th>std err</th>      <th>z</th>      <th>P>|z|</th>  <th>[0.025</th>    <th>0.975]</th>  \n",
              "</tr>\n",
              "<tr>\n",
              "  <th>ma.L1</th>  <td>   -0.6614</td> <td>    0.077</td> <td>   -8.564</td> <td> 0.000</td> <td>   -0.813</td> <td>   -0.510</td>\n",
              "</tr>\n",
              "<tr>\n",
              "  <th>ma.L2</th>  <td>   -0.2030</td> <td>    0.072</td> <td>   -2.817</td> <td> 0.005</td> <td>   -0.344</td> <td>   -0.062</td>\n",
              "</tr>\n",
              "<tr>\n",
              "  <th>sigma2</th> <td> 3.557e+09</td> <td>  1.4e-12</td> <td> 2.53e+21</td> <td> 0.000</td> <td> 3.56e+09</td> <td> 3.56e+09</td>\n",
              "</tr>\n",
              "</table>\n",
              "<table class=\"simpletable\">\n",
              "<tr>\n",
              "  <th>Ljung-Box (L1) (Q):</th>     <td>0.02</td> <th>  Jarque-Bera (JB):  </th> <td>4.17</td>\n",
              "</tr>\n",
              "<tr>\n",
              "  <th>Prob(Q):</th>                <td>0.89</td> <th>  Prob(JB):          </th> <td>0.12</td>\n",
              "</tr>\n",
              "<tr>\n",
              "  <th>Heteroskedasticity (H):</th> <td>7.45</td> <th>  Skew:              </th> <td>0.36</td>\n",
              "</tr>\n",
              "<tr>\n",
              "  <th>Prob(H) (two-sided):</th>    <td>0.00</td> <th>  Kurtosis:          </th> <td>3.27</td>\n",
              "</tr>\n",
              "</table><br/><br/>Warnings:<br/>[1] Covariance matrix calculated using the outer product of gradients (complex-step).<br/>[2] Covariance matrix is singular or near-singular, with condition number 1.13e+38. Standard errors may be unstable."
            ],
            "text/plain": [
              "<class 'statsmodels.iolib.summary.Summary'>\n",
              "\"\"\"\n",
              "                               SARIMAX Results                                \n",
              "==============================================================================\n",
              "Dep. Variable:                      y   No. Observations:                  175\n",
              "Model:               SARIMAX(0, 2, 2)   Log Likelihood               -2142.004\n",
              "Date:                Sat, 21 Aug 2021   AIC                           4290.009\n",
              "Time:                        08:09:33   BIC                           4299.469\n",
              "Sample:                             0   HQIC                          4293.847\n",
              "                                - 175                                         \n",
              "Covariance Type:                  opg                                         \n",
              "==============================================================================\n",
              "                 coef    std err          z      P>|z|      [0.025      0.975]\n",
              "------------------------------------------------------------------------------\n",
              "ma.L1         -0.6614      0.077     -8.564      0.000      -0.813      -0.510\n",
              "ma.L2         -0.2030      0.072     -2.817      0.005      -0.344      -0.062\n",
              "sigma2      3.557e+09    1.4e-12   2.53e+21      0.000    3.56e+09    3.56e+09\n",
              "===================================================================================\n",
              "Ljung-Box (L1) (Q):                   0.02   Jarque-Bera (JB):                 4.17\n",
              "Prob(Q):                              0.89   Prob(JB):                         0.12\n",
              "Heteroskedasticity (H):               7.45   Skew:                             0.36\n",
              "Prob(H) (two-sided):                  0.00   Kurtosis:                         3.27\n",
              "===================================================================================\n",
              "\n",
              "Warnings:\n",
              "[1] Covariance matrix calculated using the outer product of gradients (complex-step).\n",
              "[2] Covariance matrix is singular or near-singular, with condition number 1.13e+38. Standard errors may be unstable.\n",
              "\"\"\""
            ]
          },
          "metadata": {},
          "execution_count": 28
        }
      ]
    },
    {
      "cell_type": "code",
      "metadata": {
        "colab": {
          "base_uri": "https://localhost:8080/",
          "height": 170
        },
        "id": "7JRqSTqLEC8o",
        "outputId": "064e0b6d-caec-4b7c-b0b8-7bffdfbf0691"
      },
      "source": [
        "'''\n",
        "Predict Test Data\n",
        "'''\n",
        "prediction_dosis_2 = create_prediction_df(model_arima_2, len(test_dosis_2), \n",
        "                                          test_dosis_2, ['Predicted 2nd Dose'])\n",
        "prediction_dosis_2.head(3)"
      ],
      "execution_count": 29,
      "outputs": [
        {
          "output_type": "execute_result",
          "data": {
            "text/html": [
              "<div>\n",
              "<style scoped>\n",
              "    .dataframe tbody tr th:only-of-type {\n",
              "        vertical-align: middle;\n",
              "    }\n",
              "\n",
              "    .dataframe tbody tr th {\n",
              "        vertical-align: top;\n",
              "    }\n",
              "\n",
              "    .dataframe thead th {\n",
              "        text-align: right;\n",
              "    }\n",
              "</style>\n",
              "<table border=\"1\" class=\"dataframe\">\n",
              "  <thead>\n",
              "    <tr style=\"text-align: right;\">\n",
              "      <th></th>\n",
              "      <th>Predicted 2nd Dose</th>\n",
              "    </tr>\n",
              "    <tr>\n",
              "      <th>Unnamed: 0</th>\n",
              "      <th></th>\n",
              "    </tr>\n",
              "  </thead>\n",
              "  <tbody>\n",
              "    <tr>\n",
              "      <th>2021-07-07</th>\n",
              "      <td>1.451702e+07</td>\n",
              "    </tr>\n",
              "    <tr>\n",
              "      <th>2021-07-08</th>\n",
              "      <td>1.464789e+07</td>\n",
              "    </tr>\n",
              "    <tr>\n",
              "      <th>2021-07-09</th>\n",
              "      <td>1.477876e+07</td>\n",
              "    </tr>\n",
              "  </tbody>\n",
              "</table>\n",
              "</div>"
            ],
            "text/plain": [
              "            Predicted 2nd Dose\n",
              "Unnamed: 0                    \n",
              "2021-07-07        1.451702e+07\n",
              "2021-07-08        1.464789e+07\n",
              "2021-07-09        1.477876e+07"
            ]
          },
          "metadata": {},
          "execution_count": 29
        }
      ]
    },
    {
      "cell_type": "code",
      "metadata": {
        "colab": {
          "base_uri": "https://localhost:8080/",
          "height": 390
        },
        "id": "zAqwubobELzr",
        "outputId": "b5dfcf5a-129d-45e7-ab8d-791e2e5e683b"
      },
      "source": [
        "'''\n",
        "Plot Forecasting\n",
        "'''\n",
        "\n",
        "plot_actual_prediction_comparison('2nd Vaccination Dose Data Comparison', train_dosis_2, test_dosis_2, prediction_dosis_2,\n",
        "                                  'Training 2nd Dose', 'Testing 2nd Dose', 'Prediction 2nd Dose')"
      ],
      "execution_count": 30,
      "outputs": [
        {
          "output_type": "display_data",
          "data": {
            "image/png": "[encoded data removed]",
            "text/plain": [
              "<Figure size 864x432 with 1 Axes>"
            ]
          },
          "metadata": {
            "needs_background": "light"
          }
        }
      ]
    },
    {
      "cell_type": "markdown",
      "metadata": {
        "id": "NEH-81YLETV0"
      },
      "source": [
        "## Evaluate Model"
      ]
    },
    {
      "cell_type": "code",
      "metadata": {
        "id": "aSiwYzYjEcFy"
      },
      "source": [
        "def evaluate_model(y_actual, y_prediction):\n",
        "  indicator_r2 = r2_score(y_actual, y_prediction)\n",
        "  indicator_mae = mean_absolute_error(y_actual, y_prediction)\n",
        "  indicator_mse = mean_squared_error(y_actual, y_prediction)\n",
        "  indicator_rmse = indicator_mse ** 0.5\n",
        "  indicator_smape = smape(y_actual, y_prediction)\n",
        "\n",
        "  evaluation_dict = {\n",
        "      'R2': [indicator_r2],\n",
        "      'MAE': [indicator_mae],\n",
        "      'MSE': [indicator_mse],\n",
        "      'RMSE': [indicator_rmse],\n",
        "      'SMAPE': [indicator_smape],\n",
        "  }\n",
        "  df_model_evaluation = pd.DataFrame(data=evaluation_dict)\n",
        "  return df_model_evaluation"
      ],
      "execution_count": 31,
      "outputs": []
    },
    {
      "cell_type": "markdown",
      "metadata": {
        "id": "0f5PnkFCEYd1"
      },
      "source": [
        "### 1st Dose of Vaccination"
      ]
    },
    {
      "cell_type": "code",
      "metadata": {
        "colab": {
          "base_uri": "https://localhost:8080/",
          "height": 78
        },
        "id": "yaafnm3DEhh5",
        "outputId": "52956e07-309c-4cf1-e200-8f89143b7f15"
      },
      "source": [
        "df_arima_1_evaluation = evaluate_model(test_dosis_1, prediction_dosis_1)\n",
        "df_arima_1_evaluation"
      ],
      "execution_count": 32,
      "outputs": [
        {
          "output_type": "execute_result",
          "data": {
            "text/html": [
              "<div>\n",
              "<style scoped>\n",
              "    .dataframe tbody tr th:only-of-type {\n",
              "        vertical-align: middle;\n",
              "    }\n",
              "\n",
              "    .dataframe tbody tr th {\n",
              "        vertical-align: top;\n",
              "    }\n",
              "\n",
              "    .dataframe thead th {\n",
              "        text-align: right;\n",
              "    }\n",
              "</style>\n",
              "<table border=\"1\" class=\"dataframe\">\n",
              "  <thead>\n",
              "    <tr style=\"text-align: right;\">\n",
              "      <th></th>\n",
              "      <th>R2</th>\n",
              "      <th>MAE</th>\n",
              "      <th>MSE</th>\n",
              "      <th>RMSE</th>\n",
              "      <th>SMAPE</th>\n",
              "    </tr>\n",
              "  </thead>\n",
              "  <tbody>\n",
              "    <tr>\n",
              "      <th>0</th>\n",
              "      <td>0.564883</td>\n",
              "      <td>3.056083e+06</td>\n",
              "      <td>1.571142e+13</td>\n",
              "      <td>3.963763e+06</td>\n",
              "      <td>5.838209</td>\n",
              "    </tr>\n",
              "  </tbody>\n",
              "</table>\n",
              "</div>"
            ],
            "text/plain": [
              "         R2           MAE           MSE          RMSE     SMAPE\n",
              "0  0.564883  3.056083e+06  1.571142e+13  3.963763e+06  5.838209"
            ]
          },
          "metadata": {},
          "execution_count": 32
        }
      ]
    },
    {
      "cell_type": "markdown",
      "metadata": {
        "id": "m9I3D6OcEZ1k"
      },
      "source": [
        "### 2nd Dose of Vaccination"
      ]
    },
    {
      "cell_type": "code",
      "metadata": {
        "colab": {
          "base_uri": "https://localhost:8080/",
          "height": 78
        },
        "id": "wJ3kGac3EoQK",
        "outputId": "d5f7f620-44c6-4735-8b26-253f7d428416"
      },
      "source": [
        "df_arima_2_evaluation = evaluate_model(test_dosis_2, prediction_dosis_2)\n",
        "df_arima_2_evaluation"
      ],
      "execution_count": 33,
      "outputs": [
        {
          "output_type": "execute_result",
          "data": {
            "text/html": [
              "<div>\n",
              "<style scoped>\n",
              "    .dataframe tbody tr th:only-of-type {\n",
              "        vertical-align: middle;\n",
              "    }\n",
              "\n",
              "    .dataframe tbody tr th {\n",
              "        vertical-align: top;\n",
              "    }\n",
              "\n",
              "    .dataframe thead th {\n",
              "        text-align: right;\n",
              "    }\n",
              "</style>\n",
              "<table border=\"1\" class=\"dataframe\">\n",
              "  <thead>\n",
              "    <tr style=\"text-align: right;\">\n",
              "      <th></th>\n",
              "      <th>R2</th>\n",
              "      <th>MAE</th>\n",
              "      <th>MSE</th>\n",
              "      <th>RMSE</th>\n",
              "      <th>SMAPE</th>\n",
              "    </tr>\n",
              "  </thead>\n",
              "  <tbody>\n",
              "    <tr>\n",
              "      <th>0</th>\n",
              "      <td>0.122515</td>\n",
              "      <td>3.172247e+06</td>\n",
              "      <td>2.017173e+13</td>\n",
              "      <td>4.491295e+06</td>\n",
              "      <td>14.54504</td>\n",
              "    </tr>\n",
              "  </tbody>\n",
              "</table>\n",
              "</div>"
            ],
            "text/plain": [
              "         R2           MAE           MSE          RMSE     SMAPE\n",
              "0  0.122515  3.172247e+06  2.017173e+13  4.491295e+06  14.54504"
            ]
          },
          "metadata": {},
          "execution_count": 33
        }
      ]
    },
    {
      "cell_type": "markdown",
      "metadata": {
        "id": "DHtdU-bFnrT-"
      },
      "source": [
        "## Forecast Data"
      ]
    },
    {
      "cell_type": "code",
      "metadata": {
        "id": "tsV7lzQ7nxMB"
      },
      "source": [
        "def create_forecasting_df(starting_date, forecast_model, num_periods, forecast_cols_name):\n",
        "  date_list = pd.date_range(starting_date, periods=num_periods).tolist()\n",
        "\n",
        "  df_forecast = pd.DataFrame(forecast_model.predict(n_periods=num_periods), index=date_list)\n",
        "  df_forecast.columns = forecast_cols_name\n",
        "  return df_forecast"
      ],
      "execution_count": 34,
      "outputs": []
    },
    {
      "cell_type": "code",
      "metadata": {
        "id": "-qa5_HyopVOv"
      },
      "source": [
        "def plot_forecasting(chart_title, training_data, forecasting_data,  training_label, forecasting_label):\n",
        "  plt.figure(figsize=(12,6))\n",
        "  plt.plot(training_data, label=training_label)\n",
        "  plt.plot(forecasting_data, label=forecasting_label)\n",
        "  plt.legend(loc='upper left')\n",
        "  plt.title(chart_title)\n",
        "  plt.show()"
      ],
      "execution_count": 35,
      "outputs": []
    },
    {
      "cell_type": "markdown",
      "metadata": {
        "id": "3tgu1ZokntCE"
      },
      "source": [
        "### 1st Dose of Vaccination"
      ]
    },
    {
      "cell_type": "code",
      "metadata": {
        "id": "Sv2PhMdopYCB",
        "colab": {
          "base_uri": "https://localhost:8080/",
          "height": 138
        },
        "outputId": "246a2a53-f040-47d7-bb80-20d780e8d5ba"
      },
      "source": [
        "vaksinasi_1_forecasting = create_forecasting_df(train_dosis_1.index[-1], model_arima_1, \n",
        "                                                365, ['forecast_vaksinasi_1'])\n",
        "vaksinasi_1_forecasting.head(3)"
      ],
      "execution_count": 36,
      "outputs": [
        {
          "output_type": "execute_result",
          "data": {
            "text/html": [
              "<div>\n",
              "<style scoped>\n",
              "    .dataframe tbody tr th:only-of-type {\n",
              "        vertical-align: middle;\n",
              "    }\n",
              "\n",
              "    .dataframe tbody tr th {\n",
              "        vertical-align: top;\n",
              "    }\n",
              "\n",
              "    .dataframe thead th {\n",
              "        text-align: right;\n",
              "    }\n",
              "</style>\n",
              "<table border=\"1\" class=\"dataframe\">\n",
              "  <thead>\n",
              "    <tr style=\"text-align: right;\">\n",
              "      <th></th>\n",
              "      <th>forecast_vaksinasi_1</th>\n",
              "    </tr>\n",
              "  </thead>\n",
              "  <tbody>\n",
              "    <tr>\n",
              "      <th>2021-07-06</th>\n",
              "      <td>3.420933e+07</td>\n",
              "    </tr>\n",
              "    <tr>\n",
              "      <th>2021-07-07</th>\n",
              "      <td>3.488165e+07</td>\n",
              "    </tr>\n",
              "    <tr>\n",
              "      <th>2021-07-08</th>\n",
              "      <td>3.555397e+07</td>\n",
              "    </tr>\n",
              "  </tbody>\n",
              "</table>\n",
              "</div>"
            ],
            "text/plain": [
              "            forecast_vaksinasi_1\n",
              "2021-07-06          3.420933e+07\n",
              "2021-07-07          3.488165e+07\n",
              "2021-07-08          3.555397e+07"
            ]
          },
          "metadata": {},
          "execution_count": 36
        }
      ]
    },
    {
      "cell_type": "code",
      "metadata": {
        "id": "4rXf46_Ppbmo",
        "colab": {
          "base_uri": "https://localhost:8080/",
          "height": 390
        },
        "outputId": "505c47e8-a3b0-4193-a0c8-a8835cf81c38"
      },
      "source": [
        "plot_forecasting('Vaksinasi 1 Forecasting', train_dosis_1, vaksinasi_1_forecasting,  'Actual Training Data', 'Forecasting Data')"
      ],
      "execution_count": 37,
      "outputs": [
        {
          "output_type": "display_data",
          "data": {
            "image/png": "[encoded data removed]",
            "text/plain": [
              "<Figure size 864x432 with 1 Axes>"
            ]
          },
          "metadata": {
            "needs_background": "light"
          }
        }
      ]
    },
    {
      "cell_type": "code",
      "metadata": {
        "id": "W4PfTGFIppgr",
        "colab": {
          "base_uri": "https://localhost:8080/"
        },
        "outputId": "d031d081-6b8c-4ad0-daef-7b78f173cd4d"
      },
      "source": [
        "date_target_achieved_1 = vaksinasi_1_forecasting.index[vaksinasi_1_forecasting.forecast_vaksinasi_1 >= 208e6].tolist()[0]\n",
        "\n",
        "print('The 1st dose of vaccination target is reached by date:', date_target_achieved_1.date())"
      ],
      "execution_count": 38,
      "outputs": [
        {
          "output_type": "stream",
          "text": [
            "The 1st dose of vaccination target is reached by date: 2022-03-22\n"
          ],
          "name": "stdout"
        }
      ]
    },
    {
      "cell_type": "markdown",
      "metadata": {
        "id": "PdtxqBh6nvXh"
      },
      "source": [
        "### 2nd Dose of Vaccination"
      ]
    },
    {
      "cell_type": "code",
      "metadata": {
        "id": "gBCcR7QOpwD9",
        "colab": {
          "base_uri": "https://localhost:8080/",
          "height": 138
        },
        "outputId": "395c50d7-8ae3-4526-ac0e-e72635923b55"
      },
      "source": [
        "vaksinasi_2_forecasting = create_forecasting_df(train_dosis_2.index[-1], model_arima_2, \n",
        "                                                3650, ['forecast_vaksinasi_2'])\n",
        "vaksinasi_2_forecasting.head(3)"
      ],
      "execution_count": 39,
      "outputs": [
        {
          "output_type": "execute_result",
          "data": {
            "text/html": [
              "<div>\n",
              "<style scoped>\n",
              "    .dataframe tbody tr th:only-of-type {\n",
              "        vertical-align: middle;\n",
              "    }\n",
              "\n",
              "    .dataframe tbody tr th {\n",
              "        vertical-align: top;\n",
              "    }\n",
              "\n",
              "    .dataframe thead th {\n",
              "        text-align: right;\n",
              "    }\n",
              "</style>\n",
              "<table border=\"1\" class=\"dataframe\">\n",
              "  <thead>\n",
              "    <tr style=\"text-align: right;\">\n",
              "      <th></th>\n",
              "      <th>forecast_vaksinasi_2</th>\n",
              "    </tr>\n",
              "  </thead>\n",
              "  <tbody>\n",
              "    <tr>\n",
              "      <th>2021-07-06</th>\n",
              "      <td>1.451702e+07</td>\n",
              "    </tr>\n",
              "    <tr>\n",
              "      <th>2021-07-07</th>\n",
              "      <td>1.464789e+07</td>\n",
              "    </tr>\n",
              "    <tr>\n",
              "      <th>2021-07-08</th>\n",
              "      <td>1.477876e+07</td>\n",
              "    </tr>\n",
              "  </tbody>\n",
              "</table>\n",
              "</div>"
            ],
            "text/plain": [
              "            forecast_vaksinasi_2\n",
              "2021-07-06          1.451702e+07\n",
              "2021-07-07          1.464789e+07\n",
              "2021-07-08          1.477876e+07"
            ]
          },
          "metadata": {},
          "execution_count": 39
        }
      ]
    },
    {
      "cell_type": "code",
      "metadata": {
        "id": "7a0FF3PfpwQC",
        "colab": {
          "base_uri": "https://localhost:8080/",
          "height": 390
        },
        "outputId": "77cdc574-8459-4924-f3de-e3a941b7b823"
      },
      "source": [
        "plot_forecasting('Vaksinasi 2 Forecasting', train_dosis_2, vaksinasi_2_forecasting,  'Actual Training Data', 'Forecasting Data')"
      ],
      "execution_count": 40,
      "outputs": [
        {
          "output_type": "display_data",
          "data": {
            "image/png": "[encoded data removed]",
            "text/plain": [
              "<Figure size 864x432 with 1 Axes>"
            ]
          },
          "metadata": {
            "needs_background": "light"
          }
        }
      ]
    },
    {
      "cell_type": "code",
      "metadata": {
        "id": "lEkpGegSpyGH",
        "colab": {
          "base_uri": "https://localhost:8080/"
        },
        "outputId": "844c4b9c-92e3-4e57-afb4-27a3ecb510d9"
      },
      "source": [
        "date_target_achieved_2 = vaksinasi_2_forecasting.index[vaksinasi_2_forecasting.forecast_vaksinasi_2 >= 208e6].tolist()[0]\n",
        "\n",
        "print('The 2nd dose of vaccination target is reached by date:', date_target_achieved_2.date())"
      ],
      "execution_count": 41,
      "outputs": [
        {
          "output_type": "stream",
          "text": [
            "The 2nd dose of vaccination target is reached by date: 2025-07-24\n"
          ],
          "name": "stdout"
        }
      ]
    },
    {
      "cell_type": "markdown",
      "metadata": {
        "id": "MlMsdLzbtpqN"
      },
      "source": [
        "## References\n",
        "\n",
        "*   A. Sulasikin, Y. Nugraha, J. Kanggrawan and A. L. Suherman, \"Forecasting for a data-driven policy using time series methods in handling COVID-19 pandemic in Jakarta,\" 2020 IEEE International Smart Cities Conference (ISC2), 2020, pp. 1-6, doi: 10.1109/ISC251055.2020.9239066\n",
        "*   https://machinelearningmastery.com/time-series-data-stationary-python/\n",
        "*   https://towardsdatascience.com/time-series-forecasting-using-auto-arima-in-python-bb83e49210cd\n",
        "*   https://www.kaggle.com/sumi25/understand-arima-and-tune-p-d-q#Forecast-modeling---ARIMA\n",
        "*   https://money.kompas.com/read/2021/08/18/161853026/berubah-jadi-endemi-pemerintah-kejar-target-vaksinasi-ke-208-juta-jiwa"
      ]
    }
  ]
}